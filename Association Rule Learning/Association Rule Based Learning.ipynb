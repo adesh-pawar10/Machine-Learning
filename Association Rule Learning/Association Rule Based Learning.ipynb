{
 "cells": [
  {
   "cell_type": "markdown",
   "id": "f8a2ea5a-829a-406b-98df-177d4f502573",
   "metadata": {},
   "source": [
    "<h1 style = \"color : dodgerblue\"> Association Rule Based Learning </h1>"
   ]
  },
  {
   "cell_type": "markdown",
   "id": "ca39f888-fe41-4ef6-92ee-316a93d52dbc",
   "metadata": {},
   "source": [
    "* Association rule-based learning is a key concept in machine learning, particularly within data mining, and is used to discover relationships between variables in large datasets.\n",
    "\n",
    "* The classic application is in market basket analysis, where the aim is to identify which products are frequently bought together.\n",
    "\n",
    "* It's particularly useful for analyzing transactional data, such as retail sales, web clickstreams, or medical records."
   ]
  },
  {
   "cell_type": "markdown",
   "id": "ea51653c-84b9-460f-a38f-d46b9945046f",
   "metadata": {},
   "source": [
    "<h2 style = \"color : DeepSkyBlue\"> Definition </h2>"
   ]
  },
  {
   "cell_type": "markdown",
   "id": "ce34f2df-1547-4a9e-857c-adbc85f05bce",
   "metadata": {},
   "source": [
    "<b style = \"color : orangered\">Association rule-based learning uncovers rules in the form:</b>\n",
    "\n",
    "If X, \n",
    "then Y\n",
    "\n",
    "Here:\n",
    "\n",
    "* X (antecedent) and Y (consequent) are sets of items.\n",
    "\n",
    "* The rule implies that whenever X occurs, Y is likely to occur as well.\n",
    "\n",
    "For example:\n",
    "\n",
    "* <b>Rule:</b> If a customer buys bread and butter, they also buy milk."
   ]
  },
  {
   "cell_type": "markdown",
   "id": "edb5ec0c-ff04-4b8a-98e6-be973a5a55fc",
   "metadata": {},
   "source": [
    "<h2 style = \"color : DeepSkyBlue\"> Key Concepts: </h2>"
   ]
  },
  {
   "cell_type": "markdown",
   "id": "bbbccee3-1ecc-4665-9aa5-990c0039aec2",
   "metadata": {},
   "source": [
    "<b style = \"color : orangered\"> 1. Itemset: </b> \n",
    "\n",
    "* A collection of one or more items (e.g., {bread, butter}).\n",
    "\n",
    "<b style = \"color : orangered\"> 2. Support: </b> \n",
    "\n",
    "* Measures how frequently an itemset occurs in the dataset.\n",
    "\n",
    "Support(X) = Number of transactions containing X / Total number of transactions\n",
    "\n",
    "<b style = \"color : orangered\"> 3. Confidence: </b> \n",
    "\n",
    "* Measures the likelihood of Y occurring given X has occurred.\n",
    "\n",
    "Confidence(X → Y) = Support(X ∪ Y) / Support(X)\n",
    "\n",
    "<b style = \"color : orangered\"> 4. Lift: </b> \n",
    "\n",
    "* Measures the strength of a rule compared to random co-occurrence.\n",
    "\n",
    "Lift(X → Y) = Support(X ∪ Y) / Support(X) × Support(Y)\n",
    "\n",
    "<b style = \"color : orangered\"> 5. Leverage: </b> \n",
    "\n",
    "* Quantifies the difference between observed and expected co-occurrences.\n",
    "\n",
    "Leverage(X → Y) = Support(X ∪ Y) − (Support(X) × Support(Y))"
   ]
  },
  {
   "cell_type": "markdown",
   "id": "d6d1d462-2d3a-4f45-86ff-f89d57b3b2a7",
   "metadata": {},
   "source": [
    "<h2 style = \"color : DeepSkyBlue\"> Process of Association Rule Mining </h2>"
   ]
  },
  {
   "cell_type": "markdown",
   "id": "674e4fc5-70a9-4e8e-88b9-293a30a6bc72",
   "metadata": {},
   "source": [
    "<h3 style = \"color : CadetBlue\"> 1. Data Preprocessing: </h3>"
   ]
  },
  {
   "cell_type": "markdown",
   "id": "a919244f-7dee-4acd-b9dc-43277876ed9b",
   "metadata": {},
   "source": [
    "* Clean and structure the data.\n",
    "\n",
    "* Convert transactional data into a format like a binary matrix where rows are transactions and columns are items."
   ]
  },
  {
   "cell_type": "markdown",
   "id": "d7e5e2ef-baa3-4add-8a6d-750381ed4e39",
   "metadata": {},
   "source": [
    "<h3 style = \"color : CadetBlue\"> 2. Frequent Itemset Generation: </h3>"
   ]
  },
  {
   "cell_type": "markdown",
   "id": "f8af54db-7ed3-40e3-9fef-52ddadaf097a",
   "metadata": {},
   "source": [
    "* Identify sets of items that meet a minimum support threshold.\n",
    "\n",
    "* Algorithms:\n",
    "\n",
    "    <b style = \"color : orangered\"> 1. Apriori Algorithm: </b> Builds itemsets incrementally by pruning those that don't meet the support threshold.\n",
    "    \n",
    "    <b style = \"color : orangered\"> 2. FP-Growth Algorithm: </b> Constructs a tree to represent frequent itemsets, avoiding the candidate generation step in Apriori."
   ]
  },
  {
   "cell_type": "markdown",
   "id": "466b650e-0cac-49c9-bbe7-b38f5c7b1bda",
   "metadata": {},
   "source": [
    "<h3 style = \"color : CadetBlue\"> 3. Rule Generation: </h3>"
   ]
  },
  {
   "cell_type": "markdown",
   "id": "78b88a47-e1b2-4742-aab7-5568ac726149",
   "metadata": {},
   "source": [
    "* From the frequent itemsets, generate rules that satisfy minimum confidence and lift thresholds."
   ]
  },
  {
   "cell_type": "markdown",
   "id": "56401d12-d6c7-401f-9a4e-59c9c08e4f4a",
   "metadata": {},
   "source": [
    "<h2 style = \"color : DeepSkyBlue\"> Applications </h2>"
   ]
  },
  {
   "cell_type": "markdown",
   "id": "10aefad6-e823-4dc2-93a7-3007326b0e3d",
   "metadata": {},
   "source": [
    "<b style = \"color : orangered\"> 1. Market Basket Analysis: </b> \n",
    "\n",
    "* Retailers identify product bundling opportunities.\n",
    "\n",
    "<b style = \"color : orangered\"> 2. Medical Diagnosis: </b>\n",
    "\n",
    "* Discover associations between symptoms and diseases.\n",
    "\n",
    "<b style = \"color : orangered\"> 3. Web Usage Mining: </b> \n",
    "\n",
    "* Understand user navigation patterns to improve website design.\n",
    "\n",
    "<b style = \"color : orangered\"> 4. Fraud Detection: </b>\n",
    "\n",
    "* Spot patterns indicative of fraudulent activity."
   ]
  },
  {
   "cell_type": "markdown",
   "id": "2c6a042d-bde4-4911-9de0-d0fa66c3d310",
   "metadata": {},
   "source": [
    "<h2 style = \"color : DeepSkyBlue\"> Example: Market Basket Analysis </h2>"
   ]
  },
  {
   "attachments": {
    "cb0a4d7b-d710-4b6e-8a14-c6e81fc80793.png": {
     "image/png": "[encoded data removed]"
    }
   },
   "cell_type": "markdown",
   "id": "7aa270d0-1ea2-4553-96f5-321f7d370e8e",
   "metadata": {},
   "source": [
    "![image.png](attachment:cb0a4d7b-d710-4b6e-8a14-c6e81fc80793.png)"
   ]
  },
  {
   "cell_type": "markdown",
   "id": "c3e49d3a-5dcd-4223-8ad1-6136cc802bcc",
   "metadata": {},
   "source": [
    "<h3 style = \"color : royalblue\"> Step 1: Frequent Itemset Generation </h3>\n",
    "\n",
    "* Minimum Support = 0.6\n",
    "\n",
    "* Frequent Itemsets:\n",
    "\n",
    "    {Milk} (Support = 4/5 = 0.8),\n",
    "\n",
    "    {Bread} (Support = 4/5 = 0.8),\n",
    "\n",
    "    {Butter} (Support = 3/5 = 0.6),\n",
    "\n",
    "    {Milk, Bread} (Support = 3/5 = 0.6),\n",
    "\n",
    "    {Milk, Butter} (Support = 3/5 = 0.6)."
   ]
  },
  {
   "cell_type": "markdown",
   "id": "26ebe0a1-ba9e-4af4-be00-ff1fba8f0cd0",
   "metadata": {},
   "source": [
    "<h3 style = \"color : royalblue\"> Step 2: Rule Generation </h3>\n",
    "\n",
    "From {Milk, Bread}:\n",
    "\n",
    "* Rule: Milk → Bread\n",
    "\n",
    "    * Confidence = Support(Milk ∪ Bread) / Support(Milk) = 0.6 / 0.8 = 0.75.\n",
    "    \n",
    "    * Lift = Confidence / Support(Bread) = 0.75 / 0.8 = 0.9375 (Not a strong rule)."
   ]
  },
  {
   "cell_type": "markdown",
   "id": "ec2d727f-3996-4bfe-846c-dd2fed410e3b",
   "metadata": {},
   "source": [
    "<h2 style = \"color : DeepSkyBlue\"> Advantages </h2>"
   ]
  },
  {
   "cell_type": "markdown",
   "id": "2e131cc4-a284-4776-b066-98ed6ba9d2c1",
   "metadata": {},
   "source": [
    "* Easy interpretability of rules.\n",
    "\n",
    "* Useful in decision-making (e.g., product placement or recommendation systems)."
   ]
  },
  {
   "cell_type": "markdown",
   "id": "aaad1304-220d-4d7c-8838-cdb47c49a2dc",
   "metadata": {},
   "source": [
    "<h2 style = \"color : DeepSkyBlue\"> Challenges </h2>"
   ]
  },
  {
   "cell_type": "markdown",
   "id": "8465d579-def0-45c4-b88b-2f0a247b47c2",
   "metadata": {},
   "source": [
    "<b style = \"color : coral\"> 1. Scalability: </b> For large datasets, rule generation can be computationally expensive.\n",
    "\n",
    "<b style = \"color : coral\"> 2. Redundancy: </b> Many generated rules might be trivial or irrelevant.\n",
    "\n",
    "<b style = \"color : coral\"> 3. Threshold Sensitivity: </b> Requires careful tuning of support, confidence, and lift thresholds to balance rule quality and quantity."
   ]
  },
  {
   "cell_type": "markdown",
   "id": "e8df5670-b119-44d0-ab7a-e6ebc31ffb41",
   "metadata": {},
   "source": [
    "<b style = \"color : cyan; font-size : 25px\"> Association rule-based learning is a fundamental tool in exploratory data analysis, offering insights into hidden patterns that might not be apparent at first glance. </b>"
   ]
  },
  {
   "cell_type": "code",
   "execution_count": null,
   "id": "79b98bcc-ac84-4281-b409-8d5161de7c5c",
   "metadata": {},
   "outputs": [],
   "source": []
  }
 ],
 "metadata": {
  "kernelspec": {
   "display_name": "Python 3 (ipykernel)",
   "language": "python",
   "name": "python3"
  },
  "language_info": {
   "codemirror_mode": {
    "name": "ipython",
    "version": 3
   },
   "file_extension": ".py",
   "mimetype": "text/x-python",
   "name": "python",
   "nbconvert_exporter": "python",
   "pygments_lexer": "ipython3",
   "version": "3.13.0"
  }
 },
 "nbformat": 4,
 "nbformat_minor": 5
}
