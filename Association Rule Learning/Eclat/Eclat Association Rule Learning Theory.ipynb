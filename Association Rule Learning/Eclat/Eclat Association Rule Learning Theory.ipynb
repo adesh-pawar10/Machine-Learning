{
 "cells": [
  {
   "cell_type": "markdown",
   "id": "6cb8bb7c-04d8-4f0d-9e30-38303ee89606",
   "metadata": {},
   "source": [
    "<h1 style = \"color : dodgerblue\"> Eclat Association Rule Learning </h1>"
   ]
  },
  {
   "cell_type": "markdown",
   "id": "6896955f-2c13-4159-882a-ba9ac794f4a0",
   "metadata": {},
   "source": [
    "<h2 style = \"color : DeepSkyBlue\"> An Overview of Eclat Association Rule Learning </h2>"
   ]
  },
  {
   "cell_type": "markdown",
   "id": "ac1ad6c9-de9b-4905-9346-52847cd588bc",
   "metadata": {},
   "source": [
    "* The Eclat (Equivalence Class Transformation) algorithm is an association rule learning method used in data mining to discover frequent itemsets.\n",
    "\n",
    "* Unlike the Apriori algorithm, which uses a breadth-first search (BFS) approach, Eclat employs a depth-first search (DFS) approach, making it faster and more memory-efficient in certain scenarios.\n",
    "\n",
    "* Eclat works by analyzing the vertical data format, where each item is associated with the list of transaction IDs (TIDs) containing it."
   ]
  },
  {
   "attachments": {},
   "cell_type": "markdown",
   "id": "72b31a8e-9872-4854-b83c-34a47ef82f15",
   "metadata": {},
   "source": [
    "<h2 style = \"color : DeepSkyBlue\"> How Eclat Works </h2>"
   ]
  },
  {
   "cell_type": "markdown",
   "id": "bdb2a538-e4dd-42d5-b24a-b4e0df174cfe",
   "metadata": {},
   "source": [
    "<h3 style = \"color : Royalblue\"> 1. Key Concepts </h3>"
   ]
  },
  {
   "cell_type": "markdown",
   "id": "546bc83f-0d86-4223-83df-a7d3067fb8c3",
   "metadata": {},
   "source": [
    "<b>Frequent Itemsets:</b>\n",
    "\n",
    "* Sets of items that appear together in transactions more frequently than a given minimum support threshold.\n",
    "\n",
    "<b>Support:</b> \n",
    "\n",
    "* Measures the fraction of transactions containing a particular itemset.\n",
    "    \n",
    "Support(X) = Number of transactions containing X / Total number of transactions \n",
    "\n",
    "<b>TID List:</b>\n",
    "\n",
    "* A vertical representation of the dataset where each item is mapped to the list of transactions (IDs) it appears in."
   ]
  },
  {
   "cell_type": "markdown",
   "id": "dbaf2495-8143-4116-9599-b52e88d96458",
   "metadata": {},
   "source": [
    "<h3 style = \"color : Royalblue\"> 2. Algorithm Steps </h3>"
   ]
  },
  {
   "cell_type": "markdown",
   "id": "d2e5224e-277e-469e-ac78-54be19605186",
   "metadata": {},
   "source": [
    "<b style = \"color : orangered\">Eclat finds frequent itemsets using the intersection of</b> <b>TID lists.</b>  <b style = \"color : orangered\">and It proceeds in the following steps:</b>"
   ]
  },
  {
   "cell_type": "markdown",
   "id": "d6d5ac58-66f0-4781-9381-5cb1cd6d87c9",
   "metadata": {},
   "source": [
    "<h4 style = \"color : #FF6700\"> Step 1: Data Representation </h4>"
   ]
  },
  {
   "cell_type": "markdown",
   "id": "4375d67a-93f6-49a4-bff6-5593d2df056f",
   "metadata": {},
   "source": [
    "<b style = \"color : #FA8072\"> Convert the dataset from horizontal to vertical format: </b>\n",
    "\n",
    "* <b>Horizontal Format:</b> Each transaction lists the items it contains.\n",
    "\n",
    "* <b>Vertical Format:</b> Each item is associated with a list of transaction IDs where it appears."
   ]
  },
  {
   "cell_type": "markdown",
   "id": "d37ed14f-eec1-4a61-a5cc-f8f2e0658b0f",
   "metadata": {},
   "source": [
    "<b style = \"color : coral\"> Example </b>"
   ]
  },
  {
   "attachments": {
    "82a84542-02c1-43bd-9242-2710109a165b.png": {
     "image/png": "[encoded data removed]"
    }
   },
   "cell_type": "markdown",
   "id": "16f5d3bd-4dd8-4aa4-8b13-1d98c6b50b93",
   "metadata": {},
   "source": [
    "![image.png](attachment:82a84542-02c1-43bd-9242-2710109a165b.png)"
   ]
  },
  {
   "cell_type": "markdown",
   "id": "a91df01a-2f89-45fd-a5c7-2389f7740f11",
   "metadata": {},
   "source": [
    "* <b>Vertical Format:</b>\n",
    "\n",
    "  * Milk → {1, 3, 5}\n",
    "\n",
    "  * Bread → {1, 2, 4, 5}\n",
    "    \n",
    "  * Butter → {2, 3}"
   ]
  },
  {
   "cell_type": "markdown",
   "id": "ea43c089-bac7-45c5-9578-aa0074e89bb1",
   "metadata": {},
   "source": [
    "<h4 style = \"color : #FF6700\"> Step 2: Frequent 1-Itemsets </h4>"
   ]
  },
  {
   "cell_type": "markdown",
   "id": "eeb44423-e38e-47ea-a338-4ad3c3cf9246",
   "metadata": {},
   "source": [
    "* Calculate the support for each item using the length of its TID list.\n",
    "\n",
    "* Example:\n",
    "\n",
    "    * Milk: Support = 3/5 = 0.6 (frequent if min support = 0.5)\n",
    "    \n",
    "    * Bread : Support = 4/5 = 0.8 (frequent)\n",
    " \n",
    "    * Butter : Support = 2/5 = 0.4 (not frequent if min support = 0.5)"
   ]
  },
  {
   "cell_type": "markdown",
   "id": "620f3366-28a1-4cab-ad58-9878bc1e9fce",
   "metadata": {},
   "source": [
    "<h4 style = \"color : #FF6700\"> Step 3: Frequent k-Itemsets (k > 1) </h4>"
   ]
  },
  {
   "cell_type": "markdown",
   "id": "a0ed270c-16d4-4f35-a6cc-ce4ed03e219c",
   "metadata": {},
   "source": [
    "* Combine frequent itemsets to generate candidate itemsets.\n",
    "\n",
    "* For each combination, intersect their TID lists to calculate the support of the new itemset.\n",
    "\n",
    "* Example:\n",
    "\n",
    "    * For {Milk, Bread} :\n",
    "        * TID(Milk) = {1, 3, 5}\n",
    "        * TID(Bread) = {1, 2, 4, 5}\n",
    "        * Intersection : TID({Milk, Bread}) = {1, 5}\n",
    "        * Support = 2/5 = 0.4 (not frequent if min support = 0.5)"
   ]
  },
  {
   "cell_type": "markdown",
   "id": "ee097447-2a11-4c47-8251-e70fa1d9d942",
   "metadata": {},
   "source": [
    "<h4 style = \"color : #FF6700\"> Step 4: Recursive Depth-First Search </h4>"
   ]
  },
  {
   "cell_type": "markdown",
   "id": "beeff094-ad06-44e9-a26e-1ee06ede9998",
   "metadata": {},
   "source": [
    "* Continue generating larger itemsets by recursively intersecting TID lists of smaller frequent itemsets.\n",
    "\n",
    "* Stop when no further frequent itemsets can be found."
   ]
  },
  {
   "cell_type": "markdown",
   "id": "41fd0efb-2f57-4411-9459-595152f13a02",
   "metadata": {},
   "source": [
    "<h3 style = \"color : Royalblue\"> 3. Rule Generation </h3>"
   ]
  },
  {
   "cell_type": "markdown",
   "id": "b26b9f0b-b9c4-412c-b152-a98b82ba54e1",
   "metadata": {},
   "source": [
    "* Once frequent itemsets are identified, generate association rules using metrics like <b>confidence</b> and <b>lift</b>."
   ]
  },
  {
   "cell_type": "markdown",
   "id": "29583c61-0df0-4e25-a3b0-4b091672b608",
   "metadata": {},
   "source": [
    "<h2 style = \"color : DeepSkyBlue\"> Advantages of Eclat Algorithm </h2>"
   ]
  },
  {
   "cell_type": "markdown",
   "id": "aca0fd2d-fb82-44b9-8a05-eae405937eba",
   "metadata": {},
   "source": [
    "<b style = \"color : orangered\"> 1. Efficient Memory Usage: </b>\n",
    "\n",
    "* Uses a vertical representation of the dataset, which can be more memory-efficient than Apriori's horizontal approach.\n",
    "\n",
    "<b style = \"color : orangered\"> 2. Faster Execution: </b>\n",
    "\n",
    "* Avoids generating candidate itemsets explicitly, relying on TID list intersections instead.\n",
    "\n",
    "<b style = \"color : orangered\"> 3. Scalability: </b>\n",
    "\n",
    "* Performs well for dense datasets with many overlapping transactions.\n",
    "\n",
    "<b style = \"color : orangered\"> 4. Recursive Structure: </b>\n",
    "\n",
    "* Depth-first search reduces the need for storing intermediate results."
   ]
  },
  {
   "cell_type": "markdown",
   "id": "e30d0243-72be-4e28-b84c-cf1763e5884c",
   "metadata": {},
   "source": [
    "<h2 style = \"color : DeepSkyBlue\"> Challenges of Eclat Algorithm </h2>"
   ]
  },
  {
   "cell_type": "markdown",
   "id": "5439eea6-7033-4a94-8085-4330d4c372d2",
   "metadata": {},
   "source": [
    "<b style = \"color : orangered\"> 1. Dataset Size: </b>\n",
    "\n",
    "* For very large datasets, TID lists can become too large to handle efficiently.\n",
    "\n",
    "<b style = \"color : orangered\"> 2. Complexity for Sparse Data: </b>\n",
    "\n",
    "* If datasets are sparse (few transactions share items), TID list intersections can become inefficient.\n",
    "\n",
    "<b style = \"color : orangered\"> 3. Threshold Sensitivity: </b>\n",
    "\n",
    "* Choosing the right minimum support threshold is crucial to avoid generating too many or too few itemsets."
   ]
  },
  {
   "cell_type": "markdown",
   "id": "b8b11c10-b2b5-44c5-89eb-3c5b9bc99566",
   "metadata": {},
   "source": [
    "<h2 style = \"color : DeepSkyBlue\"> Applications of Eclat Algorithm </h2>"
   ]
  },
  {
   "cell_type": "markdown",
   "id": "6b377430-e638-44b5-b991-aa9e0c3b8b2b",
   "metadata": {},
   "source": [
    "<b style = \"color : orangered\"> 1. Market Basket Analysis: </b>\n",
    "\n",
    "* Identifying frequently co-purchased items in retail transactions.\n",
    "\n",
    "<b style = \"color : orangered\"> 2. Healthcare: </b>\n",
    "\n",
    "* Finding patterns in patient records, such as co-occurring symptoms or drug interactions.\n",
    "\n",
    "<b style = \"color : orangered\"> 3. Web Usage Mining: </b>\n",
    "\n",
    "* Analyzing user clickstream data to discover navigation patterns.\n",
    "\n",
    "<b style = \"color : orangered\"> 4. Fraud Detection: </b>\n",
    "\n",
    "* Detecting unusual combinations of activities in financial transactions.\n",
    "\n",
    "<b style = \"color : orangered\"> 5. Recommendation Systems: </b>\n",
    "\n",
    "* Suggesting products or services based on frequent associations."
   ]
  },
  {
   "cell_type": "markdown",
   "id": "eca6ab49-6e9a-44a1-8786-84d3b45ac1cb",
   "metadata": {},
   "source": [
    "<h2 style = \"color : DeepSkyBlue\"> Example Walkthrough </h2>"
   ]
  },
  {
   "attachments": {
    "a72430b9-8af1-424c-b963-3007d3f202be.png": {
     "image/png": "[encoded data removed]"
    }
   },
   "cell_type": "markdown",
   "id": "8e2c14c1-53cd-4f3b-8b4b-68f6eab979db",
   "metadata": {},
   "source": [
    "![image.png](attachment:a72430b9-8af1-424c-b963-3007d3f202be.png)"
   ]
  },
  {
   "cell_type": "markdown",
   "id": "ec3d55a0-67e1-4d79-88c3-0f57051f623b",
   "metadata": {},
   "source": [
    "<h3 style = \"color : royalblue\"> Step 1: Vertical Representation </h3>\n",
    "\n",
    "* Milk → {1, 2, 3, 5}\n",
    "\n",
    "* Bread → {1, 2, 4, 5}\n",
    "\n",
    "* Butter → {1, 3, 4, 5}"
   ]
  },
  {
   "cell_type": "markdown",
   "id": "bceb1e4f-1859-4e71-8590-f03e741b006d",
   "metadata": {},
   "source": [
    "<h3 style = \"color : royalblue\"> Step 2: Frequent 1-Itemsets </h3>\n",
    "\n",
    "* Calculate support for each:\n",
    "\n",
    "    * Milk : 4/5 = 0.8 (frequent)\n",
    "    \n",
    "    * Bread : 4/5 = 0.8 (frequent)\n",
    "    \n",
    "    * Butter : 4/5 = 0.8 (frequent)"
   ]
  },
  {
   "cell_type": "markdown",
   "id": "aabb51b4-2561-4266-8400-a60f60dbc8f6",
   "metadata": {},
   "source": [
    "<h3 style = \"color : royalblue\"> Step 3: Frequent 2-Itemsets </h3>\n",
    "\n",
    "* Combine and intersect TID lists:\n",
    "\n",
    "    * {Milk, Bread} → {1, 2, 5} (Support = 3/5 = 0.6, frequent).\n",
    "    \n",
    "    * {Milk, Butter} → {1, 3, 5} (Support = 3/5 = 0.6, frequent).\n",
    "    \n",
    "    * {Bread, Butter} → {1, 4, 5} (Support = 3/5 = 0.6, frequent)."
   ]
  },
  {
   "cell_type": "markdown",
   "id": "59f0188c-ae2b-4cc6-a556-0e18dc9be37f",
   "metadata": {},
   "source": [
    "<h3 style = \"color : royalblue\"> Step 4: Frequent 3-Itemsets </h3>\n",
    "\n",
    "* {Milk, Bread, Butter}:\n",
    "\n",
    "  * Intersection: TID(Milk) ∩ TID(Bread) ∩ TID(Butter) = {1, 5}\n",
    "\n",
    "  * Support = 2/5 = 0.4 (not frequent) "
   ]
  },
  {
   "cell_type": "markdown",
   "id": "c671bd04-b15b-4eb0-a97b-039e7b9cc43d",
   "metadata": {},
   "source": [
    "<b style = \"color : Royalblue; font-size : 20px\">Eclat is a powerful algorithm for association rule learning, especially in scenarios where datasets are dense and minimum support thresholds are moderate. Its efficiency and scalability make it an excellent choice for mining frequent patterns in large datasets.</b>"
   ]
  }
 ],
 "metadata": {
  "kernelspec": {
   "display_name": "Python 3 (ipykernel)",
   "language": "python",
   "name": "python3"
  },
  "language_info": {
   "codemirror_mode": {
    "name": "ipython",
    "version": 3
   },
   "file_extension": ".py",
   "mimetype": "text/x-python",
   "name": "python",
   "nbconvert_exporter": "python",
   "pygments_lexer": "ipython3",
   "version": "3.13.0"
  }
 },
 "nbformat": 4,
 "nbformat_minor": 5
}
