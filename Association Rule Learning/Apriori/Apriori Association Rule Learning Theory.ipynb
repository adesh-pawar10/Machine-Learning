{
 "cells": [
  {
   "cell_type": "markdown",
   "id": "6cb8bb7c-04d8-4f0d-9e30-38303ee89606",
   "metadata": {},
   "source": [
    "<h1 style = \"color : dodgerblue\"> Apriori Association Rule Learning </h1>"
   ]
  },
  {
   "cell_type": "markdown",
   "id": "6896955f-2c13-4159-882a-ba9ac794f4a0",
   "metadata": {},
   "source": [
    "<h2 style = \"color : DeepSkyBlue\"> An Overview of Apriori Association Rule Learning </h2>"
   ]
  },
  {
   "cell_type": "markdown",
   "id": "ac1ad6c9-de9b-4905-9346-52847cd588bc",
   "metadata": {},
   "source": [
    "* The Apriori algorithm is a popular association rule learning technique in machine learning and data mining.\n",
    "\n",
    "* It identifies frequent itemsets in transactional datasets and generates association rules based on those itemsets.\n",
    "\n",
    "* This algorithm is especially used in market basket analysis to find relationships between items purchased together."
   ]
  },
  {
   "attachments": {},
   "cell_type": "markdown",
   "id": "72b31a8e-9872-4854-b83c-34a47ef82f15",
   "metadata": {},
   "source": [
    "<h2 style = \"color : DeepSkyBlue\"> How Apriori Works </h2>"
   ]
  },
  {
   "cell_type": "markdown",
   "id": "bdb2a538-e4dd-42d5-b24a-b4e0df174cfe",
   "metadata": {},
   "source": [
    "<h3 style = \"color : Royalblue\"> 1. Key Concepts </h3>"
   ]
  },
  {
   "cell_type": "markdown",
   "id": "546bc83f-0d86-4223-83df-a7d3067fb8c3",
   "metadata": {},
   "source": [
    "<b style = \"color : orangered\"> The Apriori algorithm uses three main metrics: </b>\n",
    "\n",
    "<b>Support:</b> \n",
    "Measures how often an itemset appears in the dataset.\n",
    "    \n",
    "Support(X) = Number of transactions containing X / Total number of transactions\n",
    "\n",
    "<b>Confidence:</b>\n",
    "Measures the likelihood of occurrence of an itemset Y given that itemset X has occurred.\n",
    "\n",
    "Confidence(X → Y) = Support(X ∪ Y) / Support(X)\n",
    "\n",
    "<b>Lift: </b> Measures the strength of the association relative to random chance.\n",
    "\n",
    "Lift(X → Y) = Support(X ∪ Y) / Support(X) × Support(Y)\n",
    "\n",
    "* Lift > 1 indicates a positive association."
   ]
  },
  {
   "cell_type": "markdown",
   "id": "dbaf2495-8143-4116-9599-b52e88d96458",
   "metadata": {},
   "source": [
    "<h3 style = \"color : Royalblue\"> 2. Algorithm Steps </h3>"
   ]
  },
  {
   "cell_type": "markdown",
   "id": "d2e5224e-277e-469e-ac78-54be19605186",
   "metadata": {},
   "source": [
    "<b style = \"color : orangered\">The Apriori algorithm involves two main phases:</b> <b>Frequent Itemset Generation</b> and <b>Rule Generation.</b>"
   ]
  },
  {
   "cell_type": "markdown",
   "id": "d6d5ac58-66f0-4781-9381-5cb1cd6d87c9",
   "metadata": {},
   "source": [
    "<h4 style = \"color : #FF6700\"> Step 1: Frequent Itemset Generation </h4>"
   ]
  },
  {
   "cell_type": "markdown",
   "id": "4375d67a-93f6-49a4-bff6-5593d2df056f",
   "metadata": {},
   "source": [
    "<b style = \"color : #FA8072\"> 1. Set Minimum Support Threshold: </b>\n",
    "\n",
    "* Define a minimum support value to filter itemsets.\n",
    "\n",
    "* Only itemsets meeting this threshold are considered frequent.\n",
    "\n",
    "<b style = \"color : #FA8072\"> 2. Generate Candidate Itemsets: </b>\n",
    "\n",
    "* Start with single items (1-itemsets).\n",
    "\n",
    "* Combine frequent itemsets to generate candidate k-itemsets (itemsets of size k).\n",
    "\n",
    "<b style = \"color : #FA8072\"> 3. Prune Candidates: </b>\n",
    "\n",
    "* Use the <b>Apriori Property:</b> Any subset of a frequent itemset must also be frequent.\n",
    "\n",
    "* If a candidate itemset has a subset that is not frequent, discard the candidate.\n",
    "\n",
    "<b style = \"color : #FA8072\"> 4. Repeat for Larger Itemsets: </b>\n",
    "\n",
    "* Incrementally increase the size of the itemsets (from 1-itemsets to 2-itemsets, etc.) until no further frequent itemsets can be generated."
   ]
  },
  {
   "cell_type": "markdown",
   "id": "076f037b-84cd-4f60-850e-4de98277b51f",
   "metadata": {},
   "source": [
    "<h4 style = \"color : #FF6700\"> Step 2: Rule Generation </h4>"
   ]
  },
  {
   "cell_type": "markdown",
   "id": "aa1e3e6d-0e3f-4777-8124-92d18cc7ffd3",
   "metadata": {},
   "source": [
    "<b style = \"color : #FA8072\"> 1. Generate Association Rules: </b>\n",
    "\n",
    "* For each frequent itemset, generate rules in the form X→Y, where X∪Y = itemset.\n",
    "\n",
    "<b style = \"color : #FA8072\"> 2. Filter Rules: </b>\n",
    "\n",
    "* Apply thresholds for <b>confidence</b> and <b>lift</b> to retain only the most relevant rules."
   ]
  },
  {
   "cell_type": "markdown",
   "id": "e6952b66-51b9-49c2-92f5-8129f4c659cd",
   "metadata": {},
   "source": [
    "<h2 style = \"color : DeepSkyBlue\"> Example of Apriori Algorithm </h2>"
   ]
  },
  {
   "attachments": {
    "3e53e531-1b32-4804-8f77-a8e87ad820e6.png": {
     "image/png": "[encoded data removed]"
    }
   },
   "cell_type": "markdown",
   "id": "fd35e22a-0831-4e66-8dad-b2f232d21e6c",
   "metadata": {},
   "source": [
    "![image.png](attachment:3e53e531-1b32-4804-8f77-a8e87ad820e6.png)"
   ]
  },
  {
   "cell_type": "markdown",
   "id": "5a4e139f-5ae5-42f1-a91d-af2745080798",
   "metadata": {},
   "source": [
    "<h3 style = \"color : royalblue\"> Step 1: Frequent Itemset Generation </h3>\n",
    "\n",
    "<b style = \"color : coral\">1. Set Minimum Support Threshold:</b> 0.6 (60%).\n",
    "\n",
    "<b style = \"color : coral\">2. Generate Frequent 1-Itemsets:</b>\n",
    "\n",
    "* Calculate support for each item:\n",
    "\n",
    "    * {Milk} : 4/5 = 0.8\n",
    "\n",
    "    * {Bread} : 4/5 = 0.8\n",
    "\n",
    "    * {Butter} : 3/5 = 0.6\n",
    " \n",
    "    * {Eggs} : 1/5 = 0.2 (not frequent)\n",
    " \n",
    "<b style = \"color : coral\">3. Generate Frequent 2-Itemsets:</b>\n",
    "\n",
    "* Combine frequent 1-itemsets:\n",
    "\n",
    "  * {Milk, Bread} : 3/5 = 0.6 (frequent)\n",
    "\n",
    "  * {Milk, Butter} : 3/5 = 0.6 (frequent)\n",
    " \n",
    "  * {Bread, Butter} : 3/5 = 0.6 (frequent)\n",
    " \n",
    "<b style = \"color : coral\">4. Generate Frequent 3-Itemsets:</b>\n",
    "\n",
    "* Combine frequent 2-itemsets:\n",
    "\n",
    "  * {Milk, Bread, Butter} : 2/5 = 0.4 (not frequent)\n",
    "\n",
    "* Stop since no larger frequent itemsets can be generated."
   ]
  },
  {
   "cell_type": "markdown",
   "id": "b5ab4ad9-ca73-4127-bd75-c9c07b74c2f4",
   "metadata": {},
   "source": [
    "<h3 style = \"color : royalblue\"> Step 2: Rule Generation </h3>\n",
    "\n",
    "From {Milk, Bread} : \n",
    "\n",
    "* Rule: Milk → Bread\n",
    "\n",
    "  * Confidence : Support(Milk ∪ Bread) / Support(Milk) = 0.6 / 0.8 = 0.75\n",
    "\n",
    "   * Lift: Confidence / Support(Bread) = 0.75/0.8 = 0.9375 (not strong)\n",
    " \n",
    "* Rule: Break → Milk\n",
    "\n",
    "  * Confidence : Support(Milk ∪ Bread) / Support(Bread) = 0.6 / 0.8 = 0.75\n",
    "\n",
    "   * Lift: Confidence / Support(Milk) = 0.75/0.8 = 0.9375"
   ]
  },
  {
   "cell_type": "markdown",
   "id": "29583c61-0df0-4e25-a3b0-4b091672b608",
   "metadata": {},
   "source": [
    "<h2 style = \"color : DeepSkyBlue\"> Advantages </h2>"
   ]
  },
  {
   "cell_type": "markdown",
   "id": "aca0fd2d-fb82-44b9-8a05-eae405937eba",
   "metadata": {},
   "source": [
    "<b style = \"color : orangered\"> 1. Simplicity: </b>\n",
    "\n",
    "* Easy to implement and understand.\n",
    "\n",
    "<b style = \"color : orangered\"> 2. Scalability: </b>\n",
    "\n",
    "* Handles large datasets by incrementally generating itemsets.\n",
    "\n",
    "<b style = \"color : orangered\"> 3. Foundation for Other Algorithms: </b>\n",
    "\n",
    "* Forms the basis for more advanced algorithms like FP-Growth."
   ]
  },
  {
   "cell_type": "markdown",
   "id": "e30d0243-72be-4e28-b84c-cf1763e5884c",
   "metadata": {},
   "source": [
    "<h2 style = \"color : DeepSkyBlue\"> Challenges </h2>"
   ]
  },
  {
   "cell_type": "markdown",
   "id": "5439eea6-7033-4a94-8085-4330d4c372d2",
   "metadata": {},
   "source": [
    "<b style = \"color : orangered\"> 1. Computationally Expensive: </b>\n",
    "\n",
    "* Apriori generates a large number of candidate itemsets, leading to high memory and time requirements.\n",
    "\n",
    "<b style = \"color : orangered\"> 2. Redundancy: </b>\n",
    "\n",
    "* Many generated rules might not be meaningful.\n",
    "\n",
    "<b style = \"color : orangered\"> 3. Threshold Dependency: </b>\n",
    "\n",
    "* The quality of results heavily depends on the chosen support and confidence thresholds."
   ]
  },
  {
   "cell_type": "markdown",
   "id": "b8b11c10-b2b5-44c5-89eb-3c5b9bc99566",
   "metadata": {},
   "source": [
    "<h2 style = \"color : DeepSkyBlue\"> Applications of Apriori Algorithm </h2>"
   ]
  },
  {
   "cell_type": "markdown",
   "id": "6b377430-e638-44b5-b991-aa9e0c3b8b2b",
   "metadata": {},
   "source": [
    "<b style = \"color : orangered\"> 1. Market Basket Analysis: </b>\n",
    "\n",
    "* Identifying frequently bought item combinations.\n",
    "\n",
    "<b style = \"color : orangered\"> 2. Healthcare: </b>\n",
    "\n",
    "* Analyzing patient symptom patterns and drug interactions.\n",
    "\n",
    "<b style = \"color : orangered\"> 3. Web Mining: </b>\n",
    "\n",
    "* Understanding user navigation patterns.\n",
    "\n",
    "<b style = \"color : orangered\"> 4. Fraud Detection: </b>\n",
    "\n",
    "* Spotting unusual transaction patterns.\n",
    "\n",
    "<b style = \"color : orangered\"> 5. Recommendation Systems: </b>\n",
    "\n",
    "* Suggesting related items based on purchase history."
   ]
  },
  {
   "cell_type": "markdown",
   "id": "3d92947b-489b-4e0c-9e6e-285305ce4892",
   "metadata": {},
   "source": [
    "<b style = \"color : Royalblue; font-size : 20px\"> The Apriori algorithm is a cornerstone of association rule mining, offering a straightforward yet powerful approach to uncovering hidden patterns in transactional data. </b>"
   ]
  },
  {
   "cell_type": "code",
   "execution_count": null,
   "id": "bcabc5af-825a-444f-8376-5809bd41b9b3",
   "metadata": {},
   "outputs": [],
   "source": []
  }
 ],
 "metadata": {
  "kernelspec": {
   "display_name": "Python 3 (ipykernel)",
   "language": "python",
   "name": "python3"
  },
  "language_info": {
   "codemirror_mode": {
    "name": "ipython",
    "version": 3
   },
   "file_extension": ".py",
   "mimetype": "text/x-python",
   "name": "python",
   "nbconvert_exporter": "python",
   "pygments_lexer": "ipython3",
   "version": "3.13.0"
  }
 },
 "nbformat": 4,
 "nbformat_minor": 5
}
