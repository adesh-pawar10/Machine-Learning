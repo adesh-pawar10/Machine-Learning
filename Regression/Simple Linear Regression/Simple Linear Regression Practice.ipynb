{
 "cells": [
  {
   "cell_type": "markdown",
   "id": "6ed2e377-8365-4196-8226-980ee1f22a10",
   "metadata": {},
   "source": [
    "<h1 style = \"color : LightSeaGreen\"> Simple Linear Regression </h1>"
   ]
  },
  {
   "cell_type": "markdown",
   "id": "22e8bc41-0997-43b6-a560-ce53f63507e4",
   "metadata": {},
   "source": [
    "<h2 style = \"color : DarkTurquoise\"> Importing Libraries </h2>"
   ]
  },
  {
   "cell_type": "code",
   "execution_count": 3,
   "id": "01c9b3b3-09c7-43c8-ad7a-e1fed5ae335e",
   "metadata": {},
   "outputs": [],
   "source": [
    "import numpy as np\n",
    "import matplotlib.pyplot as plt\n",
    "import pandas as pd"
   ]
  },
  {
   "cell_type": "markdown",
   "id": "cadb11df-3a5d-408b-9d37-dd2f38059e3a",
   "metadata": {},
   "source": [
    "<h2 style = \"color : DarkTurquoise\"> Importing Data Set </h2>"
   ]
  },
  {
   "cell_type": "code",
   "execution_count": 8,
   "id": "b5d70a3a-3798-4179-a446-270778453809",
   "metadata": {},
   "outputs": [],
   "source": [
    "df = pd.read_excel('Salary_Data.xlsx')"
   ]
  },
  {
   "cell_type": "code",
   "execution_count": 10,
   "id": "adba8d49-fb42-4498-a033-a8d7f5387e55",
   "metadata": {},
   "outputs": [
    {
     "data": {
      "text/html": [
       "<div>\n",
       "<style scoped>\n",
       "    .dataframe tbody tr th:only-of-type {\n",
       "        vertical-align: middle;\n",
       "    }\n",
       "\n",
       "    .dataframe tbody tr th {\n",
       "        vertical-align: top;\n",
       "    }\n",
       "\n",
       "    .dataframe thead th {\n",
       "        text-align: right;\n",
       "    }\n",
       "</style>\n",
       "<table border=\"1\" class=\"dataframe\">\n",
       "  <thead>\n",
       "    <tr style=\"text-align: right;\">\n",
       "      <th></th>\n",
       "      <th>years_experience</th>\n",
       "      <th>salary</th>\n",
       "    </tr>\n",
       "  </thead>\n",
       "  <tbody>\n",
       "    <tr>\n",
       "      <th>0</th>\n",
       "      <td>1.0</td>\n",
       "      <td>325000</td>\n",
       "    </tr>\n",
       "    <tr>\n",
       "      <th>1</th>\n",
       "      <td>1.2</td>\n",
       "      <td>361259</td>\n",
       "    </tr>\n",
       "    <tr>\n",
       "      <th>2</th>\n",
       "      <td>1.6</td>\n",
       "      <td>340000</td>\n",
       "    </tr>\n",
       "    <tr>\n",
       "      <th>3</th>\n",
       "      <td>2.0</td>\n",
       "      <td>414101</td>\n",
       "    </tr>\n",
       "    <tr>\n",
       "      <th>4</th>\n",
       "      <td>2.3</td>\n",
       "      <td>405000</td>\n",
       "    </tr>\n",
       "  </tbody>\n",
       "</table>\n",
       "</div>"
      ],
      "text/plain": [
       "   years_experience  salary\n",
       "0               1.0  325000\n",
       "1               1.2  361259\n",
       "2               1.6  340000\n",
       "3               2.0  414101\n",
       "4               2.3  405000"
      ]
     },
     "execution_count": 10,
     "metadata": {},
     "output_type": "execute_result"
    }
   ],
   "source": [
    "# Top 5 data\n",
    "df.head()"
   ]
  },
  {
   "cell_type": "code",
   "execution_count": 12,
   "id": "ecca83f6-bc7f-4ab9-b7ff-39f6c215daa9",
   "metadata": {},
   "outputs": [
    {
     "data": {
      "text/html": [
       "<div>\n",
       "<style scoped>\n",
       "    .dataframe tbody tr th:only-of-type {\n",
       "        vertical-align: middle;\n",
       "    }\n",
       "\n",
       "    .dataframe tbody tr th {\n",
       "        vertical-align: top;\n",
       "    }\n",
       "\n",
       "    .dataframe thead th {\n",
       "        text-align: right;\n",
       "    }\n",
       "</style>\n",
       "<table border=\"1\" class=\"dataframe\">\n",
       "  <thead>\n",
       "    <tr style=\"text-align: right;\">\n",
       "      <th></th>\n",
       "      <th>years_experience</th>\n",
       "      <th>salary</th>\n",
       "    </tr>\n",
       "  </thead>\n",
       "  <tbody>\n",
       "    <tr>\n",
       "      <th>20</th>\n",
       "      <td>6.9</td>\n",
       "      <td>930000</td>\n",
       "    </tr>\n",
       "    <tr>\n",
       "      <th>21</th>\n",
       "      <td>7.1</td>\n",
       "      <td>920000</td>\n",
       "    </tr>\n",
       "    <tr>\n",
       "      <th>22</th>\n",
       "      <td>7.3</td>\n",
       "      <td>910000</td>\n",
       "    </tr>\n",
       "    <tr>\n",
       "      <th>23</th>\n",
       "      <td>7.5</td>\n",
       "      <td>931910</td>\n",
       "    </tr>\n",
       "    <tr>\n",
       "      <th>24</th>\n",
       "      <td>7.7</td>\n",
       "      <td>951010</td>\n",
       "    </tr>\n",
       "  </tbody>\n",
       "</table>\n",
       "</div>"
      ],
      "text/plain": [
       "    years_experience  salary\n",
       "20               6.9  930000\n",
       "21               7.1  920000\n",
       "22               7.3  910000\n",
       "23               7.5  931910\n",
       "24               7.7  951010"
      ]
     },
     "execution_count": 12,
     "metadata": {},
     "output_type": "execute_result"
    }
   ],
   "source": [
    "# Bottom 5 data\n",
    "df.tail()"
   ]
  },
  {
   "cell_type": "code",
   "execution_count": 18,
   "id": "0d0596e0-38c0-43e3-9fbd-aa8141ea065b",
   "metadata": {},
   "outputs": [
    {
     "data": {
      "text/plain": [
       "(25, 2)"
      ]
     },
     "execution_count": 18,
     "metadata": {},
     "output_type": "execute_result"
    }
   ],
   "source": [
    "# columns : 2\n",
    "# rows : 25\n",
    "df.shape"
   ]
  },
  {
   "cell_type": "code",
   "execution_count": 20,
   "id": "3073adbe-bb0d-48a9-a75a-a258559476dc",
   "metadata": {},
   "outputs": [],
   "source": [
    "# Splitting data set into X and Y\n",
    "X = df.iloc[:, :-1].values\n",
    "Y = df.iloc[:, -1].values"
   ]
  },
  {
   "cell_type": "code",
   "execution_count": 22,
   "id": "5eb3dae8-af76-49e3-aa5e-2c6a1ec4023e",
   "metadata": {},
   "outputs": [
    {
     "name": "stdout",
     "output_type": "stream",
     "text": [
      "[[1. ]\n",
      " [1.2]\n",
      " [1.6]\n",
      " [2. ]\n",
      " [2.3]\n",
      " [2.8]\n",
      " [3. ]\n",
      " [3.3]\n",
      " [3.6]\n",
      " [3.6]\n",
      " [4. ]\n",
      " [4.1]\n",
      " [4.4]\n",
      " [4.5]\n",
      " [4.9]\n",
      " [5.1]\n",
      " [5.3]\n",
      " [5.9]\n",
      " [6.1]\n",
      " [6.7]\n",
      " [6.9]\n",
      " [7.1]\n",
      " [7.3]\n",
      " [7.5]\n",
      " [7.7]]\n"
     ]
    }
   ],
   "source": [
    "print(X)"
   ]
  },
  {
   "cell_type": "code",
   "execution_count": 24,
   "id": "d82082d8-4e39-480c-b5f2-405f33cb1770",
   "metadata": {},
   "outputs": [
    {
     "name": "stdout",
     "output_type": "stream",
     "text": [
      "[325000 361259 340000 414101 405000 500000 495000 541000 568190 640000\n",
      " 610000 626710 690101 680000 760000 800000 780000 840000 860000 900000\n",
      " 930000 920000 910000 931910 951010]\n"
     ]
    }
   ],
   "source": [
    "print(Y)"
   ]
  },
  {
   "cell_type": "markdown",
   "id": "7b13b10c-bc74-4e5b-88d3-6743444ffaa0",
   "metadata": {},
   "source": [
    "<h2 style = \"color : DarkTurquoise\"> Splitting into test and training set </h2>"
   ]
  },
  {
   "cell_type": "code",
   "execution_count": 27,
   "id": "7569f7f4-26a0-44f5-9828-a933d80d9f60",
   "metadata": {},
   "outputs": [],
   "source": [
    "from sklearn.model_selection import train_test_split\n",
    "X_train, X_test, y_train, y_test = train_test_split(X, Y, test_size = 0.3, random_state = 42)"
   ]
  },
  {
   "cell_type": "code",
   "execution_count": 30,
   "id": "7e86c2ad-ae1d-4e96-bfca-ed1c8df479db",
   "metadata": {},
   "outputs": [
    {
     "name": "stdout",
     "output_type": "stream",
     "text": [
      "[[7.3]\n",
      " [2.8]\n",
      " [1.6]\n",
      " [4.4]\n",
      " [5.1]\n",
      " [2. ]\n",
      " [2.3]\n",
      " [6.9]\n",
      " [5.9]\n",
      " [7.1]\n",
      " [6.1]\n",
      " [7.7]\n",
      " [3.3]\n",
      " [4. ]\n",
      " [4.9]\n",
      " [6.7]\n",
      " [3. ]]\n",
      "----------------------------------------------------------------------------------------------------\n",
      "[[3.6]\n",
      " [5.3]\n",
      " [1. ]\n",
      " [7.5]\n",
      " [4.1]\n",
      " [3.6]\n",
      " [4.5]\n",
      " [1.2]]\n"
     ]
    }
   ],
   "source": [
    "print(X_train)\n",
    "print('-'*100)\n",
    "print(X_test)"
   ]
  },
  {
   "cell_type": "code",
   "execution_count": 32,
   "id": "147c3ecb-4bb0-4557-b440-d8cd6bf9e41d",
   "metadata": {},
   "outputs": [
    {
     "name": "stdout",
     "output_type": "stream",
     "text": [
      "[910000 500000 340000 690101 800000 414101 405000 930000 840000 920000\n",
      " 860000 951010 541000 610000 760000 900000 495000]\n",
      "----------------------------------------------------------------------------------------------------\n",
      "[568190 780000 325000 931910 626710 640000 680000 361259]\n"
     ]
    }
   ],
   "source": [
    "print(y_train)\n",
    "print('-'*100)\n",
    "print(y_test)"
   ]
  },
  {
   "cell_type": "markdown",
   "id": "27a426cb-05b6-45f6-9c6f-11143a3b5159",
   "metadata": {},
   "source": [
    "<h2 style = \"color : DarkTurquoise\"> Training on Training Set using Simple Linear Regression </h2>"
   ]
  },
  {
   "cell_type": "code",
   "execution_count": 34,
   "id": "7e8127df-07af-47aa-8117-6cfed42c2593",
   "metadata": {},
   "outputs": [
    {
     "data": {
      "text/html": [
       "<style>#sk-container-id-1 {color: black;background-color: white;}#sk-container-id-1 pre{padding: 0;}#sk-container-id-1 div.sk-toggleable {background-color: white;}#sk-container-id-1 label.sk-toggleable__label {cursor: pointer;display: block;width: 100%;margin-bottom: 0;padding: 0.3em;box-sizing: border-box;text-align: center;}#sk-container-id-1 label.sk-toggleable__label-arrow:before {content: \"▸\";float: left;margin-right: 0.25em;color: #696969;}#sk-container-id-1 label.sk-toggleable__label-arrow:hover:before {color: black;}#sk-container-id-1 div.sk-estimator:hover label.sk-toggleable__label-arrow:before {color: black;}#sk-container-id-1 div.sk-toggleable__content {max-height: 0;max-width: 0;overflow: hidden;text-align: left;background-color: #f0f8ff;}#sk-container-id-1 div.sk-toggleable__content pre {margin: 0.2em;color: black;border-radius: 0.25em;background-color: #f0f8ff;}#sk-container-id-1 input.sk-toggleable__control:checked~div.sk-toggleable__content {max-height: 200px;max-width: 100%;overflow: auto;}#sk-container-id-1 input.sk-toggleable__control:checked~label.sk-toggleable__label-arrow:before {content: \"▾\";}#sk-container-id-1 div.sk-estimator input.sk-toggleable__control:checked~label.sk-toggleable__label {background-color: #d4ebff;}#sk-container-id-1 div.sk-label input.sk-toggleable__control:checked~label.sk-toggleable__label {background-color: #d4ebff;}#sk-container-id-1 input.sk-hidden--visually {border: 0;clip: rect(1px 1px 1px 1px);clip: rect(1px, 1px, 1px, 1px);height: 1px;margin: -1px;overflow: hidden;padding: 0;position: absolute;width: 1px;}#sk-container-id-1 div.sk-estimator {font-family: monospace;background-color: #f0f8ff;border: 1px dotted black;border-radius: 0.25em;box-sizing: border-box;margin-bottom: 0.5em;}#sk-container-id-1 div.sk-estimator:hover {background-color: #d4ebff;}#sk-container-id-1 div.sk-parallel-item::after {content: \"\";width: 100%;border-bottom: 1px solid gray;flex-grow: 1;}#sk-container-id-1 div.sk-label:hover label.sk-toggleable__label {background-color: #d4ebff;}#sk-container-id-1 div.sk-serial::before {content: \"\";position: absolute;border-left: 1px solid gray;box-sizing: border-box;top: 0;bottom: 0;left: 50%;z-index: 0;}#sk-container-id-1 div.sk-serial {display: flex;flex-direction: column;align-items: center;background-color: white;padding-right: 0.2em;padding-left: 0.2em;position: relative;}#sk-container-id-1 div.sk-item {position: relative;z-index: 1;}#sk-container-id-1 div.sk-parallel {display: flex;align-items: stretch;justify-content: center;background-color: white;position: relative;}#sk-container-id-1 div.sk-item::before, #sk-container-id-1 div.sk-parallel-item::before {content: \"\";position: absolute;border-left: 1px solid gray;box-sizing: border-box;top: 0;bottom: 0;left: 50%;z-index: -1;}#sk-container-id-1 div.sk-parallel-item {display: flex;flex-direction: column;z-index: 1;position: relative;background-color: white;}#sk-container-id-1 div.sk-parallel-item:first-child::after {align-self: flex-end;width: 50%;}#sk-container-id-1 div.sk-parallel-item:last-child::after {align-self: flex-start;width: 50%;}#sk-container-id-1 div.sk-parallel-item:only-child::after {width: 0;}#sk-container-id-1 div.sk-dashed-wrapped {border: 1px dashed gray;margin: 0 0.4em 0.5em 0.4em;box-sizing: border-box;padding-bottom: 0.4em;background-color: white;}#sk-container-id-1 div.sk-label label {font-family: monospace;font-weight: bold;display: inline-block;line-height: 1.2em;}#sk-container-id-1 div.sk-label-container {text-align: center;}#sk-container-id-1 div.sk-container {/* jupyter's `normalize.less` sets `[hidden] { display: none; }` but bootstrap.min.css set `[hidden] { display: none !important; }` so we also need the `!important` here to be able to override the default hidden behavior on the sphinx rendered scikit-learn.org. See: https://github.com/scikit-learn/scikit-learn/issues/21755 */display: inline-block !important;position: relative;}#sk-container-id-1 div.sk-text-repr-fallback {display: none;}</style><div id=\"sk-container-id-1\" class=\"sk-top-container\"><div class=\"sk-text-repr-fallback\"><pre>LinearRegression()</pre><b>In a Jupyter environment, please rerun this cell to show the HTML representation or trust the notebook. <br />On GitHub, the HTML representation is unable to render, please try loading this page with nbviewer.org.</b></div><div class=\"sk-container\" hidden><div class=\"sk-item\"><div class=\"sk-estimator sk-toggleable\"><input class=\"sk-toggleable__control sk-hidden--visually\" id=\"sk-estimator-id-1\" type=\"checkbox\" checked><label for=\"sk-estimator-id-1\" class=\"sk-toggleable__label sk-toggleable__label-arrow\">LinearRegression</label><div class=\"sk-toggleable__content\"><pre>LinearRegression()</pre></div></div></div></div></div>"
      ],
      "text/plain": [
       "LinearRegression()"
      ]
     },
     "execution_count": 34,
     "metadata": {},
     "output_type": "execute_result"
    }
   ],
   "source": [
    "from sklearn.linear_model import LinearRegression\n",
    "regressor = LinearRegression()\n",
    "regressor.fit(X_train, y_train)"
   ]
  },
  {
   "cell_type": "markdown",
   "id": "1e279548-608f-43ec-8596-c75fe78bea91",
   "metadata": {},
   "source": [
    "<h2 style = \"color : DarkTurquoise\"> Prediction on Test Set </h2>"
   ]
  },
  {
   "cell_type": "code",
   "execution_count": 37,
   "id": "db703e87-d799-43b4-8ebf-6538d082c199",
   "metadata": {},
   "outputs": [],
   "source": [
    "y_pred = regressor.predict(X_test)"
   ]
  },
  {
   "cell_type": "code",
   "execution_count": 39,
   "id": "34cc1c0e-52dd-4b83-851f-2d17d080accb",
   "metadata": {},
   "outputs": [
    {
     "name": "stdout",
     "output_type": "stream",
     "text": [
      "[576760.74423653 752849.9347674  307447.86460109 980730.0636897\n",
      " 628551.68262796 576760.74423653 669984.43334111 328164.23995766]\n"
     ]
    }
   ],
   "source": [
    "print(y_pred)"
   ]
  },
  {
   "cell_type": "markdown",
   "id": "c4190183-9652-43fb-9819-0b441528946b",
   "metadata": {},
   "source": [
    "<h2 style = \"color : DarkTurquoise\"> Visualizing the Training Set </h2>"
   ]
  },
  {
   "cell_type": "code",
   "execution_count": 51,
   "id": "846ba1f6-7c58-4a98-8103-a86ff2f062b2",
   "metadata": {},
   "outputs": [
    {
     "data": {
      "image/png": "[encoded data removed]",
      "text/plain": [
       "<Figure size 640x480 with 1 Axes>"
      ]
     },
     "metadata": {},
     "output_type": "display_data"
    }
   ],
   "source": [
    "plt.scatter(X_train, y_train, color = 'orange')\n",
    "plt.plot(X_train, regressor.predict(X_train), color = 'darkcyan')\n",
    "plt.title('CTC vs years of experience')\n",
    "plt.xlabel('Experience in years')\n",
    "plt.ylabel('CTC')\n",
    "plt.show()"
   ]
  },
  {
   "cell_type": "markdown",
   "id": "a54c9a7b-9370-48e4-8659-cc02484da28d",
   "metadata": {},
   "source": [
    "<h2 style = \"color : DarkTurquoise\"> Visualizing the Test Set </h2>"
   ]
  },
  {
   "cell_type": "code",
   "execution_count": 53,
   "id": "9f4fcda0-1a4c-49e0-82b7-05ea1957492c",
   "metadata": {},
   "outputs": [
    {
     "data": {
      "image/png": "[encoded data removed]",
      "text/plain": [
       "<Figure size 640x480 with 1 Axes>"
      ]
     },
     "metadata": {},
     "output_type": "display_data"
    }
   ],
   "source": [
    "plt.scatter(X_test, y_test, color = 'deepskyblue')\n",
    "plt.plot(X_train, regressor.predict(X_train), color = 'cyan')\n",
    "plt.title('CTC vs years of experience')\n",
    "plt.xlabel('Experience in years')\n",
    "plt.ylabel('CTC')\n",
    "plt.show()"
   ]
  },
  {
   "cell_type": "code",
   "execution_count": null,
   "id": "2d524d5a-d5db-443f-b90d-f519c2ff4f78",
   "metadata": {},
   "outputs": [],
   "source": []
  }
 ],
 "metadata": {
  "kernelspec": {
   "display_name": "Python 3 (ipykernel)",
   "language": "python",
   "name": "python3"
  },
  "language_info": {
   "codemirror_mode": {
    "name": "ipython",
    "version": 3
   },
   "file_extension": ".py",
   "mimetype": "text/x-python",
   "name": "python",
   "nbconvert_exporter": "python",
   "pygments_lexer": "ipython3",
   "version": "3.11.7"
  }
 },
 "nbformat": 4,
 "nbformat_minor": 5
}
