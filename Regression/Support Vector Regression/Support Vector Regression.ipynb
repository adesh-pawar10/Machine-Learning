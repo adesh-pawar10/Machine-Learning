{
 "cells": [
  {
   "cell_type": "markdown",
   "id": "798175a1-7f7f-44b8-85aa-3df7563acad6",
   "metadata": {},
   "source": [
    "<h1 style = \"color : dodgerblue\"> Support Vector Regression </h1>"
   ]
  },
  {
   "cell_type": "markdown",
   "id": "60018a74-4fb9-485d-910a-4a9e5c57a999",
   "metadata": {},
   "source": [
    "<h2 style = \"color : MediumAquamarine\"> What is a Support Vector Machine (SVM)? </h2>"
   ]
  },
  {
   "cell_type": "markdown",
   "id": "7d051b59-07bd-4153-b338-b2422c78b883",
   "metadata": {},
   "source": [
    "* A Support Vector Machine (SVM) is a supervised machine learning algorithm used for classification and regression tasks.\n",
    "\n",
    "* SVM works by finding a hyperplane in a high-dimensional space that best separates data into different classes.\n",
    "\n",
    "* It aims to maximize the margin (the distance between the hyperplane and the nearest data points of each class) while minimizing classification errors.\n",
    "\n",
    "* SVM can handle both linear and non-linear classification problems by using various kernel functions.\n",
    "\n",
    "* It’s widely used in tasks such as image classification, text categorization, and more."
   ]
  },
  {
   "attachments": {},
   "cell_type": "markdown",
   "id": "a87190b3-c7c3-472e-be70-a5f0df197835",
   "metadata": {},
   "source": [
    "* Support vector regression (SVR) is a type of support vector machine (SVM) that is used for regression tasks. It tries to find a function that best predicts the continuous output value for a given input value.\n",
    "\n",
    "* SVR can use both linear and non-linear kernels. A linear kernel is a simple dot product between two input vectors, while a non-linear kernel is a more complex function that can capture more intricate patterns in the data. The choice of kernel depends on the data’s characteristics and the task’s complexity.\n",
    "\n",
    "* In scikit-learn package for Python, you can use the ‘SVR’ class to perform SVR with a linear or non-linear ‘kernel’. To specify the kernel, you can set the kernel parameter to ‘linear’ or ‘RBF’ (radial basis function)."
   ]
  },
  {
   "cell_type": "markdown",
   "id": "bbaf699d-0855-4808-906d-835077edfca1",
   "metadata": {},
   "source": [
    "<h2 style = \"color : MediumAquamarine\"> Concepts related to the Support vector regression (SVR): </h2>"
   ]
  },
  {
   "cell_type": "markdown",
   "id": "9ee1e6d3-db3b-436a-9867-fffc7d1b2553",
   "metadata": {},
   "source": [
    "<b style = \"color : orangered\">There are several concepts related to support vector regression (SVR) that you may want to understand in order to use it effectively. Here are a few of the most important ones:</b>"
   ]
  },
  {
   "attachments": {},
   "cell_type": "markdown",
   "id": "e40a50a9-e395-4907-82e4-c0a4e88bbb14",
   "metadata": {},
   "source": [
    "* <b style = \"color : teal\">Support vector machines (SVMs):</b> SVR is a type of support vector machine (SVM), a supervised learning algorithm that can be used for classification or regression tasks. SVMs try to find the hyperplane in a high-dimensional space that maximally separates different classes or output values.\n",
    "\n",
    "* <b style = \"color : teal\">Kernels:</b> SVR can use different types of kernels, which are functions that determine the similarity between input vectors. A linear kernel is a simple dot product between two input vectors, while a non-linear kernel is a more complex function that can capture more intricate patterns in the data. The choice of kernel depends on the data’s characteristics and the task’s complexity.\n",
    "\n",
    "* <b style = \"color : teal\">Hyperparameters:</b> SVR has several hyperparameters that you can adjust to control the behavior of the model. For example, the ‘C’ parameter controls the trade-off between the insensitive loss and the sensitive loss. A larger value of ‘C’ means that the model will try to minimize the insensitive loss more, while a smaller value of C means that the model will be more lenient in allowing larger errors.\n",
    "\n",
    "* <b style = \"color : teal\">Model evaluation:</b> Like any machine learning model, it’s important to evaluate the performance of an SVR model. One common way to do this is to split the data into a training set and a test set, and use the training set to fit the model and the test set to evaluate it. You can then use metrics like mean squared error (MSE) or mean absolute error (MAE) to measure the error between the predicted and true output values.\n"
   ]
  },
  {
   "cell_type": "markdown",
   "id": "bd282530-4684-484c-9592-af8228fb6ff1",
   "metadata": {},
   "source": [
    "<h2 style = \"color : MediumAquamarine\"> What is the difference between SVM and SVR? </h2>"
   ]
  },
  {
   "cell_type": "markdown",
   "id": "0087c5fe-7a07-4d60-8b11-151edf74e6e3",
   "metadata": {},
   "source": [
    "Support Vector Machines (SVM) and Support Vector Regression (SVR) are supervised learning techniques employed in machine learning with unique functions and features."
   ]
  },
  {
   "cell_type": "markdown",
   "id": "2fafa840-1177-4889-b34f-8391e62b79bd",
   "metadata": {},
   "source": [
    "<b style = \"color : orangered\">Key Differences:</b>\n",
    "\n",
    "* Support Vector Machine (SVM) is mostly utilized for tasks involving classification. The goal is to locate the best hyperplane that divides distinct classes within the feature space. The objective is to increase the distance between the nearest points of distinct classes, which are referred to as support vectors.\n",
    "\n",
    "* SVR is utilized for tasks involving regression. It forecasts values that are continual instead of distinct category labels. SVR aims to maximize the number of data points fitting within a given margin of tolerance (epsilon) while reducing errors outside this range."
   ]
  },
  {
   "cell_type": "markdown",
   "id": "2311d575-5684-4fd3-807c-ae6ab30d23d6",
   "metadata": {},
   "source": [
    "-----------------------------------------------------------------------------------------------------------------------------------------------------------\n",
    "-----------------------------------------------------------------------------------------------------------------------------------------------------------"
   ]
  },
  {
   "cell_type": "markdown",
   "id": "fa24e523-b568-41fa-b1bb-07dfeed610d0",
   "metadata": {},
   "source": [
    "<h2 style = \"color : Turquoise\"> Importing Libraries </h2>"
   ]
  },
  {
   "cell_type": "code",
   "execution_count": 16,
   "id": "8bbe775f-df22-44ff-b068-e455235e9b3e",
   "metadata": {},
   "outputs": [],
   "source": [
    "import numpy as np\n",
    "import matplotlib.pyplot as plt\n",
    "import pandas as pd"
   ]
  },
  {
   "cell_type": "markdown",
   "id": "1620638c-ce0f-4b10-b04d-2c626c48ddec",
   "metadata": {},
   "source": [
    "<h2 style = \"color : Turquoise\"> Importing Data Set </h2>"
   ]
  },
  {
   "cell_type": "code",
   "execution_count": 18,
   "id": "b7b71cf5-1dc0-42d8-a79b-052dfe407257",
   "metadata": {},
   "outputs": [],
   "source": [
    "df = pd.read_excel('Salary Data.xlsx')"
   ]
  },
  {
   "cell_type": "code",
   "execution_count": 20,
   "id": "7f7d6ae8-4d30-4105-9d94-68bc473e1f16",
   "metadata": {},
   "outputs": [
    {
     "data": {
      "text/html": [
       "<div>\n",
       "<style scoped>\n",
       "    .dataframe tbody tr th:only-of-type {\n",
       "        vertical-align: middle;\n",
       "    }\n",
       "\n",
       "    .dataframe tbody tr th {\n",
       "        vertical-align: top;\n",
       "    }\n",
       "\n",
       "    .dataframe thead th {\n",
       "        text-align: right;\n",
       "    }\n",
       "</style>\n",
       "<table border=\"1\" class=\"dataframe\">\n",
       "  <thead>\n",
       "    <tr style=\"text-align: right;\">\n",
       "      <th></th>\n",
       "      <th>Position</th>\n",
       "      <th>Grade</th>\n",
       "      <th>Salary</th>\n",
       "    </tr>\n",
       "  </thead>\n",
       "  <tbody>\n",
       "    <tr>\n",
       "      <th>0</th>\n",
       "      <td>New Associate</td>\n",
       "      <td>1</td>\n",
       "      <td>17000</td>\n",
       "    </tr>\n",
       "    <tr>\n",
       "      <th>1</th>\n",
       "      <td>Associate</td>\n",
       "      <td>2</td>\n",
       "      <td>27000</td>\n",
       "    </tr>\n",
       "    <tr>\n",
       "      <th>2</th>\n",
       "      <td>Analyst</td>\n",
       "      <td>3</td>\n",
       "      <td>40000</td>\n",
       "    </tr>\n",
       "    <tr>\n",
       "      <th>3</th>\n",
       "      <td>Senior Analyst</td>\n",
       "      <td>4</td>\n",
       "      <td>65000</td>\n",
       "    </tr>\n",
       "    <tr>\n",
       "      <th>4</th>\n",
       "      <td>Team Lead</td>\n",
       "      <td>5</td>\n",
       "      <td>100000</td>\n",
       "    </tr>\n",
       "  </tbody>\n",
       "</table>\n",
       "</div>"
      ],
      "text/plain": [
       "         Position  Grade  Salary\n",
       "0   New Associate      1   17000\n",
       "1       Associate      2   27000\n",
       "2         Analyst      3   40000\n",
       "3  Senior Analyst      4   65000\n",
       "4       Team Lead      5  100000"
      ]
     },
     "execution_count": 20,
     "metadata": {},
     "output_type": "execute_result"
    }
   ],
   "source": [
    "# top 5 records\n",
    "df.head()"
   ]
  },
  {
   "cell_type": "code",
   "execution_count": 22,
   "id": "ea7ded87-3d9a-41fc-95b3-1fa14c6af94e",
   "metadata": {},
   "outputs": [
    {
     "data": {
      "text/html": [
       "<div>\n",
       "<style scoped>\n",
       "    .dataframe tbody tr th:only-of-type {\n",
       "        vertical-align: middle;\n",
       "    }\n",
       "\n",
       "    .dataframe tbody tr th {\n",
       "        vertical-align: top;\n",
       "    }\n",
       "\n",
       "    .dataframe thead th {\n",
       "        text-align: right;\n",
       "    }\n",
       "</style>\n",
       "<table border=\"1\" class=\"dataframe\">\n",
       "  <thead>\n",
       "    <tr style=\"text-align: right;\">\n",
       "      <th></th>\n",
       "      <th>Position</th>\n",
       "      <th>Grade</th>\n",
       "      <th>Salary</th>\n",
       "    </tr>\n",
       "  </thead>\n",
       "  <tbody>\n",
       "    <tr>\n",
       "      <th>7</th>\n",
       "      <td>Senior Manager</td>\n",
       "      <td>8</td>\n",
       "      <td>400000</td>\n",
       "    </tr>\n",
       "    <tr>\n",
       "      <th>8</th>\n",
       "      <td>Leadership</td>\n",
       "      <td>9</td>\n",
       "      <td>650000</td>\n",
       "    </tr>\n",
       "    <tr>\n",
       "      <th>9</th>\n",
       "      <td>Senior Leadership</td>\n",
       "      <td>10</td>\n",
       "      <td>1000000</td>\n",
       "    </tr>\n",
       "    <tr>\n",
       "      <th>10</th>\n",
       "      <td>Global Leadership</td>\n",
       "      <td>12</td>\n",
       "      <td>1800000</td>\n",
       "    </tr>\n",
       "    <tr>\n",
       "      <th>11</th>\n",
       "      <td>Executive Leadership</td>\n",
       "      <td>13</td>\n",
       "      <td>4000000</td>\n",
       "    </tr>\n",
       "  </tbody>\n",
       "</table>\n",
       "</div>"
      ],
      "text/plain": [
       "                Position  Grade   Salary\n",
       "7         Senior Manager      8   400000\n",
       "8             Leadership      9   650000\n",
       "9      Senior Leadership     10  1000000\n",
       "10     Global Leadership     12  1800000\n",
       "11  Executive Leadership     13  4000000"
      ]
     },
     "execution_count": 22,
     "metadata": {},
     "output_type": "execute_result"
    }
   ],
   "source": [
    "# bottom 5 records\n",
    "df.tail()"
   ]
  },
  {
   "cell_type": "code",
   "execution_count": 26,
   "id": "41683074-4f44-49c5-94de-ee262a867cf4",
   "metadata": {},
   "outputs": [
    {
     "data": {
      "text/plain": [
       "(12, 3)"
      ]
     },
     "execution_count": 26,
     "metadata": {},
     "output_type": "execute_result"
    }
   ],
   "source": [
    "# columns : 3\n",
    "# rows : 12\n",
    "df.shape"
   ]
  },
  {
   "cell_type": "code",
   "execution_count": 40,
   "id": "f5fbedc0-94ea-46c9-9350-efd086d00881",
   "metadata": {},
   "outputs": [],
   "source": [
    "# Splitting dataset into X and Y\n",
    "# X : Grade\n",
    "# Y : Salary\n",
    "X = df.iloc[:, 1:-1].values\n",
    "Y = df.iloc[:, -1].values"
   ]
  },
  {
   "cell_type": "code",
   "execution_count": 42,
   "id": "dadb2d8c-edd8-4185-a38d-214b03ba3b02",
   "metadata": {},
   "outputs": [
    {
     "name": "stdout",
     "output_type": "stream",
     "text": [
      "[[ 1]\n",
      " [ 2]\n",
      " [ 3]\n",
      " [ 4]\n",
      " [ 5]\n",
      " [ 6]\n",
      " [ 7]\n",
      " [ 8]\n",
      " [ 9]\n",
      " [10]\n",
      " [12]\n",
      " [13]]\n"
     ]
    }
   ],
   "source": [
    "print(X)"
   ]
  },
  {
   "cell_type": "code",
   "execution_count": 44,
   "id": "2eb891a6-f1b3-48d9-9464-6268c412ea5e",
   "metadata": {},
   "outputs": [
    {
     "name": "stdout",
     "output_type": "stream",
     "text": [
      "[  17000   27000   40000   65000  100000  150000  250000  400000  650000\n",
      " 1000000 1800000 4000000]\n"
     ]
    }
   ],
   "source": [
    "print(Y)"
   ]
  },
  {
   "cell_type": "markdown",
   "id": "cd7008a5-95a1-44bb-bbcb-5c57d8a866c9",
   "metadata": {},
   "source": [
    "<h2 style = \"color : Turquoise\"> Feature Scaling </h2>"
   ]
  },
  {
   "cell_type": "markdown",
   "id": "eaedf207-d1fc-4c61-af91-3970c70aacc7",
   "metadata": {},
   "source": [
    "* Feature Scaling is a technique to standardize the independent features present in the data in a fixed range.\n",
    "  \n",
    "* It is performed during the data pre-processing to handle highly varying magnitudes or values or units.\n",
    "\n",
    "* If feature scaling is not done, then a machine learning algorithm tends to weigh greater values, higher and consider smaller values as the lower values, regardless of the unit of the values."
   ]
  },
  {
   "cell_type": "code",
   "execution_count": 52,
   "id": "b0b1ddf3-29b5-489b-b4c6-bfaf5a8cd0c5",
   "metadata": {},
   "outputs": [],
   "source": [
    "Y = Y.reshape(len(Y), 1)"
   ]
  },
  {
   "cell_type": "code",
   "execution_count": 54,
   "id": "7c673297-8341-4c04-8426-b887109cd66a",
   "metadata": {},
   "outputs": [
    {
     "name": "stdout",
     "output_type": "stream",
     "text": [
      "[[  17000]\n",
      " [  27000]\n",
      " [  40000]\n",
      " [  65000]\n",
      " [ 100000]\n",
      " [ 150000]\n",
      " [ 250000]\n",
      " [ 400000]\n",
      " [ 650000]\n",
      " [1000000]\n",
      " [1800000]\n",
      " [4000000]]\n"
     ]
    }
   ],
   "source": [
    "print(Y)"
   ]
  },
  {
   "cell_type": "markdown",
   "id": "64b6496e-26e1-4926-9f71-bc5b712fdc33",
   "metadata": {},
   "source": [
    "<h2 style = \"color : Turquoise\"> Training the SVR model on the whole dataset </h2>"
   ]
  },
  {
   "cell_type": "code",
   "execution_count": 56,
   "id": "600c776f-066c-43e0-8268-2235d5050e67",
   "metadata": {},
   "outputs": [],
   "source": [
    "from sklearn.preprocessing import StandardScaler\n",
    "sc_X = StandardScaler()\n",
    "sc_Y = StandardScaler()"
   ]
  },
  {
   "cell_type": "code",
   "execution_count": 62,
   "id": "b87cae2b-9fd6-4fbc-8b98-8476b393fe4c",
   "metadata": {},
   "outputs": [],
   "source": [
    "X = sc_X.fit_transform(X)\n",
    "Y = sc_Y.fit_transform(Y)"
   ]
  },
  {
   "cell_type": "code",
   "execution_count": 64,
   "id": "17593668-2618-44de-b79f-ed7436edc2af",
   "metadata": {},
   "outputs": [
    {
     "name": "stdout",
     "output_type": "stream",
     "text": [
      "[[-1.52973232]\n",
      " [-1.25977956]\n",
      " [-0.9898268 ]\n",
      " [-0.71987403]\n",
      " [-0.44992127]\n",
      " [-0.17996851]\n",
      " [ 0.08998425]\n",
      " [ 0.35993702]\n",
      " [ 0.62988978]\n",
      " [ 0.89984254]\n",
      " [ 1.43974807]\n",
      " [ 1.70970083]]\n"
     ]
    }
   ],
   "source": [
    "print(X)"
   ]
  },
  {
   "cell_type": "code",
   "execution_count": 66,
   "id": "4a276ed0-ab94-479c-93d0-35e9ff7ea2ce",
   "metadata": {},
   "outputs": [
    {
     "name": "stdout",
     "output_type": "stream",
     "text": [
      "[[-0.62024154]\n",
      " [-0.61126879]\n",
      " [-0.59960421]\n",
      " [-0.57717233]\n",
      " [-0.54576769]\n",
      " [-0.50090393]\n",
      " [-0.4111764 ]\n",
      " [-0.27658511]\n",
      " [-0.05226629]\n",
      " [ 0.26178007]\n",
      " [ 0.9796003 ]\n",
      " [ 2.95360593]]\n"
     ]
    }
   ],
   "source": [
    "print(Y)"
   ]
  },
  {
   "cell_type": "code",
   "execution_count": 70,
   "id": "16e5abf8-daa9-4206-ae15-9cbf3b44a5da",
   "metadata": {},
   "outputs": [],
   "source": [
    "import warnings\n",
    "warnings.filterwarnings('ignore')"
   ]
  },
  {
   "cell_type": "code",
   "execution_count": 72,
   "id": "a03b728b-58bc-4c88-80ac-4c5393c7332a",
   "metadata": {},
   "outputs": [
    {
     "data": {
      "text/html": [
       "<style>#sk-container-id-2 {color: black;background-color: white;}#sk-container-id-2 pre{padding: 0;}#sk-container-id-2 div.sk-toggleable {background-color: white;}#sk-container-id-2 label.sk-toggleable__label {cursor: pointer;display: block;width: 100%;margin-bottom: 0;padding: 0.3em;box-sizing: border-box;text-align: center;}#sk-container-id-2 label.sk-toggleable__label-arrow:before {content: \"▸\";float: left;margin-right: 0.25em;color: #696969;}#sk-container-id-2 label.sk-toggleable__label-arrow:hover:before {color: black;}#sk-container-id-2 div.sk-estimator:hover label.sk-toggleable__label-arrow:before {color: black;}#sk-container-id-2 div.sk-toggleable__content {max-height: 0;max-width: 0;overflow: hidden;text-align: left;background-color: #f0f8ff;}#sk-container-id-2 div.sk-toggleable__content pre {margin: 0.2em;color: black;border-radius: 0.25em;background-color: #f0f8ff;}#sk-container-id-2 input.sk-toggleable__control:checked~div.sk-toggleable__content {max-height: 200px;max-width: 100%;overflow: auto;}#sk-container-id-2 input.sk-toggleable__control:checked~label.sk-toggleable__label-arrow:before {content: \"▾\";}#sk-container-id-2 div.sk-estimator input.sk-toggleable__control:checked~label.sk-toggleable__label {background-color: #d4ebff;}#sk-container-id-2 div.sk-label input.sk-toggleable__control:checked~label.sk-toggleable__label {background-color: #d4ebff;}#sk-container-id-2 input.sk-hidden--visually {border: 0;clip: rect(1px 1px 1px 1px);clip: rect(1px, 1px, 1px, 1px);height: 1px;margin: -1px;overflow: hidden;padding: 0;position: absolute;width: 1px;}#sk-container-id-2 div.sk-estimator {font-family: monospace;background-color: #f0f8ff;border: 1px dotted black;border-radius: 0.25em;box-sizing: border-box;margin-bottom: 0.5em;}#sk-container-id-2 div.sk-estimator:hover {background-color: #d4ebff;}#sk-container-id-2 div.sk-parallel-item::after {content: \"\";width: 100%;border-bottom: 1px solid gray;flex-grow: 1;}#sk-container-id-2 div.sk-label:hover label.sk-toggleable__label {background-color: #d4ebff;}#sk-container-id-2 div.sk-serial::before {content: \"\";position: absolute;border-left: 1px solid gray;box-sizing: border-box;top: 0;bottom: 0;left: 50%;z-index: 0;}#sk-container-id-2 div.sk-serial {display: flex;flex-direction: column;align-items: center;background-color: white;padding-right: 0.2em;padding-left: 0.2em;position: relative;}#sk-container-id-2 div.sk-item {position: relative;z-index: 1;}#sk-container-id-2 div.sk-parallel {display: flex;align-items: stretch;justify-content: center;background-color: white;position: relative;}#sk-container-id-2 div.sk-item::before, #sk-container-id-2 div.sk-parallel-item::before {content: \"\";position: absolute;border-left: 1px solid gray;box-sizing: border-box;top: 0;bottom: 0;left: 50%;z-index: -1;}#sk-container-id-2 div.sk-parallel-item {display: flex;flex-direction: column;z-index: 1;position: relative;background-color: white;}#sk-container-id-2 div.sk-parallel-item:first-child::after {align-self: flex-end;width: 50%;}#sk-container-id-2 div.sk-parallel-item:last-child::after {align-self: flex-start;width: 50%;}#sk-container-id-2 div.sk-parallel-item:only-child::after {width: 0;}#sk-container-id-2 div.sk-dashed-wrapped {border: 1px dashed gray;margin: 0 0.4em 0.5em 0.4em;box-sizing: border-box;padding-bottom: 0.4em;background-color: white;}#sk-container-id-2 div.sk-label label {font-family: monospace;font-weight: bold;display: inline-block;line-height: 1.2em;}#sk-container-id-2 div.sk-label-container {text-align: center;}#sk-container-id-2 div.sk-container {/* jupyter's `normalize.less` sets `[hidden] { display: none; }` but bootstrap.min.css set `[hidden] { display: none !important; }` so we also need the `!important` here to be able to override the default hidden behavior on the sphinx rendered scikit-learn.org. See: https://github.com/scikit-learn/scikit-learn/issues/21755 */display: inline-block !important;position: relative;}#sk-container-id-2 div.sk-text-repr-fallback {display: none;}</style><div id=\"sk-container-id-2\" class=\"sk-top-container\"><div class=\"sk-text-repr-fallback\"><pre>SVR()</pre><b>In a Jupyter environment, please rerun this cell to show the HTML representation or trust the notebook. <br />On GitHub, the HTML representation is unable to render, please try loading this page with nbviewer.org.</b></div><div class=\"sk-container\" hidden><div class=\"sk-item\"><div class=\"sk-estimator sk-toggleable\"><input class=\"sk-toggleable__control sk-hidden--visually\" id=\"sk-estimator-id-2\" type=\"checkbox\" checked><label for=\"sk-estimator-id-2\" class=\"sk-toggleable__label sk-toggleable__label-arrow\">SVR</label><div class=\"sk-toggleable__content\"><pre>SVR()</pre></div></div></div></div></div>"
      ],
      "text/plain": [
       "SVR()"
      ]
     },
     "execution_count": 72,
     "metadata": {},
     "output_type": "execute_result"
    }
   ],
   "source": [
    "from sklearn.svm import SVR\n",
    "regressor = SVR(kernel = 'rbf')\n",
    "regressor.fit(X, Y)"
   ]
  },
  {
   "cell_type": "code",
   "execution_count": null,
   "id": "12e987d3-14c0-49ca-8cc9-bbf19e42e3a2",
   "metadata": {},
   "outputs": [],
   "source": []
  },
  {
   "cell_type": "markdown",
   "id": "af8d1e27-1163-48ab-99d3-7453add927cc",
   "metadata": {},
   "source": [
    "<h2 style = \"color : Turquoise\"> Predicting a new result </h2>"
   ]
  },
  {
   "cell_type": "code",
   "execution_count": 76,
   "id": "8a6a7a95-d5da-4668-a568-36b333c01cf8",
   "metadata": {},
   "outputs": [
    {
     "data": {
      "text/plain": [
       "array([[774987.79679951]])"
      ]
     },
     "execution_count": 76,
     "metadata": {},
     "output_type": "execute_result"
    }
   ],
   "source": [
    "sc_Y.inverse_transform(regressor.predict(sc_X.transform([[6.5]])).reshape(-1,1))"
   ]
  },
  {
   "cell_type": "markdown",
   "id": "5cb94465-81b8-456e-8d4d-50f33f55d560",
   "metadata": {},
   "source": [
    "<h2 style = \"color : Turquoise\"> Visualising the SVR results </h2>"
   ]
  },
  {
   "cell_type": "code",
   "execution_count": 78,
   "id": "65a60b91-5235-4909-b96a-6c25e4eeb4d6",
   "metadata": {},
   "outputs": [
    {
     "data": {
      "image/png": "[encoded data removed]",
      "text/plain": [
       "<Figure size 640x480 with 1 Axes>"
      ]
     },
     "metadata": {},
     "output_type": "display_data"
    }
   ],
   "source": [
    "plt.scatter(sc_X.inverse_transform(X), sc_Y.inverse_transform(Y), color = 'red')\n",
    "plt.plot(sc_X.inverse_transform(X), sc_Y.inverse_transform(regressor.predict(X).reshape(-1,1)), color = 'blue')\n",
    "plt.title('(SVR)')\n",
    "plt.xlabel('Position level')\n",
    "plt.ylabel('Salary')\n",
    "plt.show()"
   ]
  },
  {
   "cell_type": "code",
   "execution_count": null,
   "id": "5ea0c784-ce5e-4ec9-adfa-ad6fae123069",
   "metadata": {},
   "outputs": [],
   "source": []
  }
 ],
 "metadata": {
  "kernelspec": {
   "display_name": "Python 3 (ipykernel)",
   "language": "python",
   "name": "python3"
  },
  "language_info": {
   "codemirror_mode": {
    "name": "ipython",
    "version": 3
   },
   "file_extension": ".py",
   "mimetype": "text/x-python",
   "name": "python",
   "nbconvert_exporter": "python",
   "pygments_lexer": "ipython3",
   "version": "3.11.7"
  }
 },
 "nbformat": 4,
 "nbformat_minor": 5
}
