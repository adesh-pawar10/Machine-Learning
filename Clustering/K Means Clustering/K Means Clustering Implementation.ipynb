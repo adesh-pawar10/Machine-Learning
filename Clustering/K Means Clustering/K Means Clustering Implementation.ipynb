{
 "cells": [
  {
   "cell_type": "markdown",
   "id": "f02a3cfe-1523-4600-b053-e0b0ad715110",
   "metadata": {},
   "source": [
    "<h1 style = \"color : dodgerblue\"> K Means Clustering </h1>"
   ]
  },
  {
   "cell_type": "markdown",
   "id": "70b0ef14-a6f5-4909-b458-b3b327ef8506",
   "metadata": {},
   "source": [
    "<h2 style = \"color : DeepSkyBlue\"> Importing Libraries </h2>"
   ]
  },
  {
   "cell_type": "code",
   "execution_count": 1,
   "id": "a6070ed8-011a-4d24-b71c-4b4b4bbfc3de",
   "metadata": {},
   "outputs": [],
   "source": [
    "import numpy as np\n",
    "import matplotlib.pyplot as plt\n",
    "import pandas as pd\n",
    "\n",
    "import warnings\n",
    "warnings.filterwarnings('ignore')"
   ]
  },
  {
   "cell_type": "markdown",
   "id": "6f19cf32-c179-42b5-aedd-bf117c4f03e5",
   "metadata": {},
   "source": [
    "<h2 style = \"color : DeepSkyBlue\"> Importing Dataset </h2>"
   ]
  },
  {
   "cell_type": "code",
   "execution_count": 2,
   "id": "c933ca75-bbdb-41e3-8264-0b9adf1fcea6",
   "metadata": {},
   "outputs": [],
   "source": [
    "# Reading dataset\n",
    "df = pd.read_excel('Dataset/Amazon.com Clusturing Model.xlsx')"
   ]
  },
  {
   "cell_type": "code",
   "execution_count": 3,
   "id": "f5a665eb-53f6-4f8f-821b-b05474052cd0",
   "metadata": {},
   "outputs": [
    {
     "data": {
      "text/html": [
       "<div>\n",
       "<style scoped>\n",
       "    .dataframe tbody tr th:only-of-type {\n",
       "        vertical-align: middle;\n",
       "    }\n",
       "\n",
       "    .dataframe tbody tr th {\n",
       "        vertical-align: top;\n",
       "    }\n",
       "\n",
       "    .dataframe thead th {\n",
       "        text-align: right;\n",
       "    }\n",
       "</style>\n",
       "<table border=\"1\" class=\"dataframe\">\n",
       "  <thead>\n",
       "    <tr style=\"text-align: right;\">\n",
       "      <th></th>\n",
       "      <th>Cus_ID</th>\n",
       "      <th>Sex</th>\n",
       "      <th>Age</th>\n",
       "      <th>Income</th>\n",
       "      <th>Rating</th>\n",
       "    </tr>\n",
       "  </thead>\n",
       "  <tbody>\n",
       "    <tr>\n",
       "      <th>0</th>\n",
       "      <td>301219</td>\n",
       "      <td>M</td>\n",
       "      <td>23</td>\n",
       "      <td>306555</td>\n",
       "      <td>44</td>\n",
       "    </tr>\n",
       "    <tr>\n",
       "      <th>1</th>\n",
       "      <td>301220</td>\n",
       "      <td>F</td>\n",
       "      <td>26</td>\n",
       "      <td>306555</td>\n",
       "      <td>91</td>\n",
       "    </tr>\n",
       "    <tr>\n",
       "      <th>2</th>\n",
       "      <td>301221</td>\n",
       "      <td>F</td>\n",
       "      <td>24</td>\n",
       "      <td>326992</td>\n",
       "      <td>7</td>\n",
       "    </tr>\n",
       "    <tr>\n",
       "      <th>3</th>\n",
       "      <td>301222</td>\n",
       "      <td>M</td>\n",
       "      <td>28</td>\n",
       "      <td>326992</td>\n",
       "      <td>87</td>\n",
       "    </tr>\n",
       "    <tr>\n",
       "      <th>4</th>\n",
       "      <td>301223</td>\n",
       "      <td>F</td>\n",
       "      <td>38</td>\n",
       "      <td>347429</td>\n",
       "      <td>45</td>\n",
       "    </tr>\n",
       "  </tbody>\n",
       "</table>\n",
       "</div>"
      ],
      "text/plain": [
       "   Cus_ID Sex  Age  Income  Rating\n",
       "0  301219   M   23  306555      44\n",
       "1  301220   F   26  306555      91\n",
       "2  301221   F   24  326992       7\n",
       "3  301222   M   28  326992      87\n",
       "4  301223   F   38  347429      45"
      ]
     },
     "execution_count": 3,
     "metadata": {},
     "output_type": "execute_result"
    }
   ],
   "source": [
    "# top 5 records in dataframe\n",
    "df.head()"
   ]
  },
  {
   "cell_type": "code",
   "execution_count": 4,
   "id": "caf44803-3d54-4613-ad0d-070bc961162e",
   "metadata": {},
   "outputs": [
    {
     "data": {
      "text/html": [
       "<div>\n",
       "<style scoped>\n",
       "    .dataframe tbody tr th:only-of-type {\n",
       "        vertical-align: middle;\n",
       "    }\n",
       "\n",
       "    .dataframe tbody tr th {\n",
       "        vertical-align: top;\n",
       "    }\n",
       "\n",
       "    .dataframe thead th {\n",
       "        text-align: right;\n",
       "    }\n",
       "</style>\n",
       "<table border=\"1\" class=\"dataframe\">\n",
       "  <thead>\n",
       "    <tr style=\"text-align: right;\">\n",
       "      <th></th>\n",
       "      <th>Cus_ID</th>\n",
       "      <th>Sex</th>\n",
       "      <th>Age</th>\n",
       "      <th>Income</th>\n",
       "      <th>Rating</th>\n",
       "    </tr>\n",
       "  </thead>\n",
       "  <tbody>\n",
       "    <tr>\n",
       "      <th>195</th>\n",
       "      <td>301414</td>\n",
       "      <td>F</td>\n",
       "      <td>42</td>\n",
       "      <td>2452440</td>\n",
       "      <td>89</td>\n",
       "    </tr>\n",
       "    <tr>\n",
       "      <th>196</th>\n",
       "      <td>301415</td>\n",
       "      <td>F</td>\n",
       "      <td>54</td>\n",
       "      <td>2575062</td>\n",
       "      <td>32</td>\n",
       "    </tr>\n",
       "    <tr>\n",
       "      <th>197</th>\n",
       "      <td>301416</td>\n",
       "      <td>M</td>\n",
       "      <td>39</td>\n",
       "      <td>2575062</td>\n",
       "      <td>83</td>\n",
       "    </tr>\n",
       "    <tr>\n",
       "      <th>198</th>\n",
       "      <td>301417</td>\n",
       "      <td>M</td>\n",
       "      <td>39</td>\n",
       "      <td>2799869</td>\n",
       "      <td>21</td>\n",
       "    </tr>\n",
       "    <tr>\n",
       "      <th>199</th>\n",
       "      <td>301418</td>\n",
       "      <td>M</td>\n",
       "      <td>36</td>\n",
       "      <td>2799869</td>\n",
       "      <td>93</td>\n",
       "    </tr>\n",
       "  </tbody>\n",
       "</table>\n",
       "</div>"
      ],
      "text/plain": [
       "     Cus_ID Sex  Age   Income  Rating\n",
       "195  301414   F   42  2452440      89\n",
       "196  301415   F   54  2575062      32\n",
       "197  301416   M   39  2575062      83\n",
       "198  301417   M   39  2799869      21\n",
       "199  301418   M   36  2799869      93"
      ]
     },
     "execution_count": 4,
     "metadata": {},
     "output_type": "execute_result"
    }
   ],
   "source": [
    "# bottom 5 records in dataframe\n",
    "df.tail()"
   ]
  },
  {
   "cell_type": "code",
   "execution_count": 6,
   "id": "9aae0692-2109-4044-9e9f-96a7395a3d0b",
   "metadata": {},
   "outputs": [
    {
     "data": {
      "text/plain": [
       "(200, 5)"
      ]
     },
     "execution_count": 6,
     "metadata": {},
     "output_type": "execute_result"
    }
   ],
   "source": [
    "# shape : provides no. of columns & no. of rows\n",
    "# columns : 5\n",
    "# rows : 200\n",
    "df.shape"
   ]
  },
  {
   "cell_type": "code",
   "execution_count": 7,
   "id": "574a8d00-56a9-4d61-a612-6c242d5fb526",
   "metadata": {},
   "outputs": [
    {
     "name": "stdout",
     "output_type": "stream",
     "text": [
      "<class 'pandas.core.frame.DataFrame'>\n",
      "RangeIndex: 200 entries, 0 to 199\n",
      "Data columns (total 5 columns):\n",
      " #   Column  Non-Null Count  Dtype \n",
      "---  ------  --------------  ----- \n",
      " 0   Cus_ID  200 non-null    int64 \n",
      " 1   Sex     200 non-null    object\n",
      " 2   Age     200 non-null    int64 \n",
      " 3   Income  200 non-null    int64 \n",
      " 4   Rating  200 non-null    int64 \n",
      "dtypes: int64(4), object(1)\n",
      "memory usage: 7.9+ KB\n"
     ]
    }
   ],
   "source": [
    "# The info() : Prints information about the DataFrame\n",
    "# The information contains the number of columns, column labels, column data types, memory usage, range index, \n",
    "# and the number of cells in each column (non-null values)\n",
    "\n",
    "df.info()"
   ]
  },
  {
   "cell_type": "markdown",
   "id": "a84d9805-f9fe-4de9-b1d0-ffb4876758fe",
   "metadata": {},
   "source": [
    "<h2 style = \"color : DeepSkyBlue\"> Splitting dataset into X </h2>"
   ]
  },
  {
   "cell_type": "code",
   "execution_count": 8,
   "id": "b6cc8937-071c-44dc-92a9-87769bb81abb",
   "metadata": {},
   "outputs": [
    {
     "data": {
      "text/html": [
       "<div>\n",
       "<style scoped>\n",
       "    .dataframe tbody tr th:only-of-type {\n",
       "        vertical-align: middle;\n",
       "    }\n",
       "\n",
       "    .dataframe tbody tr th {\n",
       "        vertical-align: top;\n",
       "    }\n",
       "\n",
       "    .dataframe thead th {\n",
       "        text-align: right;\n",
       "    }\n",
       "</style>\n",
       "<table border=\"1\" class=\"dataframe\">\n",
       "  <thead>\n",
       "    <tr style=\"text-align: right;\">\n",
       "      <th></th>\n",
       "      <th>Cus_ID</th>\n",
       "      <th>Sex</th>\n",
       "      <th>Age</th>\n",
       "      <th>Income</th>\n",
       "      <th>Rating</th>\n",
       "    </tr>\n",
       "  </thead>\n",
       "  <tbody>\n",
       "    <tr>\n",
       "      <th>0</th>\n",
       "      <td>301219</td>\n",
       "      <td>M</td>\n",
       "      <td>23</td>\n",
       "      <td>306555</td>\n",
       "      <td>44</td>\n",
       "    </tr>\n",
       "    <tr>\n",
       "      <th>1</th>\n",
       "      <td>301220</td>\n",
       "      <td>F</td>\n",
       "      <td>26</td>\n",
       "      <td>306555</td>\n",
       "      <td>91</td>\n",
       "    </tr>\n",
       "    <tr>\n",
       "      <th>2</th>\n",
       "      <td>301221</td>\n",
       "      <td>F</td>\n",
       "      <td>24</td>\n",
       "      <td>326992</td>\n",
       "      <td>7</td>\n",
       "    </tr>\n",
       "    <tr>\n",
       "      <th>3</th>\n",
       "      <td>301222</td>\n",
       "      <td>M</td>\n",
       "      <td>28</td>\n",
       "      <td>326992</td>\n",
       "      <td>87</td>\n",
       "    </tr>\n",
       "    <tr>\n",
       "      <th>4</th>\n",
       "      <td>301223</td>\n",
       "      <td>F</td>\n",
       "      <td>38</td>\n",
       "      <td>347429</td>\n",
       "      <td>45</td>\n",
       "    </tr>\n",
       "  </tbody>\n",
       "</table>\n",
       "</div>"
      ],
      "text/plain": [
       "   Cus_ID Sex  Age  Income  Rating\n",
       "0  301219   M   23  306555      44\n",
       "1  301220   F   26  306555      91\n",
       "2  301221   F   24  326992       7\n",
       "3  301222   M   28  326992      87\n",
       "4  301223   F   38  347429      45"
      ]
     },
     "execution_count": 8,
     "metadata": {},
     "output_type": "execute_result"
    }
   ],
   "source": [
    "df.head()"
   ]
  },
  {
   "cell_type": "code",
   "execution_count": 10,
   "id": "9bb9f5c6-f5f1-48ea-b209-afe702945b26",
   "metadata": {},
   "outputs": [],
   "source": [
    "X = df.iloc[:, [2, 4]].values"
   ]
  },
  {
   "cell_type": "code",
   "execution_count": 11,
   "id": "854e8e81-f92b-4c04-b2f7-a03212745384",
   "metadata": {},
   "outputs": [
    {
     "name": "stdout",
     "output_type": "stream",
     "text": [
      "[[ 23  44]\n",
      " [ 26  91]\n",
      " [ 24   7]\n",
      " [ 28  87]\n",
      " [ 38  45]\n",
      " [ 27  86]\n",
      " [ 42   7]\n",
      " [ 28 106]\n",
      " [ 77   4]\n",
      " [ 36  81]\n",
      " [ 81  16]\n",
      " [ 42 111]\n",
      " [ 70  17]\n",
      " [ 29  87]\n",
      " [ 45  15]\n",
      " [ 27  89]\n",
      " [ 42  40]\n",
      " [ 24  74]\n",
      " [ 63  33]\n",
      " [ 42 110]\n",
      " [ 42  40]\n",
      " [ 30  82]\n",
      " [ 56   6]\n",
      " [ 38  82]\n",
      " [ 65  16]\n",
      " [ 35  92]\n",
      " [ 54  36]\n",
      " [ 42  69]\n",
      " [ 48  35]\n",
      " [ 28  98]\n",
      " [ 72   5]\n",
      " [ 26  82]\n",
      " [ 64   5]\n",
      " [ 22 104]\n",
      " [ 59  16]\n",
      " [ 26  91]\n",
      " [ 51  20]\n",
      " [ 36  82]\n",
      " [ 44  30]\n",
      " [ 24  84]\n",
      " [ 78  40]\n",
      " [ 29 104]\n",
      " [ 58  41]\n",
      " [ 38  69]\n",
      " [ 59  32]\n",
      " [ 29  73]\n",
      " [ 60  62]\n",
      " [ 33  53]\n",
      " [ 35  48]\n",
      " [ 38  48]\n",
      " [ 59  59]\n",
      " [ 40  68]\n",
      " [ 38  61]\n",
      " [ 71  68]\n",
      " [ 60  51]\n",
      " [ 57  46]\n",
      " [ 62  56]\n",
      " [ 83  52]\n",
      " [ 33  58]\n",
      " [ 64  52]\n",
      " [ 84  63]\n",
      " [ 23  62]\n",
      " [ 81  59]\n",
      " [ 65  67]\n",
      " [ 76  58]\n",
      " [ 22  67]\n",
      " [ 52  56]\n",
      " [ 82  54]\n",
      " [ 23  67]\n",
      " [ 39  53]\n",
      " [ 84  62]\n",
      " [ 57  48]\n",
      " [ 72  55]\n",
      " [ 72  63]\n",
      " [ 71  53]\n",
      " [ 32  61]\n",
      " [ 54  60]\n",
      " [ 48  54]\n",
      " [ 28  59]\n",
      " [ 59  48]\n",
      " [ 69  58]\n",
      " [ 46  62]\n",
      " [ 81  46]\n",
      " [ 56  50]\n",
      " [ 26  64]\n",
      " [ 58  52]\n",
      " [ 66  65]\n",
      " [ 27  62]\n",
      " [ 41  68]\n",
      " [ 60  52]\n",
      " [ 82  62]\n",
      " [ 22  46]\n",
      " [ 58  55]\n",
      " [ 48  45]\n",
      " [ 39  48]\n",
      " [ 29  59]\n",
      " [ 57  53]\n",
      " [ 33  56]\n",
      " [ 58  48]\n",
      " [ 24  55]\n",
      " [ 28  46]\n",
      " [ 59  54]\n",
      " [ 81  67]\n",
      " [ 32  62]\n",
      " [ 59  63]\n",
      " [ 26  48]\n",
      " [ 80  56]\n",
      " [ 65  52]\n",
      " [ 82  49]\n",
      " [ 80  54]\n",
      " [ 78  59]\n",
      " [ 23  61]\n",
      " [ 46  48]\n",
      " [ 23  52]\n",
      " [ 22  54]\n",
      " [ 23  56]\n",
      " [ 76  49]\n",
      " [ 59  67]\n",
      " [ 62  49]\n",
      " [ 60  64]\n",
      " [ 33  63]\n",
      " [ 46  45]\n",
      " [ 48  65]\n",
      " [ 47 102]\n",
      " [ 28  33]\n",
      " [ 38  87]\n",
      " [ 52  40]\n",
      " [ 48 107]\n",
      " [ 71  13]\n",
      " [ 46  84]\n",
      " [ 57  11]\n",
      " [ 47  84]\n",
      " [ 30  39]\n",
      " [ 38  80]\n",
      " [ 24   6]\n",
      " [ 35  99]\n",
      " [ 53   8]\n",
      " [ 39  82]\n",
      " [ 23  12]\n",
      " [ 42  81]\n",
      " [ 69   6]\n",
      " [ 39 105]\n",
      " [ 34  45]\n",
      " [ 39  98]\n",
      " [ 30  14]\n",
      " [ 34 109]\n",
      " [ 58  41]\n",
      " [ 39  83]\n",
      " [ 41  25]\n",
      " [ 41 101]\n",
      " [ 52  20]\n",
      " [ 47  99]\n",
      " [ 53  23]\n",
      " [ 46  86]\n",
      " [ 57  18]\n",
      " [ 33 100]\n",
      " [ 45   2]\n",
      " [ 36  88]\n",
      " [ 41   2]\n",
      " [ 36  82]\n",
      " [ 68  40]\n",
      " [ 35  93]\n",
      " [ 23   6]\n",
      " [ 38 105]\n",
      " [ 60  30]\n",
      " [ 44  84]\n",
      " [ 51  23]\n",
      " [ 40 107]\n",
      " [ 44  31]\n",
      " [ 39  71]\n",
      " [ 48  15]\n",
      " [ 34  84]\n",
      " [ 44  12]\n",
      " [ 44 104]\n",
      " [ 63  15]\n",
      " [ 36  97]\n",
      " [ 70  17]\n",
      " [ 33  78]\n",
      " [ 71  16]\n",
      " [ 42 101]\n",
      " [ 45  36]\n",
      " [ 39  97]\n",
      " [ 56  17]\n",
      " [ 35  99]\n",
      " [ 50  44]\n",
      " [ 36 109]\n",
      " [ 65  27]\n",
      " [ 34  77]\n",
      " [ 50  20]\n",
      " [ 44  96]\n",
      " [ 41  26]\n",
      " [ 39  78]\n",
      " [ 40   9]\n",
      " [ 46 102]\n",
      " [ 57  18]\n",
      " [ 42  89]\n",
      " [ 54  32]\n",
      " [ 39  83]\n",
      " [ 39  21]\n",
      " [ 36  93]]\n"
     ]
    }
   ],
   "source": [
    "print(X)"
   ]
  },
  {
   "cell_type": "markdown",
   "id": "5c2b58a4-9808-4083-83cc-b13bc05160d2",
   "metadata": {},
   "source": [
    "<h2 style = \"color : DeepSkyBlue\"> Optimal number of clusters via Elbow Method </h2>"
   ]
  },
  {
   "cell_type": "code",
   "execution_count": 12,
   "id": "e79462b1-a4a9-4557-8439-2c637610cac1",
   "metadata": {},
   "outputs": [
    {
     "data": {
      "image/png": "[encoded data removed]",
      "text/plain": [
       "<Figure size 640x480 with 1 Axes>"
      ]
     },
     "metadata": {},
     "output_type": "display_data"
    }
   ],
   "source": [
    "from sklearn.cluster import KMeans\n",
    "wcss = []\n",
    "\n",
    "for i in range(1, 11):\n",
    "    kmeans = KMeans(n_clusters = i, init = 'k-means++', random_state = 21)\n",
    "    kmeans.fit(X)\n",
    "    wcss.append(kmeans.inertia_)\n",
    "\n",
    "plt.plot(range(1,11), wcss)\n",
    "plt.title('WCSS via Elbow method')\n",
    "plt.xlabel('Number of clusters')\n",
    "plt.ylabel('WCSS Value')\n",
    "\n",
    "plt.show()"
   ]
  },
  {
   "cell_type": "markdown",
   "id": "6120d260-befc-4794-b042-df78e299727e",
   "metadata": {},
   "source": [
    "<h2 style = \"color : DeepSkyBlue\"> K Means Model Training on Training set </h2>"
   ]
  },
  {
   "cell_type": "code",
   "execution_count": 13,
   "id": "c32b8eb1-4423-442d-8b59-8c55e54644f7",
   "metadata": {},
   "outputs": [],
   "source": [
    "kmeans = KMeans(n_clusters = 4, init = 'k-means++', random_state = 42)\n",
    "y_means = kmeans.fit_predict(X)"
   ]
  },
  {
   "cell_type": "code",
   "execution_count": 14,
   "id": "087f9a0c-c7d8-49bf-8acc-43959641390a",
   "metadata": {},
   "outputs": [
    {
     "data": {
      "text/plain": [
       "array([3, 1, 2, 1, 3, 1, 2, 1, 2, 1, 2, 1, 2, 1, 2, 1, 3, 3, 2, 1, 3, 1,\n",
       "       2, 1, 2, 1, 2, 3, 2, 1, 2, 1, 2, 1, 2, 1, 2, 1, 2, 1, 0, 1, 0, 3,\n",
       "       2, 3, 0, 3, 3, 3, 0, 3, 3, 0, 0, 0, 0, 0, 3, 0, 0, 3, 0, 0, 0, 3,\n",
       "       0, 0, 3, 3, 0, 0, 0, 0, 0, 3, 0, 3, 3, 0, 0, 3, 0, 0, 3, 0, 0, 3,\n",
       "       3, 0, 0, 3, 0, 3, 3, 3, 0, 3, 0, 3, 3, 0, 0, 3, 0, 3, 0, 0, 0, 0,\n",
       "       0, 3, 3, 3, 3, 3, 0, 0, 0, 0, 3, 3, 3, 1, 3, 1, 0, 1, 2, 1, 2, 1,\n",
       "       3, 1, 2, 1, 2, 1, 2, 1, 2, 1, 3, 1, 2, 1, 0, 1, 2, 1, 2, 1, 2, 1,\n",
       "       2, 1, 2, 1, 2, 1, 0, 1, 2, 1, 2, 1, 2, 1, 2, 3, 2, 1, 2, 1, 2, 1,\n",
       "       2, 1, 2, 1, 2, 1, 2, 1, 3, 1, 2, 1, 2, 1, 2, 1, 2, 1, 2, 1, 2, 1,\n",
       "       2, 1], dtype=int32)"
      ]
     },
     "execution_count": 14,
     "metadata": {},
     "output_type": "execute_result"
    }
   ],
   "source": [
    "y_means"
   ]
  },
  {
   "cell_type": "markdown",
   "id": "98004095-386b-4d55-9823-780d2bf051df",
   "metadata": {},
   "source": [
    "<h2 style = \"color : DeepSkyBlue\"> Visualizing Clusters </h2>"
   ]
  },
  {
   "cell_type": "code",
   "execution_count": 15,
   "id": "0c84a165-c051-452e-96b4-9d0f4db113dd",
   "metadata": {},
   "outputs": [
    {
     "data": {
      "image/png": "[encoded data removed]",
      "text/plain": [
       "<Figure size 640x480 with 1 Axes>"
      ]
     },
     "metadata": {},
     "output_type": "display_data"
    }
   ],
   "source": [
    "plt.scatter(X[y_means == 0, 0], X[y_means == 0, 1], s = 100, c = 'magenta', label = 'Cluster 1')\n",
    "plt.scatter(X[y_means == 1, 0], X[y_means == 1, 1], s = 100, c = 'blue', label = 'Cluster 2')\n",
    "plt.scatter(X[y_means == 2, 0], X[y_means == 2, 1], s = 100, c = 'red', label = 'Cluster 3')\n",
    "plt.scatter(X[y_means == 3, 0], X[y_means == 3, 1], s = 100, c = 'cyan', label = 'Cluster 4')\n",
    "plt.scatter(kmeans.cluster_centers_[:, 0], kmeans.cluster_centers_[:, 1], s = 300, c = 'black', label = 'Centroids')\n",
    "plt.title('Cluster of Amazon users')\n",
    "plt.xlabel('Age')\n",
    "plt.ylabel('Purchase Rating')\n",
    "plt.legend()\n",
    "plt.show()"
   ]
  },
  {
   "cell_type": "code",
   "execution_count": null,
   "id": "d7c5eb55-6e5b-4c43-81d4-5ca7885a9e6e",
   "metadata": {},
   "outputs": [],
   "source": []
  }
 ],
 "metadata": {
  "kernelspec": {
   "display_name": "Python 3 (ipykernel)",
   "language": "python",
   "name": "python3"
  },
  "language_info": {
   "codemirror_mode": {
    "name": "ipython",
    "version": 3
   },
   "file_extension": ".py",
   "mimetype": "text/x-python",
   "name": "python",
   "nbconvert_exporter": "python",
   "pygments_lexer": "ipython3",
   "version": "3.13.0"
  }
 },
 "nbformat": 4,
 "nbformat_minor": 5
}
