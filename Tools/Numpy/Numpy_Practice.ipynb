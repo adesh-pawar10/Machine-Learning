{
 "cells": [
  {
   "cell_type": "markdown",
   "id": "68f0023c-0e53-4809-94d2-6cf93942492f",
   "metadata": {},
   "source": [
    "<h1 style = \"color : deepskyblue\"> Numpy </h1>"
   ]
  },
  {
   "cell_type": "markdown",
   "id": "a6d770d8-7482-416c-9afe-d4a16882d85d",
   "metadata": {},
   "source": [
    "NumPy stands for Numerical Python, is an open-source Python library that provides support for large, multi-dimensional arrays and matrices.\n",
    "\n",
    "It also have a collection of high-level mathematical functions to operate on arrays. It was created by Travis Oliphant in 2005."
   ]
  },
  {
   "cell_type": "markdown",
   "id": "dce78840-0f99-469c-acb9-6597a7062160",
   "metadata": {},
   "source": [
    "<h2 style = \"color : #FF6700\"> What is NumPy? </h2>\n",
    "\n",
    "NumPy is a general-purpose array-processing package.\n",
    "\n",
    "It provides a high-performance multidimensional array object and tools for working with these arrays.\n",
    "\n",
    "It is the fundamental package for scientific computing with Python. It is open-source software. "
   ]
  },
  {
   "cell_type": "markdown",
   "id": "07b33457-6fbd-4f83-b7c8-e4099ba5b064",
   "metadata": {},
   "source": [
    "<h2 style = \"color : #FFBF00\"> Features of Numpy </h2>\n",
    "\n",
    "NumPy has various features which make them popular over lists.\n",
    "\n",
    "Some of these important features include:\n",
    "\n",
    "- A powerful N-dimensional array object\n",
    "- Sophisticated (broadcasting) functions\n",
    "- Tools for integrating C/C++ and Fortran code\n",
    "- Useful linear algebra, Fourier transform, and random number capabilities"
   ]
  },
  {
   "cell_type": "markdown",
   "id": "6298810d-a8e8-4ee4-b0fd-e0c5e866aeda",
   "metadata": {},
   "source": [
    "* Besides its obvious scientific uses, NumPy in Python can also be used as an efficient multi-dimensional container of generic data.\n",
    "\n",
    "* Arbitrary data types can be defined using Numpy which allows NumPy to seamlessly and speedily integrate with a wide variety of databases."
   ]
  },
  {
   "cell_type": "markdown",
   "id": "85cadeec-6451-4096-9ba4-792134177f82",
   "metadata": {},
   "source": [
    "-----------------------------------------------------------------------------------------------------------------------------------------------------------\n",
    "-----------------------------------------------------------------------------------------------------------------------------------------------------------"
   ]
  },
  {
   "cell_type": "markdown",
   "id": "44394593-ee52-4f00-b98d-5a23ad34713d",
   "metadata": {},
   "source": [
    "<h3 style = \" color :#3B9C9C\"> Install Python Numpy </h3>"
   ]
  },
  {
   "cell_type": "code",
   "execution_count": 15,
   "id": "bdf1afd1-bcee-4b43-8e58-9ce1796a7fbf",
   "metadata": {},
   "outputs": [
    {
     "name": "stdout",
     "output_type": "stream",
     "text": [
      "Requirement already satisfied: numpy in c:\\users\\anike\\anaconda3\\lib\\site-packages (1.26.4)\n",
      "Note: you may need to restart the kernel to use updated packages.\n"
     ]
    }
   ],
   "source": [
    "pip install numpy"
   ]
  },
  {
   "cell_type": "markdown",
   "id": "5b83bcdf-68f9-42f5-8bb5-9bb144ce72a4",
   "metadata": {},
   "source": [
    "<h3 style = \"color : #00FFFF\"> Import Numpy Library </h3>"
   ]
  },
  {
   "cell_type": "code",
   "execution_count": 19,
   "id": "71da7b62-9e0c-403c-a295-0c38aa5236d7",
   "metadata": {},
   "outputs": [],
   "source": [
    "import numpy as np"
   ]
  },
  {
   "cell_type": "code",
   "execution_count": 29,
   "id": "c90d575d-a14a-482a-b19a-c2c556140fd0",
   "metadata": {},
   "outputs": [
    {
     "name": "stdout",
     "output_type": "stream",
     "text": [
      "List 1 :  [10, 20, 30]\n"
     ]
    }
   ],
   "source": [
    "l1 = [10, 20, 30]\n",
    "print('List 1 : ', l1)"
   ]
  },
  {
   "cell_type": "code",
   "execution_count": 25,
   "id": "93fd7883-3d27-424d-bff0-09b99b508c64",
   "metadata": {},
   "outputs": [
    {
     "data": {
      "text/plain": [
       "array([10, 20, 30])"
      ]
     },
     "execution_count": 25,
     "metadata": {},
     "output_type": "execute_result"
    }
   ],
   "source": [
    "np.array(l1)"
   ]
  },
  {
   "cell_type": "code",
   "execution_count": 31,
   "id": "30a58bc1-8576-4c05-afcc-70707a1b8ef2",
   "metadata": {},
   "outputs": [
    {
     "name": "stdout",
     "output_type": "stream",
     "text": [
      "List 2 :  [10, 20, '30']\n"
     ]
    }
   ],
   "source": [
    "l2 = [10, 20, \"30\"]\n",
    "print('List 2 : ', l2)"
   ]
  },
  {
   "cell_type": "code",
   "execution_count": 35,
   "id": "f4819243-2927-4317-ba12-11d2859ed059",
   "metadata": {},
   "outputs": [
    {
     "data": {
      "text/plain": [
       "array(['10', '20', '30'], dtype='<U11')"
      ]
     },
     "execution_count": 35,
     "metadata": {},
     "output_type": "execute_result"
    }
   ],
   "source": [
    "np.array(l2)"
   ]
  },
  {
   "cell_type": "code",
   "execution_count": 41,
   "id": "efba757d-bf4f-4f9a-800b-7f07e3384391",
   "metadata": {},
   "outputs": [
    {
     "data": {
      "text/plain": [
       "array([0., 0., 0., 0., 0.])"
      ]
     },
     "execution_count": 41,
     "metadata": {},
     "output_type": "execute_result"
    }
   ],
   "source": [
    "np.zeros(5)"
   ]
  },
  {
   "cell_type": "code",
   "execution_count": 39,
   "id": "619a257b-4326-42ff-b1e3-f48ccdb12dc7",
   "metadata": {},
   "outputs": [
    {
     "data": {
      "text/plain": [
       "array([0, 0, 0, 0, 0])"
      ]
     },
     "execution_count": 39,
     "metadata": {},
     "output_type": "execute_result"
    }
   ],
   "source": [
    "np.zeros(5, int)"
   ]
  },
  {
   "cell_type": "code",
   "execution_count": 43,
   "id": "2d7aa017-a305-4ffa-ae7a-40b37b72b7df",
   "metadata": {},
   "outputs": [
    {
     "data": {
      "text/plain": [
       "array([1., 1., 1., 1., 1.])"
      ]
     },
     "execution_count": 43,
     "metadata": {},
     "output_type": "execute_result"
    }
   ],
   "source": [
    "np.ones(5)"
   ]
  },
  {
   "cell_type": "code",
   "execution_count": 55,
   "id": "875c5df3-0393-4123-98d5-67e48f2f256a",
   "metadata": {},
   "outputs": [
    {
     "data": {
      "text/plain": [
       "array([1, 1, 1, 1, 1])"
      ]
     },
     "execution_count": 55,
     "metadata": {},
     "output_type": "execute_result"
    }
   ],
   "source": [
    "a1 = np.ones(5, int)\n",
    "a1"
   ]
  },
  {
   "cell_type": "code",
   "execution_count": 57,
   "id": "f6789c64-cdaf-463c-9a01-400a394e0aa4",
   "metadata": {},
   "outputs": [
    {
     "ename": "ValueError",
     "evalue": "invalid literal for int() with base 10: 'xyz'",
     "output_type": "error",
     "traceback": [
      "\u001b[1;31m---------------------------------------------------------------------------\u001b[0m",
      "\u001b[1;31mValueError\u001b[0m                                Traceback (most recent call last)",
      "Cell \u001b[1;32mIn[57], line 1\u001b[0m\n\u001b[1;32m----> 1\u001b[0m a1[\u001b[38;5;241m2\u001b[39m] \u001b[38;5;241m=\u001b[39m \u001b[38;5;124m\"\u001b[39m\u001b[38;5;124mxyz\u001b[39m\u001b[38;5;124m\"\u001b[39m\n",
      "\u001b[1;31mValueError\u001b[0m: invalid literal for int() with base 10: 'xyz'"
     ]
    }
   ],
   "source": [
    "a1[2] = \"xyz\""
   ]
  },
  {
   "cell_type": "code",
   "execution_count": 59,
   "id": "7199c373-1af8-4aee-a92a-79bdc0bc7484",
   "metadata": {},
   "outputs": [],
   "source": [
    "a1[2] = 2"
   ]
  },
  {
   "cell_type": "code",
   "execution_count": 61,
   "id": "c642741e-b91a-46a6-a3c3-74b6da1b5bb2",
   "metadata": {},
   "outputs": [
    {
     "data": {
      "text/plain": [
       "array([1, 1, 2, 1, 1])"
      ]
     },
     "execution_count": 61,
     "metadata": {},
     "output_type": "execute_result"
    }
   ],
   "source": [
    "a1"
   ]
  },
  {
   "cell_type": "code",
   "execution_count": 63,
   "id": "79e8184c-562c-47e5-8f46-0773173d349b",
   "metadata": {},
   "outputs": [
    {
     "data": {
      "text/plain": [
       "array([0., 0., 0., 0., 0., 0., 0., 0., 0., 0.])"
      ]
     },
     "execution_count": 63,
     "metadata": {},
     "output_type": "execute_result"
    }
   ],
   "source": [
    "a_1 = np.zeros(10)\n",
    "a_1"
   ]
  },
  {
   "cell_type": "code",
   "execution_count": 65,
   "id": "c66bc722-6a54-4d7a-bd58-7898b214166c",
   "metadata": {},
   "outputs": [
    {
     "data": {
      "text/plain": [
       "numpy.ndarray"
      ]
     },
     "execution_count": 65,
     "metadata": {},
     "output_type": "execute_result"
    }
   ],
   "source": [
    "type(a_1)"
   ]
  },
  {
   "cell_type": "code",
   "execution_count": 69,
   "id": "2bbb1b27-9f60-4b51-a45c-481f62645b1c",
   "metadata": {},
   "outputs": [
    {
     "data": {
      "text/plain": [
       "dtype('float64')"
      ]
     },
     "execution_count": 69,
     "metadata": {},
     "output_type": "execute_result"
    }
   ],
   "source": [
    "a_1.dtype"
   ]
  },
  {
   "cell_type": "code",
   "execution_count": 71,
   "id": "307f01ce-5c1f-4501-9e2f-95597ee1cfca",
   "metadata": {},
   "outputs": [
    {
     "data": {
      "text/plain": [
       "array([0, 0, 0, 0, 0, 0, 0, 0, 0, 0])"
      ]
     },
     "execution_count": 71,
     "metadata": {},
     "output_type": "execute_result"
    }
   ],
   "source": [
    "a_2 = np.zeros(10, int)\n",
    "a_2"
   ]
  },
  {
   "cell_type": "code",
   "execution_count": 73,
   "id": "84b1f454-1f3a-44f4-9f6e-18d574d98cdf",
   "metadata": {},
   "outputs": [
    {
     "data": {
      "text/plain": [
       "dtype('int32')"
      ]
     },
     "execution_count": 73,
     "metadata": {},
     "output_type": "execute_result"
    }
   ],
   "source": [
    "a_2.dtype"
   ]
  },
  {
   "cell_type": "markdown",
   "id": "b50c6990-32fb-40cd-9b38-29e1f2cefe75",
   "metadata": {},
   "source": [
    "-----------------------------------------------------------------------------------------------------------------------------------------------------------\n",
    "-----------------------------------------------------------------------------------------------------------------------------------------------------------"
   ]
  },
  {
   "cell_type": "markdown",
   "id": "06ca09b9-f3bf-43cb-8f68-8e6c3b1a3845",
   "metadata": {},
   "source": [
    "<h2 style = \"color : #FF6700\"> Arrays in NumPy </h2>"
   ]
  },
  {
   "cell_type": "markdown",
   "id": "5f5b6825-aead-4bb9-81ea-f2ebe2b0fab3",
   "metadata": {},
   "source": [
    "NumPy’s main object is the homogeneous multidimensional array.\n",
    "\n",
    "- It is a table of elements (usually numbers), all of the same type, indexed by a tuple of positive integers.\n",
    "- In NumPy, dimensions are called axes. The number of axes is rank.\n",
    "- NumPy’s array class is called ndarray. It is also known by the alias array."
   ]
  },
  {
   "cell_type": "code",
   "execution_count": 85,
   "id": "cd98be9a-0035-4373-8683-4ba0ae28fba6",
   "metadata": {},
   "outputs": [
    {
     "data": {
      "text/plain": [
       "array([[0., 0., 0., 0.],\n",
       "       [0., 0., 0., 0.],\n",
       "       [0., 0., 0., 0.]])"
      ]
     },
     "execution_count": 85,
     "metadata": {},
     "output_type": "execute_result"
    }
   ],
   "source": [
    "np.zeros((3, 4))"
   ]
  },
  {
   "cell_type": "code",
   "execution_count": 87,
   "id": "17bdf703-ccb1-4543-9b5b-d9c2a9e3be44",
   "metadata": {},
   "outputs": [
    {
     "data": {
      "text/plain": [
       "[1, 2, 3, 4]"
      ]
     },
     "execution_count": 87,
     "metadata": {},
     "output_type": "execute_result"
    }
   ],
   "source": [
    "l3 = [1, 2, 3, 4]\n",
    "l3"
   ]
  },
  {
   "cell_type": "code",
   "execution_count": 91,
   "id": "f1e716e6-57bc-47a9-b5c8-7826297c5e43",
   "metadata": {},
   "outputs": [
    {
     "data": {
      "text/plain": [
       "array([1, 2, 3, 4])"
      ]
     },
     "execution_count": 91,
     "metadata": {},
     "output_type": "execute_result"
    }
   ],
   "source": [
    "a2 = np.array(l3)\n",
    "a2"
   ]
  },
  {
   "cell_type": "code",
   "execution_count": 93,
   "id": "7da14f2d-67bd-45c9-8695-ffa88f0691ff",
   "metadata": {},
   "outputs": [
    {
     "data": {
      "text/plain": [
       "array([[1, 2],\n",
       "       [3, 4]])"
      ]
     },
     "execution_count": 93,
     "metadata": {},
     "output_type": "execute_result"
    }
   ],
   "source": [
    "a3 = a2.reshape(2, 2)\n",
    "a3"
   ]
  },
  {
   "cell_type": "code",
   "execution_count": 95,
   "id": "579a4e6f-f216-4ecb-8438-aec2105f67b0",
   "metadata": {},
   "outputs": [
    {
     "name": "stdout",
     "output_type": "stream",
     "text": [
      "Array is of type:  <class 'numpy.ndarray'>\n",
      "No. of dimensions:  2\n",
      "Shape of array:  (2, 3)\n",
      "Size of array:  6\n",
      "Array stores elements of type:  int32\n"
     ]
    }
   ],
   "source": [
    "# Creating array object\n",
    "arr = np.array( [[ 1, 2, 3],\n",
    "                 [ 4, 2, 5]] )\n",
    "\n",
    "# Printing type of arr object\n",
    "print(\"Array is of type: \", type(arr))\n",
    "\n",
    "# Printing array dimensions (axes)\n",
    "print(\"No. of dimensions: \", arr.ndim)\n",
    "\n",
    "# Printing shape of array\n",
    "print(\"Shape of array: \", arr.shape)\n",
    "\n",
    "# Printing size (total number of elements) of array\n",
    "print(\"Size of array: \", arr.size)\n",
    "\n",
    "# Printing type of elements in array\n",
    "print(\"Array stores elements of type: \", arr.dtype)"
   ]
  },
  {
   "cell_type": "markdown",
   "id": "83f9fa84-d11d-4485-89f1-27fd4b77049d",
   "metadata": {},
   "source": [
    "-----------------------------------------------------------------------------------------------------------------------------------------------------------\n",
    "-----------------------------------------------------------------------------------------------------------------------------------------------------------"
   ]
  },
  {
   "cell_type": "markdown",
   "id": "77193979-f38f-4242-b742-9655997c8fe5",
   "metadata": {},
   "source": [
    "<h2 style = \"color : tomato\"> NumPy Array Creation </h2>"
   ]
  },
  {
   "cell_type": "markdown",
   "id": "3fbb37c0-2117-408e-adf6-6f271f3c290e",
   "metadata": {},
   "source": [
    "<h3 style = \"color : coral\"> 1. Create NumPy Array with List and Tuple </h3>"
   ]
  },
  {
   "cell_type": "code",
   "execution_count": 106,
   "id": "054a3cd1-c3ac-454c-8f19-56794a04f076",
   "metadata": {},
   "outputs": [
    {
     "name": "stdout",
     "output_type": "stream",
     "text": [
      "Array created using list:\n",
      " [[1. 2. 4.]\n",
      " [5. 8. 7.]]\n",
      "\n",
      "Array created using tuple:\n",
      " [1 3 2]\n"
     ]
    }
   ],
   "source": [
    "# Creating array from list with type float\n",
    "a4 = np.array([[1, 2, 4], [5, 8, 7]], dtype = 'float')\n",
    "print(\"Array created using list:\\n\", a4)\n",
    "\n",
    "# Creating array from tuple\n",
    "a5 = np.array((1 , 3, 2))\n",
    "print(\"\\nArray created using tuple:\\n\", a5)"
   ]
  },
  {
   "cell_type": "markdown",
   "id": "d14c6967-5104-47a0-babf-d40f4a8419ac",
   "metadata": {},
   "source": [
    "<h3 style = \"color : coral\"> 2. Create Array of Fixed Size </h3>"
   ]
  },
  {
   "cell_type": "markdown",
   "id": "f6d02609-0557-4a01-a6b3-bf4b86b77b54",
   "metadata": {},
   "source": [
    "Often, the element is of an array is originally unknown, but its size is known. Hence, NumPy offers several functions to create arrays with initial placeholder content.\n",
    "\n",
    "This minimize the necessity of growing arrays, an expensive operation. For example: np.zeros, np.ones, np.full, np.empty, etc.\n",
    "\n",
    "To create sequences of numbers, NumPy provides a function analogous to the range that returns arrays instead of lists."
   ]
  },
  {
   "cell_type": "code",
   "execution_count": 111,
   "id": "d8d96689-3e0a-4af8-982e-6d5e00a47ebc",
   "metadata": {},
   "outputs": [
    {
     "name": "stdout",
     "output_type": "stream",
     "text": [
      "An array initialized with all zeros:\n",
      " [[0. 0. 0. 0.]\n",
      " [0. 0. 0. 0.]\n",
      " [0. 0. 0. 0.]]\n"
     ]
    }
   ],
   "source": [
    "# Creating a 3X4 array with all zeros\n",
    "A1 = np.zeros((3, 4))\n",
    "print(\"An array initialized with all zeros:\\n\", A1)"
   ]
  },
  {
   "cell_type": "code",
   "execution_count": 113,
   "id": "23e55b97-2064-4460-9242-faac2458bb28",
   "metadata": {},
   "outputs": [
    {
     "data": {
      "text/plain": [
       "(3, 4)"
      ]
     },
     "execution_count": 113,
     "metadata": {},
     "output_type": "execute_result"
    }
   ],
   "source": [
    "A1.shape"
   ]
  },
  {
   "cell_type": "code",
   "execution_count": 123,
   "id": "6d970c97-19fa-4071-bc1f-3ed755578f4b",
   "metadata": {},
   "outputs": [],
   "source": [
    "A1[2] = 1"
   ]
  },
  {
   "cell_type": "code",
   "execution_count": 125,
   "id": "8699ce77-d3fb-4a6a-bf01-02af586ee930",
   "metadata": {},
   "outputs": [
    {
     "data": {
      "text/plain": [
       "array([[0., 0., 0., 0.],\n",
       "       [0., 0., 0., 0.],\n",
       "       [1., 1., 1., 1.]])"
      ]
     },
     "execution_count": 125,
     "metadata": {},
     "output_type": "execute_result"
    }
   ],
   "source": [
    "A1"
   ]
  },
  {
   "cell_type": "code",
   "execution_count": 127,
   "id": "bb8fd9cd-a4f8-4a60-b315-7b03855b01a6",
   "metadata": {},
   "outputs": [],
   "source": [
    "A1[2,1] = 2"
   ]
  },
  {
   "cell_type": "code",
   "execution_count": 129,
   "id": "006c7fa6-6fa8-4c2b-aa3c-19e7f63a16c9",
   "metadata": {},
   "outputs": [
    {
     "data": {
      "text/plain": [
       "array([[0., 0., 0., 0.],\n",
       "       [0., 0., 0., 0.],\n",
       "       [1., 2., 1., 1.]])"
      ]
     },
     "execution_count": 129,
     "metadata": {},
     "output_type": "execute_result"
    }
   ],
   "source": [
    "A1"
   ]
  },
  {
   "cell_type": "markdown",
   "id": "7ec1254b-dd64-43b7-8d7c-c3e485db1880",
   "metadata": {},
   "source": [
    "-----------------------------------------------------------------------------------------------------------------------------------------------------------\n",
    "-----------------------------------------------------------------------------------------------------------------------------------------------------------"
   ]
  },
  {
   "cell_type": "markdown",
   "id": "bf1e3a4d-e2cc-4377-a1d8-d7acaa600234",
   "metadata": {},
   "source": [
    "**numpy.full(shape, fill_value, dtype = None, order = ‘C’) : Return a new array with the same shape and type as a given array filled with a fill_value.**\n",
    "\n",
    "Parameters :\n",
    "\n",
    "- shape      : Number of rows\n",
    "- order      : C_contiguous or F_contiguous\n",
    "- dtype      : [optional, float(by Default)] Data type of returned array.  \n",
    "- fill_value : [bool, optional] Value to fill in the array.\n"
   ]
  },
  {
   "cell_type": "code",
   "execution_count": 133,
   "id": "5bbfdda0-c324-417a-a825-78f3d8b9ea01",
   "metadata": {},
   "outputs": [
    {
     "name": "stdout",
     "output_type": "stream",
     "text": [
      "An array initialized with all 6s. Array type is complex:\n",
      " [[6.+0.j 6.+0.j 6.+0.j]\n",
      " [6.+0.j 6.+0.j 6.+0.j]\n",
      " [6.+0.j 6.+0.j 6.+0.j]]\n"
     ]
    }
   ],
   "source": [
    "# Create a constant value array of complex type\n",
    "A2 = np.full((3, 3), 6, dtype = 'complex')\n",
    "print(\"An array initialized with all 6s. \" \n",
    "            \"Array type is complex:\\n\", A2)"
   ]
  },
  {
   "cell_type": "code",
   "execution_count": 149,
   "id": "66cc9ffe-8b47-4919-b53f-48552ddc6c63",
   "metadata": {},
   "outputs": [
    {
     "data": {
      "text/plain": [
       "array([[3., 3., 3., 3.],\n",
       "       [3., 3., 3., 3.],\n",
       "       [3., 3., 3., 3.],\n",
       "       [3., 3., 3., 3.],\n",
       "       [3., 3., 3., 3.]])"
      ]
     },
     "execution_count": 149,
     "metadata": {},
     "output_type": "execute_result"
    }
   ],
   "source": [
    "np.full((5,4), 3, dtype = 'float')"
   ]
  },
  {
   "cell_type": "markdown",
   "id": "4481028a-02bc-471b-8b6c-e05221397448",
   "metadata": {},
   "source": [
    "-----------------------------------------------------------------------------------------------------------------------------------------------------------\n",
    "-----------------------------------------------------------------------------------------------------------------------------------------------------------"
   ]
  },
  {
   "cell_type": "markdown",
   "id": "683e8ea4-3ae7-4fcb-9006-e71c6e5f32c6",
   "metadata": {},
   "source": [
    "***numpy.random.random() is one of the function for doing random sampling in numpy. It returns an array of specified shape and fills it with random floats in the half-open interval [0.0, 1.0).***\n",
    "\n",
    "\n",
    "- Syntax  :  numpy.random.random(size=None)\n",
    "\n",
    "- Parameters : \n",
    "\n",
    "- size   :  [int or tuple of ints, optional] Output shape. If the given shape is, e.g., (m, n, k), then m * n * k samples are drawn. Default is None, in which case a single value is returned.\n",
    "\n",
    "- Return  :  Array of random floats in the interval [0.0, 1.0). or a single such random float if size not provided.\n"
   ]
  },
  {
   "cell_type": "code",
   "execution_count": 170,
   "id": "4c500e62-ab77-4ed5-a138-03288f93f3be",
   "metadata": {},
   "outputs": [
    {
     "name": "stdout",
     "output_type": "stream",
     "text": [
      "A random array:\n",
      " [[0.16625293 0.64960002]\n",
      " [0.91754804 0.36225147]]\n"
     ]
    }
   ],
   "source": [
    "# Create an array with random values\n",
    "A3 = np.random.random((2, 2))\n",
    "print(\"A random array:\\n\", A3)"
   ]
  },
  {
   "cell_type": "code",
   "execution_count": 172,
   "id": "c527a506-c24d-47c8-8c4f-7fee50ab04d1",
   "metadata": {},
   "outputs": [
    {
     "data": {
      "text/plain": [
       "2"
      ]
     },
     "execution_count": 172,
     "metadata": {},
     "output_type": "execute_result"
    }
   ],
   "source": [
    "A3.ndim"
   ]
  },
  {
   "cell_type": "markdown",
   "id": "120a9bfd-cd79-414a-b9ab-cd5f2b54aed7",
   "metadata": {},
   "source": [
    "-----------------------------------------------------------------------------------------------------------------------------------------------------------\n",
    "-----------------------------------------------------------------------------------------------------------------------------------------------------------"
   ]
  },
  {
   "cell_type": "markdown",
   "id": "b1085a41-58c0-49d3-9b96-586e1b4a0fae",
   "metadata": {},
   "source": [
    "<h3 style = \"color : coral\"> 3. Create Using arange() Function </h3>"
   ]
  },
  {
   "cell_type": "markdown",
   "id": "3facd5f1-710e-4256-a835-3952ee05f035",
   "metadata": {},
   "source": [
    "***The arange([start,] stop[, step,][, dtype]) : Returns an array with evenly spaced elements as per the interval. The interval mentioned is half-opened i.e. [Start, Stop)***\n",
    "\n",
    "Parameters : \n",
    "\n",
    "- start : [optional] start of interval range. By default start = 0\n",
    "- stop  : end of interval range\n",
    "- step  : [optional] step size of interval. By default step size = 1,  \n",
    "For any output out, this is the distance between two adjacent values, out[i+1] - out[i]. \n",
    "- dtype : type of output array\n",
    "\n",
    "Return: \n",
    "\n",
    "- Array of evenly spaced values.\n",
    "- Length of array being generated  = Ceil((Stop - Start) / Step) "
   ]
  },
  {
   "cell_type": "markdown",
   "id": "65734973-e380-4553-aa2b-61c661c68325",
   "metadata": {},
   "source": [
    "***arange():*** This function returns evenly spaced values within a given interval. Step size is specified."
   ]
  },
  {
   "cell_type": "code",
   "execution_count": 174,
   "id": "459eb1a8-9a69-44b6-80dc-79a3f6fd2e59",
   "metadata": {},
   "outputs": [
    {
     "name": "stdout",
     "output_type": "stream",
     "text": [
      "A sequential array with steps of 5:\n",
      " [ 0  5 10 15 20 25]\n"
     ]
    }
   ],
   "source": [
    "# Create a sequence of integers \n",
    "# from 0 to 30 with steps of 5\n",
    "A4 = np.arange(0, 30, 5)\n",
    "print(\"A sequential array with steps of 5:\\n\", A4)"
   ]
  },
  {
   "cell_type": "markdown",
   "id": "1bb68fcb-1e0e-439d-9e09-76037910d0cc",
   "metadata": {},
   "source": [
    "-----------------------------------------------------------------------------------------------------------------------------------------------------------\n",
    "-----------------------------------------------------------------------------------------------------------------------------------------------------------"
   ]
  },
  {
   "cell_type": "markdown",
   "id": "5b70c254-5b8a-4831-87d0-f4420f92485e",
   "metadata": {},
   "source": [
    "<h3 style = \"color : coral\"> 4. Create Using linspace() Function </h3>"
   ]
  },
  {
   "cell_type": "markdown",
   "id": "7cf81697-a7a2-4e8c-9a7b-d0731fdd2505",
   "metadata": {},
   "source": [
    "<h4 style = \"color : cyan\"> The NumPy.linspace() function returns an array of evenly spaced values within the specified interval [start, stop]. </h4>\n",
    "\n",
    "<h4 style = \"color : cyan\"> It is similar to NumPy.arange() function but instead of a step, it uses a sample number. </h4>"
   ]
  },
  {
   "cell_type": "markdown",
   "id": "247d131c-ecad-4ec9-ab0c-95720ffb7d54",
   "metadata": {},
   "source": [
    "<b style = \"color : darkorange\"> Syntax </b>\n",
    "\n",
    "\n",
    "<b>Synatx:</b> numpy.linspace(start, stop, num=50, endpoint=True , retstep=False, dtype=None, axis=0)\n",
    "\n",
    "<b>Parameters:</b>\n",
    "\n",
    "\n",
    "- start: [optional] start of interval range. By default start = 0\n",
    "\n",
    "- stop: end of interval range\n",
    "\n",
    "- num: [int, optional] No. of samples to generate\n",
    "\n",
    "- retstep: If True, Stop is the last sample By default restep = False\n",
    "\n",
    "- endpoint: If True, stop is included as the last value. If False, stop is excluded. By default  endpoint=True.\n",
    "\n",
    "- dtype: type of output array\n",
    "\n",
    "- axis: If start and stop are arrays, axis specifies on what axis will the values be added. If axis = 0, value is added to front, if  axis = -1 value is added at the end.\n"
   ]
  },
  {
   "cell_type": "code",
   "execution_count": 194,
   "id": "d8324b34-9b13-45e6-9967-96af09bdd9db",
   "metadata": {},
   "outputs": [
    {
     "name": "stdout",
     "output_type": "stream",
     "text": [
      "A sequential array with 10 values between 0 and 5:\n",
      " [0.         0.55555556 1.11111111 1.66666667 2.22222222 2.77777778\n",
      " 3.33333333 3.88888889 4.44444444 5.        ]\n"
     ]
    }
   ],
   "source": [
    "# Create a sequence of 10 values in range 0 to 5\n",
    "A5 = np.linspace(0, 5, 10)\n",
    "print(\"A sequential array with 10 values between 0 and 5:\\n\", A5)"
   ]
  },
  {
   "cell_type": "markdown",
   "id": "13104795-72d5-40da-8902-09cdc072ae35",
   "metadata": {},
   "source": [
    "-----------------------------------------------------------------------------------------------------------------------------------------------------------\n",
    "-----------------------------------------------------------------------------------------------------------------------------------------------------------"
   ]
  },
  {
   "cell_type": "markdown",
   "id": "8fca5827-7160-4620-b1c2-d82acfc64cfb",
   "metadata": {},
   "source": [
    "<h3 style = \"color : coral\"> 5. Reshaping Array using Reshape Method </h3>"
   ]
  },
  {
   "cell_type": "markdown",
   "id": "572fc135-0dcd-4114-96d8-fba782a3fcb7",
   "metadata": {},
   "source": [
    "**Reshaping array:** We can use reshape method to reshape an array.\n",
    "\n",
    "Consider an array with shape (a1, a2, a3, …, aN). We can reshape and convert it into another array with shape (b1, b2, b3, …, bM). The only required condition is a1 x a2 x a3 … x aN = b1 x b2 x b3 … x bM. (i.e. the original size of the array remains unchanged.)"
   ]
  },
  {
   "cell_type": "code",
   "execution_count": 198,
   "id": "deb65574-219f-4c7d-8caf-424a316d8a82",
   "metadata": {},
   "outputs": [
    {
     "name": "stdout",
     "output_type": "stream",
     "text": [
      "Original array:\n",
      " [[1 2 3 4]\n",
      " [5 2 4 2]\n",
      " [1 2 0 1]]\n",
      "---------------\n",
      "Reshaped array:\n",
      " [[[1 2 3]\n",
      "  [4 5 2]]\n",
      "\n",
      " [[4 2 1]\n",
      "  [2 0 1]]]\n"
     ]
    }
   ],
   "source": [
    "# Reshaping 3X4 array to 2X2X3 array\n",
    "arr = np.array([[1, 2, 3, 4],\n",
    "                [5, 2, 4, 2],\n",
    "                [1, 2, 0, 1]])\n",
    "\n",
    "newarr = arr.reshape(2, 2, 3)\n",
    "\n",
    "print(\"Original array:\\n\", arr)\n",
    "print(\"---------------\")\n",
    "print(\"Reshaped array:\\n\", newarr)"
   ]
  },
  {
   "cell_type": "markdown",
   "id": "3e08b502-c540-4767-b7a7-8c2440034532",
   "metadata": {},
   "source": [
    "-----------------------------------------------------------------------------------------------------------------------------------------------------------\n",
    "-----------------------------------------------------------------------------------------------------------------------------------------------------------"
   ]
  },
  {
   "cell_type": "markdown",
   "id": "eb46b8a5-858b-40e8-a4a8-0f51c1b73c3f",
   "metadata": {},
   "source": [
    "<h3 style = \"color : coral\"> 6. Flatten Array </h3>"
   ]
  },
  {
   "cell_type": "markdown",
   "id": "2a2eef28-f64e-4830-a0e2-489573cf16ca",
   "metadata": {},
   "source": [
    "**Flatten array:** We can use flatten method to get a copy of the array collapsed into one dimension.\n",
    "\n",
    "It accepts order argument. The default value is ????’ (for row-major order). Use ????’ for column-major order."
   ]
  },
  {
   "cell_type": "code",
   "execution_count": 204,
   "id": "a8708f57-f695-450c-9d35-1a7981059679",
   "metadata": {},
   "outputs": [
    {
     "name": "stdout",
     "output_type": "stream",
     "text": [
      "Original array:\n",
      " [[1 2 3]\n",
      " [4 5 6]]\n",
      "-------------------------\n",
      "Fattened array:\n",
      " [1 2 3 4 5 6]\n"
     ]
    }
   ],
   "source": [
    "# Flatten array\n",
    "arr1 = np.array([[1, 2, 3], [4, 5, 6]])\n",
    "flat_arr = arr1.flatten()\n",
    "\n",
    "print(\"Original array:\\n\", arr1)\n",
    "print('-------------------------')\n",
    "print(\"Fattened array:\\n\", flat_arr)"
   ]
  },
  {
   "cell_type": "markdown",
   "id": "8154af17-0dcb-4dbd-a57c-445c10cdffff",
   "metadata": {},
   "source": [
    "-----------------------------------------------------------------------------------------------------------------------------------------------------------\n",
    "-----------------------------------------------------------------------------------------------------------------------------------------------------------"
   ]
  },
  {
   "cell_type": "markdown",
   "id": "adce6a41-bc12-48df-a0c9-fe13a37243f6",
   "metadata": {},
   "source": [
    "<h2 style = \"color : steelblue\"> NumPy Array Indexing </h2>"
   ]
  },
  {
   "cell_type": "markdown",
   "id": "f54d1efc-d278-4cf2-8e43-2923e00830d2",
   "metadata": {},
   "source": [
    "<b style = \"color : tomato\"> NumPy Array Indexing </b>\n",
    "\n",
    "Knowing the basics of NumPy array indexing is important for analyzing and manipulating the array object. \n",
    "NumPy in Python offers many ways to do array indexing.\n",
    "\n",
    "- Slicing: Just like lists in Python, NumPy arrays can be sliced. As arrays can be multidimensional, you need to specify\n",
    "a slice for each dimension of the array.\n",
    "\n",
    "- Integer array indexing: In this method, lists are passed for indexing for each dimension. One-to-one mapping of corresponding\n",
    "elements is done to construct a new arbitrary array.\n",
    "\n",
    "- Boolean array indexing: This method is used when we want to pick elements from the array which satisfy some condition."
   ]
  },
  {
   "cell_type": "code",
   "execution_count": 213,
   "id": "e9a4944e-f989-4136-8e1b-941577823ef2",
   "metadata": {},
   "outputs": [
    {
     "name": "stdout",
     "output_type": "stream",
     "text": [
      "Array with first 2 rows and alternate columns(0 and 2):\n",
      " [[-1.  0.]\n",
      " [ 4.  6.]]\n",
      "\n",
      "Elements at indices (0, 3), (1, 2), (2, 1), (3, 0):\n",
      " [4. 6. 0. 3.]\n",
      "\n",
      "Elements greater than 0:\n",
      " [2.  4.  4.  6.  2.6 7.  8.  3.  4.  2. ]\n"
     ]
    }
   ],
   "source": [
    "# Python program to demonstrate\n",
    "# indexing in numpy\n",
    "\n",
    "# An exemplar array\n",
    "arr_1 = np.array([[-1, 2, 0, 4],\n",
    "                [4, -0.5, 6, 0],\n",
    "                [2.6, 0, 7, 8],\n",
    "                [3, -7, 4, 2.0]])\n",
    "\n",
    "# Slicing array\n",
    "temp = arr_1[:2, ::2]\n",
    "print(\"Array with first 2 rows and alternate columns(0 and 2):\\n\", temp)\n",
    "\n",
    "# Integer array indexing example\n",
    "temp = arr_1[[0, 1, 2, 3], [3, 2, 1, 0]]\n",
    "print(\"\\nElements at indices (0, 3), (1, 2), (2, 1), (3, 0):\\n\", temp)\n",
    "\n",
    "# boolean array indexing example\n",
    "arr_2 = arr_1 > 0 # arr_2 is a boolean array\n",
    "temp = arr_1[arr_2]\n",
    "print(\"\\nElements greater than 0:\\n\", temp)\n"
   ]
  },
  {
   "cell_type": "code",
   "execution_count": 215,
   "id": "a9411885-79b5-4336-b1f7-465f05371196",
   "metadata": {},
   "outputs": [
    {
     "data": {
      "text/plain": [
       "array([[1, 2, 3],\n",
       "       [4, 5, 6]])"
      ]
     },
     "execution_count": 215,
     "metadata": {},
     "output_type": "execute_result"
    }
   ],
   "source": [
    "arr1"
   ]
  },
  {
   "cell_type": "code",
   "execution_count": 217,
   "id": "aa7bbe0f-ce62-4ea3-9bc9-92112071be1b",
   "metadata": {},
   "outputs": [
    {
     "data": {
      "text/plain": [
       "6"
      ]
     },
     "execution_count": 217,
     "metadata": {},
     "output_type": "execute_result"
    }
   ],
   "source": [
    "arr1.max()"
   ]
  },
  {
   "cell_type": "code",
   "execution_count": 219,
   "id": "9ef27702-df43-4ec3-a54e-bd2d3587d86b",
   "metadata": {},
   "outputs": [
    {
     "data": {
      "text/plain": [
       "21"
      ]
     },
     "execution_count": 219,
     "metadata": {},
     "output_type": "execute_result"
    }
   ],
   "source": [
    "arr1.sum()"
   ]
  },
  {
   "cell_type": "code",
   "execution_count": 221,
   "id": "627a3429-20b4-4a82-9713-42cdf2105002",
   "metadata": {},
   "outputs": [
    {
     "data": {
      "text/plain": [
       "array([ 1,  3,  6, 10, 15, 21])"
      ]
     },
     "execution_count": 221,
     "metadata": {},
     "output_type": "execute_result"
    }
   ],
   "source": [
    "arr1.cumsum()"
   ]
  },
  {
   "cell_type": "code",
   "execution_count": 231,
   "id": "7c1cb478-d549-4e71-9b9c-d67e484a2b90",
   "metadata": {},
   "outputs": [
    {
     "data": {
      "text/plain": [
       "array([[1, 2, 3],\n",
       "       [4, 5, 6]])"
      ]
     },
     "execution_count": 231,
     "metadata": {},
     "output_type": "execute_result"
    }
   ],
   "source": [
    "arr1"
   ]
  },
  {
   "cell_type": "code",
   "execution_count": 229,
   "id": "87d23691-d0b4-4410-b413-86a6efc8d99e",
   "metadata": {},
   "outputs": [
    {
     "data": {
      "text/plain": [
       "array([[ 8,  9, 10],\n",
       "       [11, 12, 13]])"
      ]
     },
     "execution_count": 229,
     "metadata": {},
     "output_type": "execute_result"
    }
   ],
   "source": [
    "arr4 = arr1 + 7\n",
    "arr4"
   ]
  },
  {
   "cell_type": "code",
   "execution_count": 233,
   "id": "c5abe088-1baa-4c11-a265-fb4a380b36a9",
   "metadata": {},
   "outputs": [
    {
     "data": {
      "text/plain": [
       "array([[ 7, 14, 21],\n",
       "       [28, 35, 42]])"
      ]
     },
     "execution_count": 233,
     "metadata": {},
     "output_type": "execute_result"
    }
   ],
   "source": [
    "arr5 = arr1 * 7\n",
    "arr5"
   ]
  },
  {
   "cell_type": "code",
   "execution_count": null,
   "id": "2e111449-6487-4da9-9097-3776fc142e09",
   "metadata": {},
   "outputs": [],
   "source": []
  }
 ],
 "metadata": {
  "kernelspec": {
   "display_name": "Python 3 (ipykernel)",
   "language": "python",
   "name": "python3"
  },
  "language_info": {
   "codemirror_mode": {
    "name": "ipython",
    "version": 3
   },
   "file_extension": ".py",
   "mimetype": "text/x-python",
   "name": "python",
   "nbconvert_exporter": "python",
   "pygments_lexer": "ipython3",
   "version": "3.11.7"
  }
 },
 "nbformat": 4,
 "nbformat_minor": 5
}
