{
 "cells": [
  {
   "cell_type": "markdown",
   "id": "be687665-7463-46c3-95e6-a11de936a4c9",
   "metadata": {},
   "source": [
    "<h1 style = \"color : dodgerblue; font-size : 50px\"> K Nearest Neighbours (KNN) </h1>"
   ]
  },
  {
   "cell_type": "markdown",
   "id": "798175a1-7f7f-44b8-85aa-3df7563acad6",
   "metadata": {},
   "source": [
    "<h2 style = \"color : Turquoise\"> Importing Libraries </h2>"
   ]
  },
  {
   "cell_type": "code",
   "execution_count": 1,
   "id": "8bbe775f-df22-44ff-b068-e455235e9b3e",
   "metadata": {},
   "outputs": [],
   "source": [
    "import numpy as np\n",
    "import matplotlib.pyplot as plt\n",
    "import pandas as pd"
   ]
  },
  {
   "cell_type": "markdown",
   "id": "1620638c-ce0f-4b10-b04d-2c626c48ddec",
   "metadata": {},
   "source": [
    "<h2 style = \"color : Turquoise\"> Importing Data Set </h2>"
   ]
  },
  {
   "cell_type": "code",
   "execution_count": 3,
   "id": "b7b71cf5-1dc0-42d8-a79b-052dfe407257",
   "metadata": {},
   "outputs": [],
   "source": [
    "df = pd.read_excel('Dataset/Loan Distribution.xlsx')"
   ]
  },
  {
   "cell_type": "code",
   "execution_count": 5,
   "id": "7f7d6ae8-4d30-4105-9d94-68bc473e1f16",
   "metadata": {},
   "outputs": [
    {
     "data": {
      "text/html": [
       "<div>\n",
       "<style scoped>\n",
       "    .dataframe tbody tr th:only-of-type {\n",
       "        vertical-align: middle;\n",
       "    }\n",
       "\n",
       "    .dataframe tbody tr th {\n",
       "        vertical-align: top;\n",
       "    }\n",
       "\n",
       "    .dataframe thead th {\n",
       "        text-align: right;\n",
       "    }\n",
       "</style>\n",
       "<table border=\"1\" class=\"dataframe\">\n",
       "  <thead>\n",
       "    <tr style=\"text-align: right;\">\n",
       "      <th></th>\n",
       "      <th>Existing Loans</th>\n",
       "      <th>Credit Score</th>\n",
       "      <th>Loan Given</th>\n",
       "    </tr>\n",
       "  </thead>\n",
       "  <tbody>\n",
       "    <tr>\n",
       "      <th>0</th>\n",
       "      <td>0</td>\n",
       "      <td>84</td>\n",
       "      <td>0</td>\n",
       "    </tr>\n",
       "    <tr>\n",
       "      <th>1</th>\n",
       "      <td>0</td>\n",
       "      <td>100</td>\n",
       "      <td>0</td>\n",
       "    </tr>\n",
       "    <tr>\n",
       "      <th>2</th>\n",
       "      <td>0</td>\n",
       "      <td>100</td>\n",
       "      <td>0</td>\n",
       "    </tr>\n",
       "    <tr>\n",
       "      <th>3</th>\n",
       "      <td>0</td>\n",
       "      <td>106</td>\n",
       "      <td>0</td>\n",
       "    </tr>\n",
       "    <tr>\n",
       "      <th>4</th>\n",
       "      <td>0</td>\n",
       "      <td>112</td>\n",
       "      <td>0</td>\n",
       "    </tr>\n",
       "  </tbody>\n",
       "</table>\n",
       "</div>"
      ],
      "text/plain": [
       "   Existing Loans  Credit Score  Loan Given\n",
       "0               0            84           0\n",
       "1               0           100           0\n",
       "2               0           100           0\n",
       "3               0           106           0\n",
       "4               0           112           0"
      ]
     },
     "execution_count": 5,
     "metadata": {},
     "output_type": "execute_result"
    }
   ],
   "source": [
    "# top 5 records\n",
    "df.head()"
   ]
  },
  {
   "cell_type": "code",
   "execution_count": 7,
   "id": "ea7ded87-3d9a-41fc-95b3-1fa14c6af94e",
   "metadata": {},
   "outputs": [
    {
     "data": {
      "text/html": [
       "<div>\n",
       "<style scoped>\n",
       "    .dataframe tbody tr th:only-of-type {\n",
       "        vertical-align: middle;\n",
       "    }\n",
       "\n",
       "    .dataframe tbody tr th {\n",
       "        vertical-align: top;\n",
       "    }\n",
       "\n",
       "    .dataframe thead th {\n",
       "        text-align: right;\n",
       "    }\n",
       "</style>\n",
       "<table border=\"1\" class=\"dataframe\">\n",
       "  <thead>\n",
       "    <tr style=\"text-align: right;\">\n",
       "      <th></th>\n",
       "      <th>Existing Loans</th>\n",
       "      <th>Credit Score</th>\n",
       "      <th>Loan Given</th>\n",
       "    </tr>\n",
       "  </thead>\n",
       "  <tbody>\n",
       "    <tr>\n",
       "      <th>221</th>\n",
       "      <td>3</td>\n",
       "      <td>892</td>\n",
       "      <td>0</td>\n",
       "    </tr>\n",
       "    <tr>\n",
       "      <th>222</th>\n",
       "      <td>3</td>\n",
       "      <td>892</td>\n",
       "      <td>0</td>\n",
       "    </tr>\n",
       "    <tr>\n",
       "      <th>223</th>\n",
       "      <td>2</td>\n",
       "      <td>894</td>\n",
       "      <td>1</td>\n",
       "    </tr>\n",
       "    <tr>\n",
       "      <th>224</th>\n",
       "      <td>2</td>\n",
       "      <td>896</td>\n",
       "      <td>1</td>\n",
       "    </tr>\n",
       "    <tr>\n",
       "      <th>225</th>\n",
       "      <td>3</td>\n",
       "      <td>900</td>\n",
       "      <td>0</td>\n",
       "    </tr>\n",
       "  </tbody>\n",
       "</table>\n",
       "</div>"
      ],
      "text/plain": [
       "     Existing Loans  Credit Score  Loan Given\n",
       "221               3           892           0\n",
       "222               3           892           0\n",
       "223               2           894           1\n",
       "224               2           896           1\n",
       "225               3           900           0"
      ]
     },
     "execution_count": 7,
     "metadata": {},
     "output_type": "execute_result"
    }
   ],
   "source": [
    "# bottom 5 records\n",
    "df.tail()"
   ]
  },
  {
   "cell_type": "code",
   "execution_count": 13,
   "id": "41683074-4f44-49c5-94de-ee262a867cf4",
   "metadata": {},
   "outputs": [
    {
     "data": {
      "text/plain": [
       "(226, 3)"
      ]
     },
     "execution_count": 13,
     "metadata": {},
     "output_type": "execute_result"
    }
   ],
   "source": [
    "# columns : 3\n",
    "# rows : 226\n",
    "df.shape"
   ]
  },
  {
   "cell_type": "code",
   "execution_count": 15,
   "id": "f5fbedc0-94ea-46c9-9350-efd086d00881",
   "metadata": {},
   "outputs": [],
   "source": [
    "# Splitting dataset into X and Y\n",
    "# X : Age, Mobile Phone \n",
    "# y : Purchased\n",
    "X = df.iloc[:, :-1].values\n",
    "y = df.iloc[:, -1].values"
   ]
  },
  {
   "cell_type": "code",
   "execution_count": 17,
   "id": "dadb2d8c-edd8-4185-a38d-214b03ba3b02",
   "metadata": {},
   "outputs": [
    {
     "data": {
      "text/plain": [
       "array([[  0,  84],\n",
       "       [  0, 100],\n",
       "       [  0, 100],\n",
       "       [  0, 106],\n",
       "       [  0, 112],\n",
       "       [  0, 112],\n",
       "       [  0, 112],\n",
       "       [  0, 117],\n",
       "       [  0, 117],\n",
       "       [  0, 123],\n",
       "       [  0, 123],\n",
       "       [  0, 123],\n",
       "       [  0, 128],\n",
       "       [  0, 128],\n",
       "       [  0, 128],\n",
       "       [  0, 145],\n",
       "       [  0, 145],\n",
       "       [  0, 150],\n",
       "       [  0, 156],\n",
       "       [  0, 156],\n",
       "       [  0, 167],\n",
       "       [  0, 178],\n",
       "       [  0, 178],\n",
       "       [  0, 178],\n",
       "       [  0, 184],\n",
       "       [  0, 184],\n",
       "       [  0, 189],\n",
       "       [  0, 195],\n",
       "       [  0, 200],\n",
       "       [  0, 200],\n",
       "       [  0, 212],\n",
       "       [  0, 217],\n",
       "       [  0, 217],\n",
       "       [  0, 217],\n",
       "       [  0, 228],\n",
       "       [  0, 234],\n",
       "       [  0, 234],\n",
       "       [  0, 239],\n",
       "       [  0, 239],\n",
       "       [  0, 239],\n",
       "       [  0, 239],\n",
       "       [  0, 239],\n",
       "       [  0, 245],\n",
       "       [  0, 262],\n",
       "       [  0, 262],\n",
       "       [  0, 262],\n",
       "       [  0, 267],\n",
       "       [  0, 278],\n",
       "       [  0, 278],\n",
       "       [  0, 278],\n",
       "       [  0, 284],\n",
       "       [  0, 284],\n",
       "       [  0, 289],\n",
       "       [  0, 289],\n",
       "       [  0, 289],\n",
       "       [  0, 295],\n",
       "       [  0, 300],\n",
       "       [  0, 300],\n",
       "       [  0, 306],\n",
       "       [  0, 306],\n",
       "       [  0, 306],\n",
       "       [  0, 317],\n",
       "       [  0, 317],\n",
       "       [  0, 323],\n",
       "       [  0, 323],\n",
       "       [  0, 323],\n",
       "       [  0, 328],\n",
       "       [  0, 334],\n",
       "       [  0, 334],\n",
       "       [  0, 334],\n",
       "       [  0, 334],\n",
       "       [  1, 339],\n",
       "       [  0, 339],\n",
       "       [  1, 345],\n",
       "       [  0, 350],\n",
       "       [  1, 350],\n",
       "       [  0, 362],\n",
       "       [  0, 362],\n",
       "       [  0, 362],\n",
       "       [  1, 362],\n",
       "       [  1, 367],\n",
       "       [  0, 378],\n",
       "       [  0, 389],\n",
       "       [  0, 389],\n",
       "       [  0, 395],\n",
       "       [  0, 395],\n",
       "       [  0, 395],\n",
       "       [  0, 395],\n",
       "       [  0, 395],\n",
       "       [  0, 400],\n",
       "       [  0, 400],\n",
       "       [  0, 400],\n",
       "       [  0, 400],\n",
       "       [  0, 400],\n",
       "       [  0, 400],\n",
       "       [  0, 400],\n",
       "       [  0, 406],\n",
       "       [  0, 406],\n",
       "       [  0, 407],\n",
       "       [  0, 412],\n",
       "       [  0, 412],\n",
       "       [  0, 412],\n",
       "       [  0, 417],\n",
       "       [  0, 417],\n",
       "       [  0, 423],\n",
       "       [  0, 423],\n",
       "       [  0, 428],\n",
       "       [  0, 434],\n",
       "       [  0, 434],\n",
       "       [  0, 439],\n",
       "       [  0, 439],\n",
       "       [  0, 439],\n",
       "       [  0, 439],\n",
       "       [  0, 439],\n",
       "       [  0, 439],\n",
       "       [  0, 439],\n",
       "       [  0, 439],\n",
       "       [  0, 439],\n",
       "       [  0, 445],\n",
       "       [  0, 445],\n",
       "       [  0, 445],\n",
       "       [  0, 445],\n",
       "       [  0, 445],\n",
       "       [  0, 445],\n",
       "       [  0, 445],\n",
       "       [  0, 456],\n",
       "       [  0, 456],\n",
       "       [  0, 456],\n",
       "       [  0, 462],\n",
       "       [  0, 462],\n",
       "       [  0, 467],\n",
       "       [  0, 467],\n",
       "       [  0, 478],\n",
       "       [  1, 478],\n",
       "       [  1, 484],\n",
       "       [  1, 489],\n",
       "       [  0, 489],\n",
       "       [  1, 489],\n",
       "       [  0, 489],\n",
       "       [  1, 495],\n",
       "       [  1, 495],\n",
       "       [  1, 495],\n",
       "       [  0, 495],\n",
       "       [  0, 500],\n",
       "       [  1, 500],\n",
       "       [  0, 500],\n",
       "       [  1, 506],\n",
       "       [  0, 517],\n",
       "       [  0, 528],\n",
       "       [  0, 534],\n",
       "       [  1, 534],\n",
       "       [  0, 539],\n",
       "       [  0, 562],\n",
       "       [  2, 567],\n",
       "       [  0, 578],\n",
       "       [  0, 578],\n",
       "       [  2, 589],\n",
       "       [  0, 595],\n",
       "       [  2, 600],\n",
       "       [  0, 600],\n",
       "       [  0, 600],\n",
       "       [  0, 623],\n",
       "       [  1, 628],\n",
       "       [  1, 628],\n",
       "       [  1, 634],\n",
       "       [  1, 639],\n",
       "       [  1, 645],\n",
       "       [  1, 650],\n",
       "       [  0, 650],\n",
       "       [  0, 656],\n",
       "       [  0, 662],\n",
       "       [  0, 667],\n",
       "       [  0, 678],\n",
       "       [  0, 700],\n",
       "       [  0, 717],\n",
       "       [  1, 723],\n",
       "       [  1, 728],\n",
       "       [  1, 728],\n",
       "       [  1, 739],\n",
       "       [  1, 739],\n",
       "       [  1, 745],\n",
       "       [  1, 745],\n",
       "       [  2, 745],\n",
       "       [  2, 750],\n",
       "       [  1, 767],\n",
       "       [  1, 767],\n",
       "       [  1, 784],\n",
       "       [  1, 784],\n",
       "       [  2, 789],\n",
       "       [  1, 795],\n",
       "       [  1, 795],\n",
       "       [  2, 800],\n",
       "       [  1, 800],\n",
       "       [  1, 800],\n",
       "       [  2, 812],\n",
       "       [  0, 817],\n",
       "       [  0, 823],\n",
       "       [  0, 828],\n",
       "       [  0, 828],\n",
       "       [  2, 834],\n",
       "       [  2, 834],\n",
       "       [  2, 838],\n",
       "       [  2, 840],\n",
       "       [  1, 842],\n",
       "       [  2, 842],\n",
       "       [  2, 845],\n",
       "       [  2, 848],\n",
       "       [  2, 850],\n",
       "       [  0, 855],\n",
       "       [  1, 860],\n",
       "       [  3, 865],\n",
       "       [  2, 866],\n",
       "       [  2, 867],\n",
       "       [  2, 888],\n",
       "       [  2, 888],\n",
       "       [  2, 888],\n",
       "       [  3, 890],\n",
       "       [  2, 890],\n",
       "       [  2, 890],\n",
       "       [  2, 890],\n",
       "       [  2, 892],\n",
       "       [  3, 892],\n",
       "       [  3, 892],\n",
       "       [  2, 894],\n",
       "       [  2, 896],\n",
       "       [  3, 900]], dtype=int64)"
      ]
     },
     "execution_count": 17,
     "metadata": {},
     "output_type": "execute_result"
    }
   ],
   "source": [
    "X"
   ]
  },
  {
   "cell_type": "code",
   "execution_count": 19,
   "id": "2eb891a6-f1b3-48d9-9464-6268c412ea5e",
   "metadata": {},
   "outputs": [
    {
     "data": {
      "text/plain": [
       "array([0, 0, 0, 0, 0, 0, 0, 0, 1, 0, 0, 0, 0, 0, 0, 0, 0, 0, 0, 0, 0, 0,\n",
       "       0, 0, 0, 0, 0, 0, 0, 0, 0, 0, 0, 0, 0, 0, 0, 0, 0, 0, 0, 0, 0, 0,\n",
       "       0, 0, 0, 0, 0, 0, 0, 0, 0, 0, 0, 0, 0, 0, 0, 0, 0, 0, 0, 0, 0, 0,\n",
       "       0, 1, 0, 0, 1, 0, 0, 0, 0, 0, 0, 0, 0, 0, 0, 0, 0, 1, 0, 0, 0, 0,\n",
       "       0, 0, 0, 0, 0, 0, 0, 0, 0, 0, 0, 0, 0, 1, 0, 0, 0, 1, 0, 0, 0, 0,\n",
       "       0, 0, 0, 1, 0, 0, 0, 1, 0, 1, 1, 0, 1, 1, 1, 1, 1, 1, 1, 1, 1, 1,\n",
       "       1, 0, 0, 0, 1, 0, 1, 0, 0, 0, 1, 1, 0, 1, 0, 1, 1, 1, 0, 1, 1, 0,\n",
       "       1, 1, 0, 1, 0, 1, 1, 1, 1, 1, 1, 1, 1, 1, 1, 1, 1, 1, 1, 1, 1, 1,\n",
       "       1, 1, 1, 1, 1, 1, 0, 0, 1, 1, 1, 1, 0, 1, 1, 0, 1, 1, 0, 1, 1, 1,\n",
       "       1, 1, 0, 1, 1, 1, 1, 1, 1, 1, 1, 1, 0, 1, 1, 1, 1, 1, 0, 1, 1, 1,\n",
       "       1, 0, 0, 1, 1, 0], dtype=int64)"
      ]
     },
     "execution_count": 19,
     "metadata": {},
     "output_type": "execute_result"
    }
   ],
   "source": [
    "y"
   ]
  },
  {
   "cell_type": "markdown",
   "id": "73da63eb-7ec2-4e9b-a255-f2f258998447",
   "metadata": {},
   "source": [
    "<h2 style = \"color : Turquoise\"> Splitting the dataset into Training & Test set </h2>"
   ]
  },
  {
   "cell_type": "code",
   "execution_count": 21,
   "id": "4fbaa2dc-5b82-4d38-848d-4af6fcc51410",
   "metadata": {},
   "outputs": [],
   "source": [
    "from sklearn.model_selection import train_test_split\n",
    "X_train, X_test, y_train, y_test = train_test_split(X, y, test_size = 0.3, random_state = 21)"
   ]
  },
  {
   "cell_type": "markdown",
   "id": "40df8948-f620-49ff-84c7-df08e3e8ae9c",
   "metadata": {},
   "source": [
    "<h2 style = \"color : Turquoise\"> Feature Scaling </h2>"
   ]
  },
  {
   "cell_type": "code",
   "execution_count": 23,
   "id": "df20d1e2-0d19-4db1-9a64-8ee47b0a6175",
   "metadata": {},
   "outputs": [],
   "source": [
    "from sklearn.preprocessing import StandardScaler\n",
    "sc = StandardScaler()\n",
    "X_train = sc.fit_transform(X_train)\n",
    "X_test = sc.fit_transform(X_test)"
   ]
  },
  {
   "cell_type": "markdown",
   "id": "6f3a6203-b1a6-49d0-965f-b0e16b308006",
   "metadata": {},
   "source": [
    "<h2 style = \"color : Turquoise\"> KNN Training on Training set </h2>"
   ]
  },
  {
   "cell_type": "markdown",
   "id": "6664aa87-3b91-4718-adf0-2befad075017",
   "metadata": {},
   "source": [
    "Power parameter for the Minkowski metric. When p = 1, this is equivalent to using manhattan_distance (l1), and euclidean_distance (l2) for p = 2. For arbitrary p, minkowski_distance (l_p) is used."
   ]
  },
  {
   "cell_type": "code",
   "execution_count": 27,
   "id": "29aef372-8318-4952-b237-d6f0ecaa78cb",
   "metadata": {},
   "outputs": [
    {
     "data": {
      "text/html": [
       "<style>#sk-container-id-1 {color: black;background-color: white;}#sk-container-id-1 pre{padding: 0;}#sk-container-id-1 div.sk-toggleable {background-color: white;}#sk-container-id-1 label.sk-toggleable__label {cursor: pointer;display: block;width: 100%;margin-bottom: 0;padding: 0.3em;box-sizing: border-box;text-align: center;}#sk-container-id-1 label.sk-toggleable__label-arrow:before {content: \"▸\";float: left;margin-right: 0.25em;color: #696969;}#sk-container-id-1 label.sk-toggleable__label-arrow:hover:before {color: black;}#sk-container-id-1 div.sk-estimator:hover label.sk-toggleable__label-arrow:before {color: black;}#sk-container-id-1 div.sk-toggleable__content {max-height: 0;max-width: 0;overflow: hidden;text-align: left;background-color: #f0f8ff;}#sk-container-id-1 div.sk-toggleable__content pre {margin: 0.2em;color: black;border-radius: 0.25em;background-color: #f0f8ff;}#sk-container-id-1 input.sk-toggleable__control:checked~div.sk-toggleable__content {max-height: 200px;max-width: 100%;overflow: auto;}#sk-container-id-1 input.sk-toggleable__control:checked~label.sk-toggleable__label-arrow:before {content: \"▾\";}#sk-container-id-1 div.sk-estimator input.sk-toggleable__control:checked~label.sk-toggleable__label {background-color: #d4ebff;}#sk-container-id-1 div.sk-label input.sk-toggleable__control:checked~label.sk-toggleable__label {background-color: #d4ebff;}#sk-container-id-1 input.sk-hidden--visually {border: 0;clip: rect(1px 1px 1px 1px);clip: rect(1px, 1px, 1px, 1px);height: 1px;margin: -1px;overflow: hidden;padding: 0;position: absolute;width: 1px;}#sk-container-id-1 div.sk-estimator {font-family: monospace;background-color: #f0f8ff;border: 1px dotted black;border-radius: 0.25em;box-sizing: border-box;margin-bottom: 0.5em;}#sk-container-id-1 div.sk-estimator:hover {background-color: #d4ebff;}#sk-container-id-1 div.sk-parallel-item::after {content: \"\";width: 100%;border-bottom: 1px solid gray;flex-grow: 1;}#sk-container-id-1 div.sk-label:hover label.sk-toggleable__label {background-color: #d4ebff;}#sk-container-id-1 div.sk-serial::before {content: \"\";position: absolute;border-left: 1px solid gray;box-sizing: border-box;top: 0;bottom: 0;left: 50%;z-index: 0;}#sk-container-id-1 div.sk-serial {display: flex;flex-direction: column;align-items: center;background-color: white;padding-right: 0.2em;padding-left: 0.2em;position: relative;}#sk-container-id-1 div.sk-item {position: relative;z-index: 1;}#sk-container-id-1 div.sk-parallel {display: flex;align-items: stretch;justify-content: center;background-color: white;position: relative;}#sk-container-id-1 div.sk-item::before, #sk-container-id-1 div.sk-parallel-item::before {content: \"\";position: absolute;border-left: 1px solid gray;box-sizing: border-box;top: 0;bottom: 0;left: 50%;z-index: -1;}#sk-container-id-1 div.sk-parallel-item {display: flex;flex-direction: column;z-index: 1;position: relative;background-color: white;}#sk-container-id-1 div.sk-parallel-item:first-child::after {align-self: flex-end;width: 50%;}#sk-container-id-1 div.sk-parallel-item:last-child::after {align-self: flex-start;width: 50%;}#sk-container-id-1 div.sk-parallel-item:only-child::after {width: 0;}#sk-container-id-1 div.sk-dashed-wrapped {border: 1px dashed gray;margin: 0 0.4em 0.5em 0.4em;box-sizing: border-box;padding-bottom: 0.4em;background-color: white;}#sk-container-id-1 div.sk-label label {font-family: monospace;font-weight: bold;display: inline-block;line-height: 1.2em;}#sk-container-id-1 div.sk-label-container {text-align: center;}#sk-container-id-1 div.sk-container {/* jupyter's `normalize.less` sets `[hidden] { display: none; }` but bootstrap.min.css set `[hidden] { display: none !important; }` so we also need the `!important` here to be able to override the default hidden behavior on the sphinx rendered scikit-learn.org. See: https://github.com/scikit-learn/scikit-learn/issues/21755 */display: inline-block !important;position: relative;}#sk-container-id-1 div.sk-text-repr-fallback {display: none;}</style><div id=\"sk-container-id-1\" class=\"sk-top-container\"><div class=\"sk-text-repr-fallback\"><pre>KNeighborsClassifier()</pre><b>In a Jupyter environment, please rerun this cell to show the HTML representation or trust the notebook. <br />On GitHub, the HTML representation is unable to render, please try loading this page with nbviewer.org.</b></div><div class=\"sk-container\" hidden><div class=\"sk-item\"><div class=\"sk-estimator sk-toggleable\"><input class=\"sk-toggleable__control sk-hidden--visually\" id=\"sk-estimator-id-1\" type=\"checkbox\" checked><label for=\"sk-estimator-id-1\" class=\"sk-toggleable__label sk-toggleable__label-arrow\">KNeighborsClassifier</label><div class=\"sk-toggleable__content\"><pre>KNeighborsClassifier()</pre></div></div></div></div></div>"
      ],
      "text/plain": [
       "KNeighborsClassifier()"
      ]
     },
     "execution_count": 27,
     "metadata": {},
     "output_type": "execute_result"
    }
   ],
   "source": [
    "from sklearn.neighbors import KNeighborsClassifier\n",
    "classifier = KNeighborsClassifier(n_neighbors = 5, metric = 'minkowski', p = 2)\n",
    "classifier.fit(X_train, y_train)"
   ]
  },
  {
   "cell_type": "markdown",
   "id": "56e24596-5350-49f4-a4e5-2ce00d1ab129",
   "metadata": {},
   "source": [
    "<h2 style = \"color : Turquoise\"> Predicting </h2>"
   ]
  },
  {
   "cell_type": "code",
   "execution_count": 33,
   "id": "892cf04e-8b4c-4ad4-9acc-dc9e7e34b443",
   "metadata": {},
   "outputs": [
    {
     "name": "stdout",
     "output_type": "stream",
     "text": [
      "[1]\n"
     ]
    }
   ],
   "source": [
    "print(classifier.predict(sc.transform([[0, 578]])))"
   ]
  },
  {
   "cell_type": "markdown",
   "id": "54ddfbbc-ca82-4a54-8764-601db4d751de",
   "metadata": {},
   "source": [
    "<h2 style = \"color : Turquoise\"> Predicting the Test set results </h2>"
   ]
  },
  {
   "cell_type": "code",
   "execution_count": 35,
   "id": "16a38464-d6d4-48f5-b54d-bcc40686ea99",
   "metadata": {},
   "outputs": [
    {
     "name": "stdout",
     "output_type": "stream",
     "text": [
      "[[1 1]\n",
      " [1 1]\n",
      " [0 0]\n",
      " [1 1]\n",
      " [1 1]\n",
      " [0 0]\n",
      " [0 0]\n",
      " [1 1]\n",
      " [1 1]\n",
      " [0 0]\n",
      " [1 1]\n",
      " [0 0]\n",
      " [0 1]\n",
      " [0 0]\n",
      " [1 0]\n",
      " [0 0]\n",
      " [0 1]\n",
      " [0 0]\n",
      " [0 0]\n",
      " [0 0]\n",
      " [1 0]\n",
      " [0 0]\n",
      " [1 1]\n",
      " [0 0]\n",
      " [0 0]\n",
      " [0 1]\n",
      " [0 0]\n",
      " [1 1]\n",
      " [0 0]\n",
      " [1 1]\n",
      " [0 0]\n",
      " [0 0]\n",
      " [1 1]\n",
      " [1 1]\n",
      " [0 0]\n",
      " [0 0]\n",
      " [1 1]\n",
      " [1 1]\n",
      " [0 0]\n",
      " [0 0]\n",
      " [0 0]\n",
      " [1 1]\n",
      " [1 1]\n",
      " [0 0]\n",
      " [0 0]\n",
      " [0 0]\n",
      " [1 1]\n",
      " [0 0]\n",
      " [0 0]\n",
      " [1 1]\n",
      " [1 1]\n",
      " [0 0]\n",
      " [0 0]\n",
      " [0 0]\n",
      " [0 0]\n",
      " [1 1]\n",
      " [0 0]\n",
      " [1 1]\n",
      " [0 0]\n",
      " [1 1]\n",
      " [0 1]\n",
      " [0 0]\n",
      " [1 1]\n",
      " [0 0]\n",
      " [1 0]\n",
      " [0 0]\n",
      " [0 0]\n",
      " [0 1]]\n"
     ]
    }
   ],
   "source": [
    "y_pred = classifier.predict(X_test)\n",
    "print(np.concatenate((y_pred.reshape(len(y_pred), 1), y_test.reshape(len(y_test), 1)),1))"
   ]
  },
  {
   "cell_type": "markdown",
   "id": "207898de-b5d2-4644-b392-2a5ce3fce647",
   "metadata": {},
   "source": [
    "<h2 style = \"color : Turquoise\"> Confusion Matrix </h2>"
   ]
  },
  {
   "cell_type": "code",
   "execution_count": 43,
   "id": "c8ce78ca-7a0e-439c-b5db-3d432134227c",
   "metadata": {},
   "outputs": [
    {
     "name": "stdout",
     "output_type": "stream",
     "text": [
      "[[37  3]\n",
      " [ 5 23]]\n"
     ]
    },
    {
     "data": {
      "text/plain": [
       "0.8823529411764706"
      ]
     },
     "execution_count": 43,
     "metadata": {},
     "output_type": "execute_result"
    }
   ],
   "source": [
    "from sklearn.metrics import confusion_matrix, accuracy_score\n",
    "cm = confusion_matrix(y_test, y_pred)\n",
    "print(cm)\n",
    "accuracy_score(y_test, y_pred)"
   ]
  },
  {
   "cell_type": "markdown",
   "id": "90619fb1-f42d-4bc8-93fe-7ea67842c60e",
   "metadata": {},
   "source": [
    "<h2 style = \"color : Turquoise\"> Visualizing Test Set results </h2>"
   ]
  },
  {
   "cell_type": "code",
   "execution_count": 41,
   "id": "9c50479e-dd67-4ea0-a328-0fdf6f12841b",
   "metadata": {},
   "outputs": [],
   "source": [
    "import warnings\n",
    "warnings.filterwarnings('ignore')"
   ]
  },
  {
   "cell_type": "code",
   "execution_count": 47,
   "id": "e81779fd-66f4-457e-87d8-44825ddee321",
   "metadata": {},
   "outputs": [
    {
     "data": {
      "image/png": "[encoded data removed]",
      "text/plain": [
       "<Figure size 640x480 with 1 Axes>"
      ]
     },
     "metadata": {},
     "output_type": "display_data"
    }
   ],
   "source": [
    "from matplotlib.colors import ListedColormap\n",
    "X_set, y_set = sc.inverse_transform(X_test), y_test\n",
    "X1, X2 = np.meshgrid(np.arange(start = X_set[:, 0].min() - 0, stop = X_set[:, 0].max() + 3, step = 1),\n",
    "                     np.arange(start = X_set[:, 1].min() - 0, stop = X_set[:, 1].max() + 200, step = 1))\n",
    "plt.contourf(X1, X2, classifier.predict(sc.transform(np.array([X1.ravel(), X2.ravel()]).T)).reshape(X1.shape),\n",
    "             alpha = 0.75, cmap = ListedColormap(['red', 'green']))\n",
    "plt.xlim(X1.min(), X1.max())\n",
    "plt.ylim(X2.min(), X2.max())\n",
    "for i, j in enumerate(np.unique(y_set)):\n",
    "    plt.scatter(X_set[y_set == j, 0], X_set[y_set == j, 1], c = ListedColormap(['red', 'green'])(i), label = j)\n",
    "plt.title('KNN (Test set)')\n",
    "plt.xlabel('No of Existing Loans')\n",
    "plt.ylabel('Credit Score')\n",
    "plt.legend()\n",
    "plt.show()"
   ]
  },
  {
   "cell_type": "markdown",
   "id": "5fa29d54-d7c2-44a7-b6a2-a38834d1e502",
   "metadata": {},
   "source": [
    "<h2 style = \"color : Turquoise\"> Visualising Training set results </h2>"
   ]
  },
  {
   "cell_type": "code",
   "execution_count": 49,
   "id": "e3d515a7-564b-40b4-b23f-9c119048e9ad",
   "metadata": {},
   "outputs": [
    {
     "data": {
      "image/png": "[encoded data removed]",
      "text/plain": [
       "<Figure size 640x480 with 1 Axes>"
      ]
     },
     "metadata": {},
     "output_type": "display_data"
    }
   ],
   "source": [
    "from matplotlib.colors import ListedColormap\n",
    "X_set, y_set = sc.inverse_transform(X_train), y_train\n",
    "X1, X2 = np.meshgrid(np.arange(start = X_set[:, 0].min() - 0, stop = X_set[:, 0].max() + 3, step = 1),\n",
    "                     np.arange(start = X_set[:, 1].min() - 0, stop = X_set[:, 1].max() + 200, step = 1))\n",
    "plt.contourf(X1, X2, classifier.predict(sc.transform(np.array([X1.ravel(), X2.ravel()]).T)).reshape(X1.shape),\n",
    "             alpha = 0.75, cmap = ListedColormap(['red', 'green']))\n",
    "plt.xlim(X1.min(), X1.max())\n",
    "plt.ylim(X2.min(), X2.max())\n",
    "for i, j in enumerate(np.unique(y_set)):\n",
    "    plt.scatter(X_set[y_set == j, 0], X_set[y_set == j, 1], c = ListedColormap(['red', 'green'])(i), label = j)\n",
    "plt.title('KNN (Training set)')\n",
    "plt.xlabel('No of Existing Loans')\n",
    "plt.ylabel('Credit Score')\n",
    "plt.legend()\n",
    "plt.show()"
   ]
  },
  {
   "cell_type": "code",
   "execution_count": null,
   "id": "4faefa9d-9f5a-432d-92f8-55e954ceb008",
   "metadata": {},
   "outputs": [],
   "source": []
  }
 ],
 "metadata": {
  "kernelspec": {
   "display_name": "Python 3 (ipykernel)",
   "language": "python",
   "name": "python3"
  },
  "language_info": {
   "codemirror_mode": {
    "name": "ipython",
    "version": 3
   },
   "file_extension": ".py",
   "mimetype": "text/x-python",
   "name": "python",
   "nbconvert_exporter": "python",
   "pygments_lexer": "ipython3",
   "version": "3.11.7"
  }
 },
 "nbformat": 4,
 "nbformat_minor": 5
}
