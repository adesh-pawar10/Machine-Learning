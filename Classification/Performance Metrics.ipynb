{
 "cells": [
  {
   "cell_type": "markdown",
   "id": "9063a26e-ad7c-4e02-90c1-4ef6b2eda8b0",
   "metadata": {},
   "source": [
    "<h1 style = \"color : DarkTurquoise\"> Confusion Matrix </h1>"
   ]
  },
  {
   "cell_type": "markdown",
   "id": "f5cb538a-70df-4dd3-b0c3-e1fe183fcc0b",
   "metadata": {},
   "source": [
    "* A confusion matrix is a matrix that summarizes the performance of a machine learning model on a set of test data.\n",
    "\n",
    "* It is a means of displaying the number of accurate and inaccurate instances based on the model’s predictions.\n",
    "\n",
    "* It is often used to measure the performance of classification models, which aim to predict a categorical label for each input instance."
   ]
  },
  {
   "cell_type": "markdown",
   "id": "ef375d92-57c4-4c1c-992a-92e66002b558",
   "metadata": {},
   "source": [
    "The matrix displays the number of instances produced by the model on the test data.\n",
    "\n",
    "<b style = \"color : orangered\">1. True Positive (TP):</b> The model correctly predicted a positive outcome (the actual outcome was positive).\n",
    "\n",
    "<b style = \"color : orangered\">2. True Negative (TN):</b> The model correctly predicted a negative outcome (the actual outcome was negative).\n",
    "\n",
    "<b style = \"color : orangered\">3. False Positive (FP):</b> The model incorrectly predicted a positive outcome (the actual outcome was negative). Also known as a Type I error.\n",
    "\n",
    "<b style = \"color : orangered\">4. False Negative (FN):</b> The model incorrectly predicted a negative outcome (the actual outcome was positive). Also known as a Type II error."
   ]
  },
  {
   "cell_type": "markdown",
   "id": "f29d22f0-13e6-4f33-abc6-6a8419668659",
   "metadata": {},
   "source": [
    "<h2 style = \"color : DeepSkyBlue\"> Why do we need a Confusion Matrix? </h2>"
   ]
  },
  {
   "cell_type": "markdown",
   "id": "98997cc3-191d-41d2-9c86-6db1d4c94b78",
   "metadata": {},
   "source": [
    "* When assessing a classification model’s performance, a confusion matrix is essential.\n",
    "\n",
    "* It offers a thorough analysis of true positive, true negative, false positive, and false negative predictions, facilitating a more profound comprehension of a model's recall, accuracy, precision, and overall effectiveness in class distinction.\n",
    "\n",
    "* When there is an uneven class distribution in a dataset, this matrix is especially helpful in evaluating a model's performance beyond basic accuracy metrics."
   ]
  },
  {
   "cell_type": "markdown",
   "id": "0aa2434d-99bb-44b7-ac10-69eb95857b21",
   "metadata": {},
   "source": [
    "<h2 style = \"color : DeepSkyBlue\"> Metrics based on Confusion Matrix Data </h2>"
   ]
  },
  {
   "cell_type": "markdown",
   "id": "8754b721-7d03-4ecc-b072-1d8c402693cc",
   "metadata": {},
   "source": [
    "<h3 style = \"color : orangered\"> 1. Accuracy </h3>"
   ]
  },
  {
   "cell_type": "markdown",
   "id": "7abff9c2-43da-48c0-bb69-d46ee3b563c7",
   "metadata": {},
   "source": [
    "* Accuracy is used to measure the performance of the model.\n",
    "\n",
    "* It is the ratio of Total correct instances to the total instances."
   ]
  },
  {
   "attachments": {
    "fbec6dc2-f271-454d-a9a4-f33a33769097.png": {
     "image/png": "[encoded data removed]"
    }
   },
   "cell_type": "markdown",
   "id": "bbe9a625-38e7-49e6-b67c-23dff6c9ed3a",
   "metadata": {},
   "source": [
    "![image.png](attachment:fbec6dc2-f271-454d-a9a4-f33a33769097.png)\n",
    "\n",
    "\n",
    "\n",
    "\n",
    "For the above case:\n",
    "\n",
    "Accuracy = (5+3)/(5+3+1+1) = 8/10 = 0.8"
   ]
  },
  {
   "cell_type": "markdown",
   "id": "2bde2ed1-569a-4a02-9be8-4fc2fff1ace1",
   "metadata": {},
   "source": [
    "<h3 style = \"color : orangered\"> 2. Precision </h3>"
   ]
  },
  {
   "cell_type": "markdown",
   "id": "2b22dd0d-f5e4-4b94-9766-0fb1aba02398",
   "metadata": {},
   "source": [
    "* Precision is a measure of how accurate a model’s positive predictions are. \n",
    "\n",
    "* It is defined as the ratio of true positive predictions to the total number of positive predictions made by the model."
   ]
  },
  {
   "attachments": {
    "9d8c62ce-4fca-45d9-80a5-4de5b40b0961.png": {
     "image/png": "[encoded data removed]"
    }
   },
   "cell_type": "markdown",
   "id": "f72817a4-68fb-4788-b24d-9cf8287528e7",
   "metadata": {},
   "source": [
    "![image.png](attachment:9d8c62ce-4fca-45d9-80a5-4de5b40b0961.png)\n",
    "\n",
    "\n",
    "\n",
    "\n",
    "For the above case:\n",
    "\n",
    "Precision = 5/(5+1) =5/6 = 0.8333"
   ]
  },
  {
   "cell_type": "markdown",
   "id": "b6f802a3-c097-49ae-a0e4-0199ff737685",
   "metadata": {},
   "source": [
    "<h3 style = \"color : orangered\"> 3. Recall </h3>"
   ]
  },
  {
   "cell_type": "markdown",
   "id": "e2266d7b-995c-4cbc-8cba-85295edb15f6",
   "metadata": {},
   "source": [
    "* Recall measures the effectiveness of a classification model in identifying all relevant instances from a dataset.\n",
    "\n",
    "* It is the ratio of the number of true positive (TP) instances to the sum of true positive and false negative (FN) instances."
   ]
  },
  {
   "attachments": {
    "8da31482-79c6-4443-8e6c-1cf768a54751.png": {
     "image/png": "[encoded data removed]"
    }
   },
   "cell_type": "markdown",
   "id": "131bac80-98b9-4d4b-ba0c-5cc9ad62befa",
   "metadata": {},
   "source": [
    "![image.png](attachment:8da31482-79c6-4443-8e6c-1cf768a54751.png)\n",
    "\n",
    "\n",
    "\n",
    "For the above case:\n",
    "\n",
    "Recall = 5/(5+1) =5/6 = 0.8333"
   ]
  },
  {
   "cell_type": "markdown",
   "id": "a3fc4871-ba99-4c6b-b8ca-238edd605ebf",
   "metadata": {},
   "source": [
    "<b style = \"font-size : 15px\">Note:</b> We use precision when we want to minimize false positives, crucial in scenarios like spam email detection where misclassifying a non-spam message as spam is costly. And we use recall when minimizing false negatives is essential, as in medical diagnoses, where identifying all actual positive cases is critical, even if it results in some false positives."
   ]
  },
  {
   "cell_type": "markdown",
   "id": "a1efc757-2640-4b25-bd90-397b80aa9785",
   "metadata": {},
   "source": [
    "<h3 style = \"color : orangered\"> 4. F1-Score </h3>"
   ]
  },
  {
   "attachments": {
    "ef55d975-4a85-499d-9b7d-92be26059a1e.png": {
     "image/png": "[encoded data removed]"
    }
   },
   "cell_type": "markdown",
   "id": "0a568d71-ca8c-496c-bcad-ce6150805a9c",
   "metadata": {},
   "source": [
    "* F1-score is used to evaluate the overall performance of a classification model. It is the harmonic mean of precision and recall\n",
    "\n",
    "\n",
    "![image.png](attachment:ef55d975-4a85-499d-9b7d-92be26059a1e.png)\n",
    "\n",
    "\n",
    "\n",
    "For the above case:\n",
    "\n",
    "F1-Score: = (2* 0.8333* 0.8333)/( 0.8333+ 0.8333)  = 0.8333\n",
    "\n",
    "We balance precision and recall with the F1-score when a trade-off between minimizing false positives and false negatives is necessary, such as in information retrieval systems."
   ]
  },
  {
   "cell_type": "markdown",
   "id": "2444f704-5852-4699-a84b-147094386fce",
   "metadata": {},
   "source": [
    "<h3 style = \"color : orangered\"> 5. Specificity </h3>"
   ]
  },
  {
   "attachments": {
    "375cf38f-1a1f-4963-8cea-13b14bb92594.png": {
     "image/png": "[encoded data removed]"
    }
   },
   "cell_type": "markdown",
   "id": "af9add4f-1a18-4e89-82f9-6e887d4cdca8",
   "metadata": {},
   "source": [
    "* Specificity is another important metric in the evaluation of classification models, particularly in binary classification.\n",
    "\n",
    "* It measures the ability of a model to correctly identify negative instances.\n",
    "\n",
    "* Specificity is also known as the True Negative Rate.\n",
    "\n",
    "* Formula is given by:\n",
    "\n",
    "\n",
    "![image.png](attachment:375cf38f-1a1f-4963-8cea-13b14bb92594.png)\n",
    "\n",
    "\n",
    "\n",
    "For example,\n",
    "\n",
    "Specificity=3/(1+3)​=3/4=0.75"
   ]
  },
  {
   "cell_type": "markdown",
   "id": "aeba4ea2-3f5f-4829-bc77-708d1753024e",
   "metadata": {},
   "source": [
    "<h3 style = \"color : orangered\"> 6. Type 1 and Type 2 error </h3>"
   ]
  },
  {
   "cell_type": "markdown",
   "id": "9bc70ab1-c35c-4af7-9437-1adb02be209c",
   "metadata": {},
   "source": [
    "<h4 style = \"color : teal\"> 1. Type 1 error </h4>"
   ]
  },
  {
   "attachments": {
    "c6b38c8b-49a1-4a10-a601-96a4116b6145.png": {
     "image/png": "[encoded data removed]"
    }
   },
   "cell_type": "markdown",
   "id": "b980f3e6-7b66-491d-9af2-dcb4d479bd80",
   "metadata": {},
   "source": [
    "Type 1 error occurs when the model predicts a positive instance, but it is actually negative. Precision is affected by false positives, as it is the ratio of true positives to the sum of true positives and false positives.\n",
    "\n",
    "![image.png](attachment:c6b38c8b-49a1-4a10-a601-96a4116b6145.png)\n",
    "\n",
    "\n",
    "For example, in a courtroom scenario, a Type 1 Error, often referred to as a false positive, occurs when the court mistakenly convicts an individual as guilty when, in truth, they are innocent of the alleged crime. This grave error can have profound consequences, leading to the wrongful punishment of an innocent person who did not commit the offense in question. Preventing Type 1 Errors in legal proceedings is paramount to ensuring that justice is accurately served and innocent individuals are protected from unwarranted harm and punishment."
   ]
  },
  {
   "cell_type": "markdown",
   "id": "810a4eb9-5f1f-415b-9e9d-808fbd2e5163",
   "metadata": {},
   "source": [
    "<h4 style = \"color : teal\"> 2. Type 2 error </h4>"
   ]
  },
  {
   "attachments": {
    "177239f6-b265-463c-ba2f-b30098e8610d.png": {
     "image/png": "[encoded data removed]"
    }
   },
   "cell_type": "markdown",
   "id": "af9d1b05-70a7-42ba-b746-556a0a65a847",
   "metadata": {},
   "source": [
    "* Type 2 error occurs when the model fails to predict a positive instance. Recall is directly affected by false negatives, as it is the ratio of true positives to the sum of true positives and false negatives.\n",
    "\n",
    "* In the context of medical testing, a Type 2 Error, often known as a false negative, occurs when a diagnostic test fails to detect the presence of a disease in a patient who genuinely has it. The consequences of such an error are significant, as it may result in a delayed diagnosis and subsequent treatment.\n",
    "\n",
    "![image.png](attachment:177239f6-b265-463c-ba2f-b30098e8610d.png)\n",
    "\n",
    "\n",
    "* Precision emphasizes minimizing false positives, while recall focuses on minimizing false negatives."
   ]
  }
 ],
 "metadata": {
  "kernelspec": {
   "display_name": "Python 3 (ipykernel)",
   "language": "python",
   "name": "python3"
  },
  "language_info": {
   "codemirror_mode": {
    "name": "ipython",
    "version": 3
   },
   "file_extension": ".py",
   "mimetype": "text/x-python",
   "name": "python",
   "nbconvert_exporter": "python",
   "pygments_lexer": "ipython3",
   "version": "3.11.7"
  }
 },
 "nbformat": 4,
 "nbformat_minor": 5
}
