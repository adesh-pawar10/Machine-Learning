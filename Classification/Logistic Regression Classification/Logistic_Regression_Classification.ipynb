{
 "cells": [
  {
   "cell_type": "markdown",
   "id": "61db52ef-0ac3-4bcc-bf48-0b2728b3c830",
   "metadata": {},
   "source": [
    "<h1 style = \"color : dodgerblue\"> Logistic Regression Classification </h1>"
   ]
  },
  {
   "cell_type": "markdown",
   "id": "1a4f94dd-ed7c-4331-95b4-71ff003e48af",
   "metadata": {},
   "source": [
    "* Logistic regression is a supervised machine learning algorithm used for classification tasks where the goal is to predict the probability that an instance belongs to a given class or not.\n",
    "\n",
    "* Logistic regression is a statistical algorithm which analyze the relationship between two data factors."
   ]
  },
  {
   "cell_type": "markdown",
   "id": "3f15e6ff-cee2-47ef-9846-e76df6da257f",
   "metadata": {},
   "source": [
    "* Logistic regression is used for binary classification where we use sigmoid function, that takes input as independent variables and produces a probability value between 0 and 1.\n",
    "\n",
    "* For example, we have two classes Class 0 and Class 1 if the value of the logistic function for an input is greater than 0.5 (threshold value) then it belongs to Class 1 otherwise it belongs to Class 0. It’s referred to as regression because it is the extension of linear regression but is mainly used for classification problems."
   ]
  },
  {
   "cell_type": "markdown",
   "id": "bdccc206-6f9c-472f-9848-439e3b93cee2",
   "metadata": {},
   "source": [
    "<b style = \"color : orangered\"> Key Points: </b>\n",
    "\n",
    "* Logistic regression predicts the output of a categorical dependent variable. Therefore, the outcome must be a categorical or discrete value.\n",
    "\n",
    "* It can be either Yes or No, 0 or 1, true or False, etc. but instead of giving the exact value as 0 and 1, it gives the probabilistic values which lie between 0 and 1.\n",
    "\n",
    "* In Logistic regression, instead of fitting a regression line, we fit an “S” shaped logistic function, which predicts two maximum values (0 or 1). "
   ]
  },
  {
   "cell_type": "markdown",
   "id": "e37e19fd-a244-4069-bd51-62e19fc779a3",
   "metadata": {},
   "source": [
    "<h2 style = \"color : dodgerblue\"> Logistic Function – Sigmoid Function </h2>"
   ]
  },
  {
   "cell_type": "markdown",
   "id": "628d4eeb-a118-4d6d-98fd-ce41187d268f",
   "metadata": {},
   "source": [
    "* The sigmoid function is a mathematical function used to map the predicted values to probabilities.\n",
    "\n",
    "* It maps any real value into another value within a range of 0 and 1. The value of the logistic regression must be between 0 and 1, which cannot go beyond this limit, so it forms a curve like the “S” form.\n",
    "\n",
    "* The S-form curve is called the Sigmoid function or the logistic function.\n",
    "\n",
    "* In logistic regression, we use the concept of the threshold value, which defines the probability of either 0 or 1. Such as values above the threshold value tends to 1, and a value below the threshold values tends to 0."
   ]
  },
  {
   "attachments": {
    "4350ee5d-1629-46e2-8957-71f8b6f69ed1.webp": {
     "image/webp": "[encoded data removed]"
    }
   },
   "cell_type": "markdown",
   "id": "31f74f3f-fe6b-49a4-9298-cc7cd0079c01",
   "metadata": {},
   "source": [
    "The logistic function is defined as follows:\n",
    "\n",
    "\n",
    "![1_Gp5E23P5d2PY5D5kOo8ePw.webp](attachment:4350ee5d-1629-46e2-8957-71f8b6f69ed1.webp)"
   ]
  },
  {
   "cell_type": "markdown",
   "id": "7372e0f7-c997-4c07-8e36-5701617d17d0",
   "metadata": {},
   "source": [
    "Where:\n",
    "* X is the linear combination of input features\n",
    "X = b0 + b1x1 + b2x2 + ... + bnxn\n",
    "\n",
    "* e is the base of the natural logarithm (approximately 2.71828)\n",
    "\n",
    "* The sigmoid function maps any real-valued number into the interval [0, 1]"
   ]
  },
  {
   "cell_type": "markdown",
   "id": "a66b61cd-6294-4698-9b8e-8a1f9df54b80",
   "metadata": {},
   "source": [
    "<h2 style = \"color : dodgerblue\"> Types of Logistic Regression </h2>"
   ]
  },
  {
   "cell_type": "markdown",
   "id": "b3085d6e-30f2-44f5-9e26-dfca91224074",
   "metadata": {},
   "source": [
    "On the basis of the categories, Logistic Regression can be classified into three types:\n",
    "\n",
    "<b style = \"color : orangered\">1. Binomial:</b> In binomial Logistic regression, there can be only two possible types of the dependent variables, such as 0 or 1, Pass or Fail, etc.\n",
    "\n",
    "<b style = \"color : orangered\">2. Multinomial:</b> In multinomial Logistic regression, there can be 3 or more possible unordered types of the dependent variable, such as \"cat\", \"dogs\", or \"sheep\"\n",
    "\n",
    "<b style = \"color : orangered\">3. Ordinal:</b> In ordinal Logistic regression, there can be 3 or more possible ordered types of dependent variables, such as \"low\", \"Medium\", or \"High\"."
   ]
  },
  {
   "cell_type": "markdown",
   "id": "725d3776-211d-4938-8a9b-f57b252ab0eb",
   "metadata": {},
   "source": [
    "<h2 style = \"color : dodgerblue\"> Assumptions of Logistic Regression </h2>"
   ]
  },
  {
   "cell_type": "markdown",
   "id": "423321ea-22c5-452b-8052-2680faba1909",
   "metadata": {},
   "source": [
    "We will explore the assumptions of logistic regression as understanding these assumptions is important to ensure that we are using appropriate application of the model. The assumption include:\n",
    "\n",
    "<b style = \"color : Coral\">1. Independent observations:</b> Each observation is independent of the other. meaning there is no correlation between any input variables.\n",
    "\n",
    "<b style = \"color : Coral\">2. Binary dependent variables:</b> It takes the assumption that the dependent variable must be binary or dichotomous, meaning it can take only two values. For more than two categories SoftMax functions are used.\n",
    "\n",
    "<b style = \"color : Coral\">3. Linearity relationship between independent variables and log odds:</b> The relationship between the independent variables and the log odds of the dependent variable should be linear.\n",
    "\n",
    "<b style = \"color : Coral\">4. No outliers:</b> There should be no outliers in the dataset.\n",
    "\n",
    "<b style = \"color : Coral\">5. Large sample size:</b> The sample size is sufficiently large"
   ]
  },
  {
   "cell_type": "markdown",
   "id": "46f50ed5-c5ce-40e8-92ff-d8c1ce874dce",
   "metadata": {},
   "source": [
    "<h2 style = \"color : dodgerblue\"> Terminologies involved in Logistic Regression </h2>"
   ]
  },
  {
   "cell_type": "markdown",
   "id": "2c0aeb6d-89d4-4f20-bf3f-e509950c4298",
   "metadata": {},
   "source": [
    "Here are some common terms involved in logistic regression:\n",
    "\n",
    "<b style = \"color : Coral\">1. Independent variables:</b> The input characteristics or predictor factors applied to the dependent variable’s predictions.\n",
    "\n",
    "<b style = \"color : Coral\">2. Dependent variable:</b> The target variable in a logistic regression model, which we are trying to predict.\n",
    "\n",
    "<b style = \"color : Coral\">3. Logistic function:</b> The formula used to represent how the independent and dependent variables relate to one another. The logistic function transforms the input variables into a probability value between 0 and 1, which represents the likelihood of the dependent variable being 1 or 0.\n",
    "\n",
    "<b style = \"color : Coral\">4. Odds:</b> It is the ratio of something occurring to something not occurring. it is different from probability as the probability is the ratio of something occurring to everything that could possibly occur.\n",
    "\n",
    "<b style = \"color : Coral\">5. Log-odds:</b> The log-odds, also known as the logit function, is the natural logarithm of the odds. In logistic regression, the log odds of the dependent variable are modeled as a linear combination of the independent variables and the intercept.\n",
    "\n",
    "<b style = \"color : Coral\">6. Coefficient:</b> The logistic regression model’s estimated parameters, show how the independent and dependent variables relate to one another.\n",
    "\n",
    "<b style = \"color : Coral\">7. Intercept:</b> A constant term in the logistic regression model, which represents the log odds when all independent variables are equal to zero.\n",
    "\n",
    "<b style = \"color : Coral\">8. Maximum likelihood estimation:</b> The method used to estimate the coefficients of the logistic regression model, which maximizes the likelihood of observing the data given the model."
   ]
  }
 ],
 "metadata": {
  "kernelspec": {
   "display_name": "Python 3 (ipykernel)",
   "language": "python",
   "name": "python3"
  },
  "language_info": {
   "codemirror_mode": {
    "name": "ipython",
    "version": 3
   },
   "file_extension": ".py",
   "mimetype": "text/x-python",
   "name": "python",
   "nbconvert_exporter": "python",
   "pygments_lexer": "ipython3",
   "version": "3.11.7"
  }
 },
 "nbformat": 4,
 "nbformat_minor": 5
}
